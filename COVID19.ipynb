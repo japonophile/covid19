{
 "cells": [
  {
   "cell_type": "markdown",
   "metadata": {},
   "source": [
    "# Coronavirus science aka hacking nature #lockdown part 1"
   ]
  },
  {
   "cell_type": "markdown",
   "metadata": {},
   "source": [
    "<img src=\"https://upload.wikimedia.org/wikipedia/commons/a/a8/SARS-CoV-2_genome.svg\" width=\"800\" height=\"400\" title=\"SARS-CoV-2\">"
   ]
  },
  {
   "cell_type": "markdown",
   "metadata": {},
   "source": [
    "https://www.ncbi.nlm.nih.gov/nuccore/NC_045512"
   ]
  },
  {
   "cell_type": "code",
   "execution_count": 1,
   "metadata": {},
   "outputs": [],
   "source": [
    "cc = \"\"\"\n",
    "        1 attaaaggtt tataccttcc caggtaacaa accaaccaac tttcgatctc ttgtagatct\n",
    "       61 gttctctaaa cgaactttaa aatctgtgtg gctgtcactc ggctgcatgc ttagtgcact\n",
    "      121 cacgcagtat aattaataac taattactgt cgttgacagg acacgagtaa ctcgtctatc\n",
    "      181 ttctgcaggc tgcttacggt ttcgtccgtg ttgcagccga tcatcagcac atctaggttt\n",
    "      241 cgtccgggtg tgaccgaaag gtaagatgga gagccttgtc cctggtttca acgagaaaac\n",
    "      301 acacgtccaa ctcagtttgc ctgttttaca ggttcgcgac gtgctcgtac gtggctttgg\n",
    "      361 agactccgtg gaggaggtct tatcagaggc acgtcaacat cttaaagatg gcacttgtgg\n",
    "      421 cttagtagaa gttgaaaaag gcgttttgcc tcaacttgaa cagccctatg tgttcatcaa\n",
    "      481 acgttcggat gctcgaactg cacctcatgg tcatgttatg gttgagctgg tagcagaact\n",
    "      541 cgaaggcatt cagtacggtc gtagtggtga gacacttggt gtccttgtcc ctcatgtggg\n",
    "      601 cgaaatacca gtggcttacc gcaaggttct tcttcgtaag aacggtaata aaggagctgg\n",
    "      661 tggccatagt tacggcgccg atctaaagtc atttgactta ggcgacgagc ttggcactga\n",
    "      721 tccttatgaa gattttcaag aaaactggaa cactaaacat agcagtggtg ttacccgtga\n",
    "      781 actcatgcgt gagcttaacg gaggggcata cactcgctat gtcgataaca acttctgtgg\n",
    "      841 ccctgatggc taccctcttg agtgcattaa agaccttcta gcacgtgctg gtaaagcttc\n",
    "      901 atgcactttg tccgaacaac tggactttat tgacactaag aggggtgtat actgctgccg\n",
    "      961 tgaacatgag catgaaattg cttggtacac ggaacgttct gaaaagagct atgaattgca\n",
    "     1021 gacacctttt gaaattaaat tggcaaagaa atttgacacc ttcaatgggg aatgtccaaa\n",
    "     1081 ttttgtattt cccttaaatt ccataatcaa gactattcaa ccaagggttg aaaagaaaaa\n",
    "     1141 gcttgatggc tttatgggta gaattcgatc tgtctatcca gttgcgtcac caaatgaatg\n",
    "     1201 caaccaaatg tgcctttcaa ctctcatgaa gtgtgatcat tgtggtgaaa cttcatggca\n",
    "     1261 gacgggcgat tttgttaaag ccacttgcga attttgtggc actgagaatt tgactaaaga\n",
    "     1321 aggtgccact acttgtggtt acttacccca aaatgctgtt gttaaaattt attgtccagc\n",
    "     1381 atgtcacaat tcagaagtag gacctgagca tagtcttgcc gaataccata atgaatctgg\n",
    "     1441 cttgaaaacc attcttcgta agggtggtcg cactattgcc tttggaggct gtgtgttctc\n",
    "     1501 ttatgttggt tgccataaca agtgtgccta ttgggttcca cgtgctagcg ctaacatagg\n",
    "     1561 ttgtaaccat acaggtgttg ttggagaagg ttccgaaggt cttaatgaca accttcttga\n",
    "     1621 aatactccaa aaagagaaag tcaacatcaa tattgttggt gactttaaac ttaatgaaga\n",
    "     1681 gatcgccatt attttggcat ctttttctgc ttccacaagt gcttttgtgg aaactgtgaa\n",
    "     1741 aggtttggat tataaagcat tcaaacaaat tgttgaatcc tgtggtaatt ttaaagttac\n",
    "     1801 aaaaggaaaa gctaaaaaag gtgcctggaa tattggtgaa cagaaatcaa tactgagtcc\n",
    "     1861 tctttatgca tttgcatcag aggctgctcg tgttgtacga tcaattttct cccgcactct\n",
    "     1921 tgaaactgct caaaattctg tgcgtgtttt acagaaggcc gctataacaa tactagatgg\n",
    "     1981 aatttcacag tattcactga gactcattga tgctatgatg ttcacatctg atttggctac\n",
    "     2041 taacaatcta gttgtaatgg cctacattac aggtggtgtt gttcagttga cttcgcagtg\n",
    "     2101 gctaactaac atctttggca ctgtttatga aaaactcaaa cccgtccttg attggcttga\n",
    "     2161 agagaagttt aaggaaggtg tagagtttct tagagacggt tgggaaattg ttaaatttat\n",
    "     2221 ctcaacctgt gcttgtgaaa ttgtcggtgg acaaattgtc acctgtgcaa aggaaattaa\n",
    "     2281 ggagagtgtt cagacattct ttaagcttgt aaataaattt ttggctttgt gtgctgactc\n",
    "     2341 tatcattatt ggtggagcta aacttaaagc cttgaattta ggtgaaacat ttgtcacgca\n",
    "     2401 ctcaaaggga ttgtacagaa agtgtgttaa atccagagaa gaaactggcc tactcatgcc\n",
    "     2461 tctaaaagcc ccaaaagaaa ttatcttctt agagggagaa acacttccca cagaagtgtt\n",
    "     2521 aacagaggaa gttgtcttga aaactggtga tttacaacca ttagaacaac ctactagtga\n",
    "     2581 agctgttgaa gctccattgg ttggtacacc agtttgtatt aacgggctta tgttgctcga\n",
    "     2641 aatcaaagac acagaaaagt actgtgccct tgcacctaat atgatggtaa caaacaatac\n",
    "     2701 cttcacactc aaaggcggtg caccaacaaa ggttactttt ggtgatgaca ctgtgataga\n",
    "     2761 agtgcaaggt tacaagagtg tgaatatcac ttttgaactt gatgaaagga ttgataaagt\n",
    "     2821 acttaatgag aagtgctctg cctatacagt tgaactcggt acagaagtaa atgagttcgc\n",
    "     2881 ctgtgttgtg gcagatgctg tcataaaaac tttgcaacca gtatctgaat tacttacacc\n",
    "     2941 actgggcatt gatttagatg agtggagtat ggctacatac tacttatttg atgagtctgg\n",
    "     3001 tgagtttaaa ttggcttcac atatgtattg ttctttctac cctccagatg aggatgaaga\n",
    "     3061 agaaggtgat tgtgaagaag aagagtttga gccatcaact caatatgagt atggtactga\n",
    "     3121 agatgattac caaggtaaac ctttggaatt tggtgccact tctgctgctc ttcaacctga\n",
    "     3181 agaagagcaa gaagaagatt ggttagatga tgatagtcaa caaactgttg gtcaacaaga\n",
    "     3241 cggcagtgag gacaatcaga caactactat tcaaacaatt gttgaggttc aacctcaatt\n",
    "     3301 agagatggaa cttacaccag ttgttcagac tattgaagtg aatagtttta gtggttattt\n",
    "     3361 aaaacttact gacaatgtat acattaaaaa tgcagacatt gtggaagaag ctaaaaaggt\n",
    "     3421 aaaaccaaca gtggttgtta atgcagccaa tgtttacctt aaacatggag gaggtgttgc\n",
    "     3481 aggagcctta aataaggcta ctaacaatgc catgcaagtt gaatctgatg attacatagc\n",
    "     3541 tactaatgga ccacttaaag tgggtggtag ttgtgtttta agcggacaca atcttgctaa\n",
    "     3601 acactgtctt catgttgtcg gcccaaatgt taacaaaggt gaagacattc aacttcttaa\n",
    "     3661 gagtgcttat gaaaatttta atcagcacga agttctactt gcaccattat tatcagctgg\n",
    "     3721 tatttttggt gctgacccta tacattcttt aagagtttgt gtagatactg ttcgcacaaa\n",
    "     3781 tgtctactta gctgtctttg ataaaaatct ctatgacaaa cttgtttcaa gctttttgga\n",
    "     3841 aatgaagagt gaaaagcaag ttgaacaaaa gatcgctgag attcctaaag aggaagttaa\n",
    "     3901 gccatttata actgaaagta aaccttcagt tgaacagaga aaacaagatg ataagaaaat\n",
    "     3961 caaagcttgt gttgaagaag ttacaacaac tctggaagaa actaagttcc tcacagaaaa\n",
    "     4021 cttgttactt tatattgaca ttaatggcaa tcttcatcca gattctgcca ctcttgttag\n",
    "     4081 tgacattgac atcactttct taaagaaaga tgctccatat atagtgggtg atgttgttca\n",
    "     4141 agagggtgtt ttaactgctg tggttatacc tactaaaaag gctggtggca ctactgaaat\n",
    "     4201 gctagcgaaa gctttgagaa aagtgccaac agacaattat ataaccactt acccgggtca\n",
    "     4261 gggtttaaat ggttacactg tagaggaggc aaagacagtg cttaaaaagt gtaaaagtgc\n",
    "     4321 cttttacatt ctaccatcta ttatctctaa tgagaagcaa gaaattcttg gaactgtttc\n",
    "     4381 ttggaatttg cgagaaatgc ttgcacatgc agaagaaaca cgcaaattaa tgcctgtctg\n",
    "     4441 tgtggaaact aaagccatag tttcaactat acagcgtaaa tataagggta ttaaaataca\n",
    "     4501 agagggtgtg gttgattatg gtgctagatt ttacttttac accagtaaaa caactgtagc\n",
    "     4561 gtcacttatc aacacactta acgatctaaa tgaaactctt gttacaatgc cacttggcta\n",
    "     4621 tgtaacacat ggcttaaatt tggaagaagc tgctcggtat atgagatctc tcaaagtgcc\n",
    "     4681 agctacagtt tctgtttctt cacctgatgc tgttacagcg tataatggtt atcttacttc\n",
    "     4741 ttcttctaaa acacctgaag aacattttat tgaaaccatc tcacttgctg gttcctataa\n",
    "     4801 agattggtcc tattctggac aatctacaca actaggtata gaatttctta agagaggtga\n",
    "     4861 taaaagtgta tattacacta gtaatcctac cacattccac ctagatggtg aagttatcac\n",
    "     4921 ctttgacaat cttaagacac ttctttcttt gagagaagtg aggactatta aggtgtttac\n",
    "     4981 aacagtagac aacattaacc tccacacgca agttgtggac atgtcaatga catatggaca\n",
    "     5041 acagtttggt ccaacttatt tggatggagc tgatgttact aaaataaaac ctcataattc\n",
    "     5101 acatgaaggt aaaacatttt atgttttacc taatgatgac actctacgtg ttgaggcttt\n",
    "     5161 tgagtactac cacacaactg atcctagttt tctgggtagg tacatgtcag cattaaatca\n",
    "     5221 cactaaaaag tggaaatacc cacaagttaa tggtttaact tctattaaat gggcagataa\n",
    "     5281 caactgttat cttgccactg cattgttaac actccaacaa atagagttga agtttaatcc\n",
    "     5341 acctgctcta caagatgctt attacagagc aagggctggt gaagctgcta acttttgtgc\n",
    "     5401 acttatctta gcctactgta ataagacagt aggtgagtta ggtgatgtta gagaaacaat\n",
    "     5461 gagttacttg tttcaacatg ccaatttaga ttcttgcaaa agagtcttga acgtggtgtg\n",
    "     5521 taaaacttgt ggacaacagc agacaaccct taagggtgta gaagctgtta tgtacatggg\n",
    "     5581 cacactttct tatgaacaat ttaagaaagg tgttcagata ccttgtacgt gtggtaaaca\n",
    "     5641 agctacaaaa tatctagtac aacaggagtc accttttgtt atgatgtcag caccacctgc\n",
    "     5701 tcagtatgaa cttaagcatg gtacatttac ttgtgctagt gagtacactg gtaattacca\n",
    "     5761 gtgtggtcac tataaacata taacttctaa agaaactttg tattgcatag acggtgcttt\n",
    "     5821 acttacaaag tcctcagaat acaaaggtcc tattacggat gttttctaca aagaaaacag\n",
    "     5881 ttacacaaca accataaaac cagttactta taaattggat ggtgttgttt gtacagaaat\n",
    "     5941 tgaccctaag ttggacaatt attataagaa agacaattct tatttcacag agcaaccaat\n",
    "     6001 tgatcttgta ccaaaccaac catatccaaa cgcaagcttc gataatttta agtttgtatg\n",
    "     6061 tgataatatc aaatttgctg atgatttaaa ccagttaact ggttataaga aacctgcttc\n",
    "     6121 aagagagctt aaagttacat ttttccctga cttaaatggt gatgtggtgg ctattgatta\n",
    "     6181 taaacactac acaccctctt ttaagaaagg agctaaattg ttacataaac ctattgtttg\n",
    "     6241 gcatgttaac aatgcaacta ataaagccac gtataaacca aatacctggt gtatacgttg\n",
    "     6301 tctttggagc acaaaaccag ttgaaacatc aaattcgttt gatgtactga agtcagagga\n",
    "     6361 cgcgcaggga atggataatc ttgcctgcga agatctaaaa ccagtctctg aagaagtagt\n",
    "     6421 ggaaaatcct accatacaga aagacgttct tgagtgtaat gtgaaaacta ccgaagttgt\n",
    "     6481 aggagacatt atacttaaac cagcaaataa tagtttaaaa attacagaag aggttggcca\n",
    "     6541 cacagatcta atggctgctt atgtagacaa ttctagtctt actattaaga aacctaatga\n",
    "     6601 attatctaga gtattaggtt tgaaaaccct tgctactcat ggtttagctg ctgttaatag\n",
    "     6661 tgtcccttgg gatactatag ctaattatgc taagcctttt cttaacaaag ttgttagtac\n",
    "     6721 aactactaac atagttacac ggtgtttaaa ccgtgtttgt actaattata tgccttattt\n",
    "     6781 ctttacttta ttgctacaat tgtgtacttt tactagaagt acaaattcta gaattaaagc\n",
    "     6841 atctatgccg actactatag caaagaatac tgttaagagt gtcggtaaat tttgtctaga\n",
    "     6901 ggcttcattt aattatttga agtcacctaa tttttctaaa ctgataaata ttataatttg\n",
    "     6961 gtttttacta ttaagtgttt gcctaggttc tttaatctac tcaaccgctg ctttaggtgt\n",
    "     7021 tttaatgtct aatttaggca tgccttctta ctgtactggt tacagagaag gctatttgaa\n",
    "     7081 ctctactaat gtcactattg caacctactg tactggttct ataccttgta gtgtttgtct\n",
    "     7141 tagtggttta gattctttag acacctatcc ttctttagaa actatacaaa ttaccatttc\n",
    "     7201 atcttttaaa tgggatttaa ctgcttttgg cttagttgca gagtggtttt tggcatatat\n",
    "     7261 tcttttcact aggtttttct atgtacttgg attggctgca atcatgcaat tgtttttcag\n",
    "     7321 ctattttgca gtacatttta ttagtaattc ttggcttatg tggttaataa ttaatcttgt\n",
    "     7381 acaaatggcc ccgatttcag ctatggttag aatgtacatc ttctttgcat cattttatta\n",
    "     7441 tgtatggaaa agttatgtgc atgttgtaga cggttgtaat tcatcaactt gtatgatgtg\n",
    "     7501 ttacaaacgt aatagagcaa caagagtcga atgtacaact attgttaatg gtgttagaag\n",
    "     7561 gtccttttat gtctatgcta atggaggtaa aggcttttgc aaactacaca attggaattg\n",
    "     7621 tgttaattgt gatacattct gtgctggtag tacatttatt agtgatgaag ttgcgagaga\n",
    "     7681 cttgtcacta cagtttaaaa gaccaataaa tcctactgac cagtcttctt acatcgttga\n",
    "     7741 tagtgttaca gtgaagaatg gttccatcca tctttacttt gataaagctg gtcaaaagac\n",
    "     7801 ttatgaaaga cattctctct ctcattttgt taacttagac aacctgagag ctaataacac\n",
    "     7861 taaaggttca ttgcctatta atgttatagt ttttgatggt aaatcaaaat gtgaagaatc\n",
    "     7921 atctgcaaaa tcagcgtctg tttactacag tcagcttatg tgtcaaccta tactgttact\n",
    "     7981 agatcaggca ttagtgtctg atgttggtga tagtgcggaa gttgcagtta aaatgtttga\n",
    "     8041 tgcttacgtt aatacgtttt catcaacttt taacgtacca atggaaaaac tcaaaacact\n",
    "     8101 agttgcaact gcagaagctg aacttgcaaa gaatgtgtcc ttagacaatg tcttatctac\n",
    "     8161 ttttatttca gcagctcggc aagggtttgt tgattcagat gtagaaacta aagatgttgt\n",
    "     8221 tgaatgtctt aaattgtcac atcaatctga catagaagtt actggcgata gttgtaataa\n",
    "     8281 ctatatgctc acctataaca aagttgaaaa catgacaccc cgtgaccttg gtgcttgtat\n",
    "     8341 tgactgtagt gcgcgtcata ttaatgcgca ggtagcaaaa agtcacaaca ttgctttgat\n",
    "     8401 atggaacgtt aaagatttca tgtcattgtc tgaacaacta cgaaaacaaa tacgtagtgc\n",
    "     8461 tgctaaaaag aataacttac cttttaagtt gacatgtgca actactagac aagttgttaa\n",
    "     8521 tgttgtaaca acaaagatag cacttaaggg tggtaaaatt gttaataatt ggttgaagca\n",
    "     8581 gttaattaaa gttacacttg tgttcctttt tgttgctgct attttctatt taataacacc\n",
    "     8641 tgttcatgtc atgtctaaac atactgactt ttcaagtgaa atcataggat acaaggctat\n",
    "     8701 tgatggtggt gtcactcgtg acatagcatc tacagatact tgttttgcta acaaacatgc\n",
    "     8761 tgattttgac acatggttta gccagcgtgg tggtagttat actaatgaca aagcttgccc\n",
    "     8821 attgattgct gcagtcataa caagagaagt gggttttgtc gtgcctggtt tgcctggcac\n",
    "     8881 gatattacgc acaactaatg gtgacttttt gcatttctta cctagagttt ttagtgcagt\n",
    "     8941 tggtaacatc tgttacacac catcaaaact tatagagtac actgactttg caacatcagc\n",
    "     9001 ttgtgttttg gctgctgaat gtacaatttt taaagatgct tctggtaagc cagtaccata\n",
    "     9061 ttgttatgat accaatgtac tagaaggttc tgttgcttat gaaagtttac gccctgacac\n",
    "     9121 acgttatgtg ctcatggatg gctctattat tcaatttcct aacacctacc ttgaaggttc\n",
    "     9181 tgttagagtg gtaacaactt ttgattctga gtactgtagg cacggcactt gtgaaagatc\n",
    "     9241 agaagctggt gtttgtgtat ctactagtgg tagatgggta cttaacaatg attattacag\n",
    "     9301 atctttacca ggagttttct gtggtgtaga tgctgtaaat ttacttacta atatgtttac\n",
    "     9361 accactaatt caacctattg gtgctttgga catatcagca tctatagtag ctggtggtat\n",
    "     9421 tgtagctatc gtagtaacat gccttgccta ctattttatg aggtttagaa gagcttttgg\n",
    "     9481 tgaatacagt catgtagttg cctttaatac tttactattc cttatgtcat tcactgtact\n",
    "     9541 ctgtttaaca ccagtttact cattcttacc tggtgtttat tctgttattt acttgtactt\n",
    "     9601 gacattttat cttactaatg atgtttcttt tttagcacat attcagtgga tggttatgtt\n",
    "     9661 cacaccttta gtacctttct ggataacaat tgcttatatc atttgtattt ccacaaagca\n",
    "     9721 tttctattgg ttctttagta attacctaaa gagacgtgta gtctttaatg gtgtttcctt\n",
    "     9781 tagtactttt gaagaagctg cgctgtgcac ctttttgtta aataaagaaa tgtatctaaa\n",
    "     9841 gttgcgtagt gatgtgctat tacctcttac gcaatataat agatacttag ctctttataa\n",
    "     9901 taagtacaag tattttagtg gagcaatgga tacaactagc tacagagaag ctgcttgttg\n",
    "     9961 tcatctcgca aaggctctca atgacttcag taactcaggt tctgatgttc tttaccaacc\n",
    "    10021 accacaaacc tctatcacct cagctgtttt gcagagtggt tttagaaaaa tggcattccc\n",
    "    10081 atctggtaaa gttgagggtt gtatggtaca agtaacttgt ggtacaacta cacttaacgg\n",
    "    10141 tctttggctt gatgacgtag tttactgtcc aagacatgtg atctgcacct ctgaagacat\n",
    "    10201 gcttaaccct aattatgaag atttactcat tcgtaagtct aatcataatt tcttggtaca\n",
    "    10261 ggctggtaat gttcaactca gggttattgg acattctatg caaaattgtg tacttaagct\n",
    "    10321 taaggttgat acagccaatc ctaagacacc taagtataag tttgttcgca ttcaaccagg\n",
    "    10381 acagactttt tcagtgttag cttgttacaa tggttcacca tctggtgttt accaatgtgc\n",
    "    10441 tatgaggccc aatttcacta ttaagggttc attccttaat ggttcatgtg gtagtgttgg\n",
    "    10501 ttttaacata gattatgact gtgtctcttt ttgttacatg caccatatgg aattaccaac\n",
    "    10561 tggagttcat gctggcacag acttagaagg taacttttat ggaccttttg ttgacaggca\n",
    "    10621 aacagcacaa gcagctggta cggacacaac tattacagtt aatgttttag cttggttgta\n",
    "    10681 cgctgctgtt ataaatggag acaggtggtt tctcaatcga tttaccacaa ctcttaatga\n",
    "    10741 ctttaacctt gtggctatga agtacaatta tgaacctcta acacaagacc atgttgacat\n",
    "    10801 actaggacct ctttctgctc aaactggaat tgccgtttta gatatgtgtg cttcattaaa\n",
    "    10861 agaattactg caaaatggta tgaatggacg taccatattg ggtagtgctt tattagaaga\n",
    "    10921 tgaatttaca ccttttgatg ttgttagaca atgctcaggt gttactttcc aaagtgcagt\n",
    "    10981 gaaaagaaca atcaagggta cacaccactg gttgttactc acaattttga cttcactttt\n",
    "    11041 agttttagtc cagagtactc aatggtcttt gttctttttt ttgtatgaaa atgccttttt\n",
    "    11101 accttttgct atgggtatta ttgctatgtc tgcttttgca atgatgtttg tcaaacataa\n",
    "    11161 gcatgcattt ctctgtttgt ttttgttacc ttctcttgcc actgtagctt attttaatat\n",
    "    11221 ggtctatatg cctgctagtt gggtgatgcg tattatgaca tggttggata tggttgatac\n",
    "    11281 tagtttgtct ggttttaagc taaaagactg tgttatgtat gcatcagctg tagtgttact\n",
    "    11341 aatccttatg acagcaagaa ctgtgtatga tgatggtgct aggagagtgt ggacacttat\n",
    "    11401 gaatgtcttg acactcgttt ataaagttta ttatggtaat gctttagatc aagccatttc\n",
    "    11461 catgtgggct cttataatct ctgttacttc taactactca ggtgtagtta caactgtcat\n",
    "    11521 gtttttggcc agaggtattg tttttatgtg tgttgagtat tgccctattt tcttcataac\n",
    "    11581 tggtaataca cttcagtgta taatgctagt ttattgtttc ttaggctatt tttgtacttg\n",
    "    11641 ttactttggc ctcttttgtt tactcaaccg ctactttaga ctgactcttg gtgtttatga\n",
    "    11701 ttacttagtt tctacacagg agtttagata tatgaattca cagggactac tcccacccaa\n",
    "    11761 gaatagcata gatgccttca aactcaacat taaattgttg ggtgttggtg gcaaaccttg\n",
    "    11821 tatcaaagta gccactgtac agtctaaaat gtcagatgta aagtgcacat cagtagtctt\n",
    "    11881 actctcagtt ttgcaacaac tcagagtaga atcatcatct aaattgtggg ctcaatgtgt\n",
    "    11941 ccagttacac aatgacattc tcttagctaa agatactact gaagcctttg aaaaaatggt\n",
    "    12001 ttcactactt tctgttttgc tttccatgca gggtgctgta gacataaaca agctttgtga\n",
    "    12061 agaaatgctg gacaacaggg caaccttaca agctatagcc tcagagttta gttcccttcc\n",
    "    12121 atcatatgca gcttttgcta ctgctcaaga agcttatgag caggctgttg ctaatggtga\n",
    "    12181 ttctgaagtt gttcttaaaa agttgaagaa gtctttgaat gtggctaaat ctgaatttga\n",
    "    12241 ccgtgatgca gccatgcaac gtaagttgga aaagatggct gatcaagcta tgacccaaat\n",
    "    12301 gtataaacag gctagatctg aggacaagag ggcaaaagtt actagtgcta tgcagacaat\n",
    "    12361 gcttttcact atgcttagaa agttggataa tgatgcactc aacaacatta tcaacaatgc\n",
    "    12421 aagagatggt tgtgttccct tgaacataat acctcttaca acagcagcca aactaatggt\n",
    "    12481 tgtcatacca gactataaca catataaaaa tacgtgtgat ggtacaacat ttacttatgc\n",
    "    12541 atcagcattg tgggaaatcc aacaggttgt agatgcagat agtaaaattg ttcaacttag\n",
    "    12601 tgaaattagt atggacaatt cacctaattt agcatggcct cttattgtaa cagctttaag\n",
    "    12661 ggccaattct gctgtcaaat tacagaataa tgagcttagt cctgttgcac tacgacagat\n",
    "    12721 gtcttgtgct gccggtacta cacaaactgc ttgcactgat gacaatgcgt tagcttacta\n",
    "    12781 caacacaaca aagggaggta ggtttgtact tgcactgtta tccgatttac aggatttgaa\n",
    "    12841 atgggctaga ttccctaaga gtgatggaac tggtactatc tatacagaac tggaaccacc\n",
    "    12901 ttgtaggttt gttacagaca cacctaaagg tcctaaagtg aagtatttat actttattaa\n",
    "    12961 aggattaaac aacctaaata gaggtatggt acttggtagt ttagctgcca cagtacgtct\n",
    "    13021 acaagctggt aatgcaacag aagtgcctgc caattcaact gtattatctt tctgtgcttt\n",
    "    13081 tgctgtagat gctgctaaag cttacaaaga ttatctagct agtgggggac aaccaatcac\n",
    "    13141 taattgtgtt aagatgttgt gtacacacac tggtactggt caggcaataa cagttacacc\n",
    "    13201 ggaagccaat atggatcaag aatcctttgg tggtgcatcg tgttgtctgt actgccgttg\n",
    "    13261 ccacatagat catccaaatc ctaaaggatt ttgtgactta aaaggtaagt atgtacaaat\n",
    "    13321 acctacaact tgtgctaatg accctgtggg ttttacactt aaaaacacag tctgtaccgt\n",
    "    13381 ctgcggtatg tggaaaggtt atggctgtag ttgtgatcaa ctccgcgaac ccatgcttca\n",
    "    13441 gtcagctgat gcacaatcgt ttttaaacgg gtttgcggtg taagtgcagc ccgtcttaca\n",
    "    13501 ccgtgcggca caggcactag tactgatgtc gtatacaggg cttttgacat ctacaatgat\n",
    "    13561 aaagtagctg gttttgctaa attcctaaaa actaattgtt gtcgcttcca agaaaaggac\n",
    "    13621 gaagatgaca atttaattga ttcttacttt gtagttaaga gacacacttt ctctaactac\n",
    "    13681 caacatgaag aaacaattta taatttactt aaggattgtc cagctgttgc taaacatgac\n",
    "    13741 ttctttaagt ttagaataga cggtgacatg gtaccacata tatcacgtca acgtcttact\n",
    "    13801 aaatacacaa tggcagacct cgtctatgct ttaaggcatt ttgatgaagg taattgtgac\n",
    "    13861 acattaaaag aaatacttgt cacatacaat tgttgtgatg atgattattt caataaaaag\n",
    "    13921 gactggtatg attttgtaga aaacccagat atattacgcg tatacgccaa cttaggtgaa\n",
    "    13981 cgtgtacgcc aagctttgtt aaaaacagta caattctgtg atgccatgcg aaatgctggt\n",
    "    14041 attgttggtg tactgacatt agataatcaa gatctcaatg gtaactggta tgatttcggt\n",
    "    14101 gatttcatac aaaccacgcc aggtagtgga gttcctgttg tagattctta ttattcattg\n",
    "    14161 ttaatgccta tattaacctt gaccagggct ttaactgcag agtcacatgt tgacactgac\n",
    "    14221 ttaacaaagc cttacattaa gtgggatttg ttaaaatatg acttcacgga agagaggtta\n",
    "    14281 aaactctttg accgttattt taaatattgg gatcagacat accacccaaa ttgtgttaac\n",
    "    14341 tgtttggatg acagatgcat tctgcattgt gcaaacttta atgttttatt ctctacagtg\n",
    "    14401 ttcccaccta caagttttgg accactagtg agaaaaatat ttgttgatgg tgttccattt\n",
    "    14461 gtagtttcaa ctggatacca cttcagagag ctaggtgttg tacataatca ggatgtaaac\n",
    "    14521 ttacatagct ctagacttag ttttaaggaa ttacttgtgt atgctgctga ccctgctatg\n",
    "    14581 cacgctgctt ctggtaatct attactagat aaacgcacta cgtgcttttc agtagctgca\n",
    "    14641 cttactaaca atgttgcttt tcaaactgtc aaacccggta attttaacaa agacttctat\n",
    "    14701 gactttgctg tgtctaaggg tttctttaag gaaggaagtt ctgttgaatt aaaacacttc\n",
    "    14761 ttctttgctc aggatggtaa tgctgctatc agcgattatg actactatcg ttataatcta\n",
    "    14821 ccaacaatgt gtgatatcag acaactacta tttgtagttg aagttgttga taagtacttt\n",
    "    14881 gattgttacg atggtggctg tattaatgct aaccaagtca tcgtcaacaa cctagacaaa\n",
    "    14941 tcagctggtt ttccatttaa taaatggggt aaggctagac tttattatga ttcaatgagt\n",
    "    15001 tatgaggatc aagatgcact tttcgcatat acaaaacgta atgtcatccc tactataact\n",
    "    15061 caaatgaatc ttaagtatgc cattagtgca aagaatagag ctcgcaccgt agctggtgtc\n",
    "    15121 tctatctgta gtactatgac caatagacag tttcatcaaa aattattgaa atcaatagcc\n",
    "    15181 gccactagag gagctactgt agtaattgga acaagcaaat tctatggtgg ttggcacaac\n",
    "    15241 atgttaaaaa ctgtttatag tgatgtagaa aaccctcacc ttatgggttg ggattatcct\n",
    "    15301 aaatgtgata gagccatgcc taacatgctt agaattatgg cctcacttgt tcttgctcgc\n",
    "    15361 aaacatacaa cgtgttgtag cttgtcacac cgtttctata gattagctaa tgagtgtgct\n",
    "    15421 caagtattga gtgaaatggt catgtgtggc ggttcactat atgttaaacc aggtggaacc\n",
    "    15481 tcatcaggag atgccacaac tgcttatgct aatagtgttt ttaacatttg tcaagctgtc\n",
    "    15541 acggccaatg ttaatgcact tttatctact gatggtaaca aaattgccga taagtatgtc\n",
    "    15601 cgcaatttac aacacagact ttatgagtgt ctctatagaa atagagatgt tgacacagac\n",
    "    15661 tttgtgaatg agttttacgc atatttgcgt aaacatttct caatgatgat actctctgac\n",
    "    15721 gatgctgttg tgtgtttcaa tagcacttat gcatctcaag gtctagtggc tagcataaag\n",
    "    15781 aactttaagt cagttcttta ttatcaaaac aatgttttta tgtctgaagc aaaatgttgg\n",
    "    15841 actgagactg accttactaa aggacctcat gaattttgct ctcaacatac aatgctagtt\n",
    "    15901 aaacagggtg atgattatgt gtaccttcct tacccagatc catcaagaat cctaggggcc\n",
    "    15961 ggctgttttg tagatgatat cgtaaaaaca gatggtacac ttatgattga acggttcgtg\n",
    "    16021 tctttagcta tagatgctta cccacttact aaacatccta atcaggagta tgctgatgtc\n",
    "    16081 tttcatttgt acttacaata cataagaaag ctacatgatg agttaacagg acacatgtta\n",
    "    16141 gacatgtatt ctgttatgct tactaatgat aacacttcaa ggtattggga acctgagttt\n",
    "    16201 tatgaggcta tgtacacacc gcatacagtc ttacaggctg ttggggcttg tgttctttgc\n",
    "    16261 aattcacaga cttcattaag atgtggtgct tgcatacgta gaccattctt atgttgtaaa\n",
    "    16321 tgctgttacg accatgtcat atcaacatca cataaattag tcttgtctgt taatccgtat\n",
    "    16381 gtttgcaatg ctccaggttg tgatgtcaca gatgtgactc aactttactt aggaggtatg\n",
    "    16441 agctattatt gtaaatcaca taaaccaccc attagttttc cattgtgtgc taatggacaa\n",
    "    16501 gtttttggtt tatataaaaa tacatgtgtt ggtagcgata atgttactga ctttaatgca\n",
    "    16561 attgcaacat gtgactggac aaatgctggt gattacattt tagctaacac ctgtactgaa\n",
    "    16621 agactcaagc tttttgcagc agaaacgctc aaagctactg aggagacatt taaactgtct\n",
    "    16681 tatggtattg ctactgtacg tgaagtgctg tctgacagag aattacatct ttcatgggaa\n",
    "    16741 gttggtaaac ctagaccacc acttaaccga aattatgtct ttactggtta tcgtgtaact\n",
    "    16801 aaaaacagta aagtacaaat aggagagtac acctttgaaa aaggtgacta tggtgatgct\n",
    "    16861 gttgtttacc gaggtacaac aacttacaaa ttaaatgttg gtgattattt tgtgctgaca\n",
    "    16921 tcacatacag taatgccatt aagtgcacct acactagtgc cacaagagca ctatgttaga\n",
    "    16981 attactggct tatacccaac actcaatatc tcagatgagt tttctagcaa tgttgcaaat\n",
    "    17041 tatcaaaagg ttggtatgca aaagtattct acactccagg gaccacctgg tactggtaag\n",
    "    17101 agtcattttg ctattggcct agctctctac tacccttctg ctcgcatagt gtatacagct\n",
    "    17161 tgctctcatg ccgctgttga tgcactatgt gagaaggcat taaaatattt gcctatagat\n",
    "    17221 aaatgtagta gaattatacc tgcacgtgct cgtgtagagt gttttgataa attcaaagtg\n",
    "    17281 aattcaacat tagaacagta tgtcttttgt actgtaaatg cattgcctga gacgacagca\n",
    "    17341 gatatagttg tctttgatga aatttcaatg gccacaaatt atgatttgag tgttgtcaat\n",
    "    17401 gccagattac gtgctaagca ctatgtgtac attggcgacc ctgctcaatt acctgcacca\n",
    "    17461 cgcacattgc taactaaggg cacactagaa ccagaatatt tcaattcagt gtgtagactt\n",
    "    17521 atgaaaacta taggtccaga catgttcctc ggaacttgtc ggcgttgtcc tgctgaaatt\n",
    "    17581 gttgacactg tgagtgcttt ggtttatgat aataagctta aagcacataa agacaaatca\n",
    "    17641 gctcaatgct ttaaaatgtt ttataagggt gttatcacgc atgatgtttc atctgcaatt\n",
    "    17701 aacaggccac aaataggcgt ggtaagagaa ttccttacac gtaaccctgc ttggagaaaa\n",
    "    17761 gctgtcttta tttcacctta taattcacag aatgctgtag cctcaaagat tttgggacta\n",
    "    17821 ccaactcaaa ctgttgattc atcacagggc tcagaatatg actatgtcat attcactcaa\n",
    "    17881 accactgaaa cagctcactc ttgtaatgta aacagattta atgttgctat taccagagca\n",
    "    17941 aaagtaggca tactttgcat aatgtctgat agagaccttt atgacaagtt gcaatttaca\n",
    "    18001 agtcttgaaa ttccacgtag gaatgtggca actttacaag ctgaaaatgt aacaggactc\n",
    "    18061 tttaaagatt gtagtaaggt aatcactggg ttacatccta cacaggcacc tacacacctc\n",
    "    18121 agtgttgaca ctaaattcaa aactgaaggt ttatgtgttg acatacctgg catacctaag\n",
    "    18181 gacatgacct atagaagact catctctatg atgggtttta aaatgaatta tcaagttaat\n",
    "    18241 ggttacccta acatgtttat cacccgcgaa gaagctataa gacatgtacg tgcatggatt\n",
    "    18301 ggcttcgatg tcgaggggtg tcatgctact agagaagctg ttggtaccaa tttaccttta\n",
    "    18361 cagctaggtt tttctacagg tgttaaccta gttgctgtac ctacaggtta tgttgataca\n",
    "    18421 cctaataata cagatttttc cagagttagt gctaaaccac cgcctggaga tcaatttaaa\n",
    "    18481 cacctcatac cacttatgta caaaggactt ccttggaatg tagtgcgtat aaagattgta\n",
    "    18541 caaatgttaa gtgacacact taaaaatctc tctgacagag tcgtatttgt cttatgggca\n",
    "    18601 catggctttg agttgacatc tatgaagtat tttgtgaaaa taggacctga gcgcacctgt\n",
    "    18661 tgtctatgtg atagacgtgc cacatgcttt tccactgctt cagacactta tgcctgttgg\n",
    "    18721 catcattcta ttggatttga ttacgtctat aatccgttta tgattgatgt tcaacaatgg\n",
    "    18781 ggttttacag gtaacctaca aagcaaccat gatctgtatt gtcaagtcca tggtaatgca\n",
    "    18841 catgtagcta gttgtgatgc aatcatgact aggtgtctag ctgtccacga gtgctttgtt\n",
    "    18901 aagcgtgttg actggactat tgaatatcct ataattggtg atgaactgaa gattaatgcg\n",
    "    18961 gcttgtagaa aggttcaaca catggttgtt aaagctgcat tattagcaga caaattccca\n",
    "    19021 gttcttcacg acattggtaa ccctaaagct attaagtgtg tacctcaagc tgatgtagaa\n",
    "    19081 tggaagttct atgatgcaca gccttgtagt gacaaagctt ataaaataga agaattattc\n",
    "    19141 tattcttatg ccacacattc tgacaaattc acagatggtg tatgcctatt ttggaattgc\n",
    "    19201 aatgtcgata gatatcctgc taattccatt gtttgtagat ttgacactag agtgctatct\n",
    "    19261 aaccttaact tgcctggttg tgatggtggc agtttgtatg taaataaaca tgcattccac\n",
    "    19321 acaccagctt ttgataaaag tgcttttgtt aatttaaaac aattaccatt tttctattac\n",
    "    19381 tctgacagtc catgtgagtc tcatggaaaa caagtagtgt cagatataga ttatgtacca\n",
    "    19441 ctaaagtctg ctacgtgtat aacacgttgc aatttaggtg gtgctgtctg tagacatcat\n",
    "    19501 gctaatgagt acagattgta tctcgatgct tataacatga tgatctcagc tggctttagc\n",
    "    19561 ttgtgggttt acaaacaatt tgatacttat aacctctgga acacttttac aagacttcag\n",
    "    19621 agtttagaaa atgtggcttt taatgttgta aataagggac actttgatgg acaacagggt\n",
    "    19681 gaagtaccag tttctatcat taataacact gtttacacaa aagttgatgg tgttgatgta\n",
    "    19741 gaattgtttg aaaataaaac aacattacct gttaatgtag catttgagct ttgggctaag\n",
    "    19801 cgcaacatta aaccagtacc agaggtgaaa atactcaata atttgggtgt ggacattgct\n",
    "    19861 gctaatactg tgatctggga ctacaaaaga gatgctccag cacatatatc tactattggt\n",
    "    19921 gtttgttcta tgactgacat agccaagaaa ccaactgaaa cgatttgtgc accactcact\n",
    "    19981 gtcttttttg atggtagagt tgatggtcaa gtagacttat ttagaaatgc ccgtaatggt\n",
    "    20041 gttcttatta cagaaggtag tgttaaaggt ttacaaccat ctgtaggtcc caaacaagct\n",
    "    20101 agtcttaatg gagtcacatt aattggagaa gccgtaaaaa cacagttcaa ttattataag\n",
    "    20161 aaagttgatg gtgttgtcca acaattacct gaaacttact ttactcagag tagaaattta\n",
    "    20221 caagaattta aacccaggag tcaaatggaa attgatttct tagaattagc tatggatgaa\n",
    "    20281 ttcattgaac ggtataaatt agaaggctat gccttcgaac atatcgttta tggagatttt\n",
    "    20341 agtcatagtc agttaggtgg tttacatcta ctgattggac tagctaaacg ttttaaggaa\n",
    "    20401 tcaccttttg aattagaaga ttttattcct atggacagta cagttaaaaa ctatttcata\n",
    "    20461 acagatgcgc aaacaggttc atctaagtgt gtgtgttctg ttattgattt attacttgat\n",
    "    20521 gattttgttg aaataataaa atcccaagat ttatctgtag tttctaaggt tgtcaaagtg\n",
    "    20581 actattgact atacagaaat ttcatttatg ctttggtgta aagatggcca tgtagaaaca\n",
    "    20641 ttttacccaa aattacaatc tagtcaagcg tggcaaccgg gtgttgctat gcctaatctt\n",
    "    20701 tacaaaatgc aaagaatgct attagaaaag tgtgaccttc aaaattatgg tgatagtgca\n",
    "    20761 acattaccta aaggcataat gatgaatgtc gcaaaatata ctcaactgtg tcaatattta\n",
    "    20821 aacacattaa cattagctgt accctataat atgagagtta tacattttgg tgctggttct\n",
    "    20881 gataaaggag ttgcaccagg tacagctgtt ttaagacagt ggttgcctac gggtacgctg\n",
    "    20941 cttgtcgatt cagatcttaa tgactttgtc tctgatgcag attcaacttt gattggtgat\n",
    "    21001 tgtgcaactg tacatacagc taataaatgg gatctcatta ttagtgatat gtacgaccct\n",
    "    21061 aagactaaaa atgttacaaa agaaaatgac tctaaagagg gttttttcac ttacatttgt\n",
    "    21121 gggtttatac aacaaaagct agctcttgga ggttccgtgg ctataaagat aacagaacat\n",
    "    21181 tcttggaatg ctgatcttta taagctcatg ggacacttcg catggtggac agcctttgtt\n",
    "    21241 actaatgtga atgcgtcatc atctgaagca tttttaattg gatgtaatta tcttggcaaa\n",
    "    21301 ccacgcgaac aaatagatgg ttatgtcatg catgcaaatt acatattttg gaggaataca\n",
    "    21361 aatccaattc agttgtcttc ctattcttta tttgacatga gtaaatttcc ccttaaatta\n",
    "    21421 aggggtactg ctgttatgtc tttaaaagaa ggtcaaatca atgatatgat tttatctctt\n",
    "    21481 cttagtaaag gtagacttat aattagagaa aacaacagag ttgttatttc tagtgatgtt\n",
    "    21541 cttgttaaca actaaacgaa caatgtttgt ttttcttgtt ttattgccac tagtctctag\n",
    "    21601 tcagtgtgtt aatcttacaa ccagaactca attaccccct gcatacacta attctttcac\n",
    "    21661 acgtggtgtt tattaccctg acaaagtttt cagatcctca gttttacatt caactcagga\n",
    "    21721 cttgttctta cctttctttt ccaatgttac ttggttccat gctatacatg tctctgggac\n",
    "    21781 caatggtact aagaggtttg ataaccctgt cctaccattt aatgatggtg tttattttgc\n",
    "    21841 ttccactgag aagtctaaca taataagagg ctggattttt ggtactactt tagattcgaa\n",
    "    21901 gacccagtcc ctacttattg ttaataacgc tactaatgtt gttattaaag tctgtgaatt\n",
    "    21961 tcaattttgt aatgatccat ttttgggtgt ttattaccac aaaaacaaca aaagttggat\n",
    "    22021 ggaaagtgag ttcagagttt attctagtgc gaataattgc acttttgaat atgtctctca\n",
    "    22081 gccttttctt atggaccttg aaggaaaaca gggtaatttc aaaaatctta gggaatttgt\n",
    "    22141 gtttaagaat attgatggtt attttaaaat atattctaag cacacgccta ttaatttagt\n",
    "    22201 gcgtgatctc cctcagggtt tttcggcttt agaaccattg gtagatttgc caataggtat\n",
    "    22261 taacatcact aggtttcaaa ctttacttgc tttacataga agttatttga ctcctggtga\n",
    "    22321 ttcttcttca ggttggacag ctggtgctgc agcttattat gtgggttatc ttcaacctag\n",
    "    22381 gacttttcta ttaaaatata atgaaaatgg aaccattaca gatgctgtag actgtgcact\n",
    "    22441 tgaccctctc tcagaaacaa agtgtacgtt gaaatccttc actgtagaaa aaggaatcta\n",
    "    22501 tcaaacttct aactttagag tccaaccaac agaatctatt gttagatttc ctaatattac\n",
    "    22561 aaacttgtgc ccttttggtg aagtttttaa cgccaccaga tttgcatctg tttatgcttg\n",
    "    22621 gaacaggaag agaatcagca actgtgttgc tgattattct gtcctatata attccgcatc\n",
    "    22681 attttccact tttaagtgtt atggagtgtc tcctactaaa ttaaatgatc tctgctttac\n",
    "    22741 taatgtctat gcagattcat ttgtaattag aggtgatgaa gtcagacaaa tcgctccagg\n",
    "    22801 gcaaactgga aagattgctg attataatta taaattacca gatgatttta caggctgcgt\n",
    "    22861 tatagcttgg aattctaaca atcttgattc taaggttggt ggtaattata attacctgta\n",
    "    22921 tagattgttt aggaagtcta atctcaaacc ttttgagaga gatatttcaa ctgaaatcta\n",
    "    22981 tcaggccggt agcacacctt gtaatggtgt tgaaggtttt aattgttact ttcctttaca\n",
    "    23041 atcatatggt ttccaaccca ctaatggtgt tggttaccaa ccatacagag tagtagtact\n",
    "    23101 ttcttttgaa cttctacatg caccagcaac tgtttgtgga cctaaaaagt ctactaattt\n",
    "    23161 ggttaaaaac aaatgtgtca atttcaactt caatggttta acaggcacag gtgttcttac\n",
    "    23221 tgagtctaac aaaaagtttc tgcctttcca acaatttggc agagacattg ctgacactac\n",
    "    23281 tgatgctgtc cgtgatccac agacacttga gattcttgac attacaccat gttcttttgg\n",
    "    23341 tggtgtcagt gttataacac caggaacaaa tacttctaac caggttgctg ttctttatca\n",
    "    23401 ggatgttaac tgcacagaag tccctgttgc tattcatgca gatcaactta ctcctacttg\n",
    "    23461 gcgtgtttat tctacaggtt ctaatgtttt tcaaacacgt gcaggctgtt taataggggc\n",
    "    23521 tgaacatgtc aacaactcat atgagtgtga catacccatt ggtgcaggta tatgcgctag\n",
    "    23581 ttatcagact cagactaatt ctcctcggcg ggcacgtagt gtagctagtc aatccatcat\n",
    "    23641 tgcctacact atgtcacttg gtgcagaaaa ttcagttgct tactctaata actctattgc\n",
    "    23701 catacccaca aattttacta ttagtgttac cacagaaatt ctaccagtgt ctatgaccaa\n",
    "    23761 gacatcagta gattgtacaa tgtacatttg tggtgattca actgaatgca gcaatctttt\n",
    "    23821 gttgcaatat ggcagttttt gtacacaatt aaaccgtgct ttaactggaa tagctgttga\n",
    "    23881 acaagacaaa aacacccaag aagtttttgc acaagtcaaa caaatttaca aaacaccacc\n",
    "    23941 aattaaagat tttggtggtt ttaatttttc acaaatatta ccagatccat caaaaccaag\n",
    "    24001 caagaggtca tttattgaag atctactttt caacaaagtg acacttgcag atgctggctt\n",
    "    24061 catcaaacaa tatggtgatt gccttggtga tattgctgct agagacctca tttgtgcaca\n",
    "    24121 aaagtttaac ggccttactg ttttgccacc tttgctcaca gatgaaatga ttgctcaata\n",
    "    24181 cacttctgca ctgttagcgg gtacaatcac ttctggttgg acctttggtg caggtgctgc\n",
    "    24241 attacaaata ccatttgcta tgcaaatggc ttataggttt aatggtattg gagttacaca\n",
    "    24301 gaatgttctc tatgagaacc aaaaattgat tgccaaccaa tttaatagtg ctattggcaa\n",
    "    24361 aattcaagac tcactttctt ccacagcaag tgcacttgga aaacttcaag atgtggtcaa\n",
    "    24421 ccaaaatgca caagctttaa acacgcttgt taaacaactt agctccaatt ttggtgcaat\n",
    "    24481 ttcaagtgtt ttaaatgata tcctttcacg tcttgacaaa gttgaggctg aagtgcaaat\n",
    "    24541 tgataggttg atcacaggca gacttcaaag tttgcagaca tatgtgactc aacaattaat\n",
    "    24601 tagagctgca gaaatcagag cttctgctaa tcttgctgct actaaaatgt cagagtgtgt\n",
    "    24661 acttggacaa tcaaaaagag ttgatttttg tggaaagggc tatcatctta tgtccttccc\n",
    "    24721 tcagtcagca cctcatggtg tagtcttctt gcatgtgact tatgtccctg cacaagaaaa\n",
    "    24781 gaacttcaca actgctcctg ccatttgtca tgatggaaaa gcacactttc ctcgtgaagg\n",
    "    24841 tgtctttgtt tcaaatggca cacactggtt tgtaacacaa aggaattttt atgaaccaca\n",
    "    24901 aatcattact acagacaaca catttgtgtc tggtaactgt gatgttgtaa taggaattgt\n",
    "    24961 caacaacaca gtttatgatc ctttgcaacc tgaattagac tcattcaagg aggagttaga\n",
    "    25021 taaatatttt aagaatcata catcaccaga tgttgattta ggtgacatct ctggcattaa\n",
    "    25081 tgcttcagtt gtaaacattc aaaaagaaat tgaccgcctc aatgaggttg ccaagaattt\n",
    "    25141 aaatgaatct ctcatcgatc tccaagaact tggaaagtat gagcagtata taaaatggcc\n",
    "    25201 atggtacatt tggctaggtt ttatagctgg cttgattgcc atagtaatgg tgacaattat\n",
    "    25261 gctttgctgt atgaccagtt gctgtagttg tctcaagggc tgttgttctt gtggatcctg\n",
    "    25321 ctgcaaattt gatgaagacg actctgagcc agtgctcaaa ggagtcaaat tacattacac\n",
    "    25381 ataaacgaac ttatggattt gtttatgaga atcttcacaa ttggaactgt aactttgaag\n",
    "    25441 caaggtgaaa tcaaggatgc tactccttca gattttgttc gcgctactgc aacgataccg\n",
    "    25501 atacaagcct cactcccttt cggatggctt attgttggcg ttgcacttct tgctgttttt\n",
    "    25561 cagagcgctt ccaaaatcat aaccctcaaa aagagatggc aactagcact ctccaagggt\n",
    "    25621 gttcactttg tttgcaactt gctgttgttg tttgtaacag tttactcaca ccttttgctc\n",
    "    25681 gttgctgctg gccttgaagc cccttttctc tatctttatg ctttagtcta cttcttgcag\n",
    "    25741 agtataaact ttgtaagaat aataatgagg ctttggcttt gctggaaatg ccgttccaaa\n",
    "    25801 aacccattac tttatgatgc caactatttt ctttgctggc atactaattg ttacgactat\n",
    "    25861 tgtatacctt acaatagtgt aacttcttca attgtcatta cttcaggtga tggcacaaca\n",
    "    25921 agtcctattt ctgaacatga ctaccagatt ggtggttata ctgaaaaatg ggaatctgga\n",
    "    25981 gtaaaagact gtgttgtatt acacagttac ttcacttcag actattacca gctgtactca\n",
    "    26041 actcaattga gtacagacac tggtgttgaa catgttacct tcttcatcta caataaaatt\n",
    "    26101 gttgatgagc ctgaagaaca tgtccaaatt cacacaatcg acggttcatc cggagttgtt\n",
    "    26161 aatccagtaa tggaaccaat ttatgatgaa ccgacgacga ctactagcgt gcctttgtaa\n",
    "    26221 gcacaagctg atgagtacga acttatgtac tcattcgttt cggaagagac aggtacgtta\n",
    "    26281 atagttaata gcgtacttct ttttcttgct ttcgtggtat tcttgctagt tacactagcc\n",
    "    26341 atccttactg cgcttcgatt gtgtgcgtac tgctgcaata ttgttaacgt gagtcttgta\n",
    "    26401 aaaccttctt tttacgttta ctctcgtgtt aaaaatctga attcttctag agttcctgat\n",
    "    26461 cttctggtct aaacgaacta aatattatat tagtttttct gtttggaact ttaattttag\n",
    "    26521 ccatggcaga ttccaacggt actattaccg ttgaagagct taaaaagctc cttgaacaat\n",
    "    26581 ggaacctagt aataggtttc ctattcctta catggatttg tcttctacaa tttgcctatg\n",
    "    26641 ccaacaggaa taggtttttg tatataatta agttaatttt cctctggctg ttatggccag\n",
    "    26701 taactttagc ttgttttgtg cttgctgctg tttacagaat aaattggatc accggtggaa\n",
    "    26761 ttgctatcgc aatggcttgt cttgtaggct tgatgtggct cagctacttc attgcttctt\n",
    "    26821 tcagactgtt tgcgcgtacg cgttccatgt ggtcattcaa tccagaaact aacattcttc\n",
    "    26881 tcaacgtgcc actccatggc actattctga ccagaccgct tctagaaagt gaactcgtaa\n",
    "    26941 tcggagctgt gatccttcgt ggacatcttc gtattgctgg acaccatcta ggacgctgtg\n",
    "    27001 acatcaagga cctgcctaaa gaaatcactg ttgctacatc acgaacgctt tcttattaca\n",
    "    27061 aattgggagc ttcgcagcgt gtagcaggtg actcaggttt tgctgcatac agtcgctaca\n",
    "    27121 ggattggcaa ctataaatta aacacagacc attccagtag cagtgacaat attgctttgc\n",
    "    27181 ttgtacagta agtgacaaca gatgtttcat ctcgttgact ttcaggttac tatagcagag\n",
    "    27241 atattactaa ttattatgag gacttttaaa gtttccattt ggaatcttga ttacatcata\n",
    "    27301 aacctcataa ttaaaaattt atctaagtca ctaactgaga ataaatattc tcaattagat\n",
    "    27361 gaagagcaac caatggagat tgattaaacg aacatgaaaa ttattctttt cttggcactg\n",
    "    27421 ataacactcg ctacttgtga gctttatcac taccaagagt gtgttagagg tacaacagta\n",
    "    27481 cttttaaaag aaccttgctc ttctggaaca tacgagggca attcaccatt tcatcctcta\n",
    "    27541 gctgataaca aatttgcact gacttgcttt agcactcaat ttgcttttgc ttgtcctgac\n",
    "    27601 ggcgtaaaac acgtctatca gttacgtgcc agatcagttt cacctaaact gttcatcaga\n",
    "    27661 caagaggaag ttcaagaact ttactctcca atttttctta ttgttgcggc aatagtgttt\n",
    "    27721 ataacacttt gcttcacact caaaagaaag acagaatgat tgaactttca ttaattgact\n",
    "    27781 tctatttgtg ctttttagcc tttctgctat tccttgtttt aattatgctt attatctttt\n",
    "    27841 ggttctcact tgaactgcaa gatcataatg aaacttgtca cgcctaaacg aacatgaaat\n",
    "    27901 ttcttgtttt cttaggaatc atcacaactg tagctgcatt tcaccaagaa tgtagtttac\n",
    "    27961 agtcatgtac tcaacatcaa ccatatgtag ttgatgaccc gtgtcctatt cacttctatt\n",
    "    28021 ctaaatggta tattagagta ggagctagaa aatcagcacc tttaattgaa ttgtgcgtgg\n",
    "    28081 atgaggctgg ttctaaatca cccattcagt acatcgatat cggtaattat acagtttcct\n",
    "    28141 gtttaccttt tacaattaat tgccaggaac ctaaattggg tagtcttgta gtgcgttgtt\n",
    "    28201 cgttctatga agacttttta gagtatcatg acgttcgtgt tgttttagat ttcatctaaa\n",
    "    28261 cgaacaaact aaaatgtctg ataatggacc ccaaaatcag cgaaatgcac cccgcattac\n",
    "    28321 gtttggtgga ccctcagatt caactggcag taaccagaat ggagaacgca gtggggcgcg\n",
    "    28381 atcaaaacaa cgtcggcccc aaggtttacc caataatact gcgtcttggt tcaccgctct\n",
    "    28441 cactcaacat ggcaaggaag accttaaatt ccctcgagga caaggcgttc caattaacac\n",
    "    28501 caatagcagt ccagatgacc aaattggcta ctaccgaaga gctaccagac gaattcgtgg\n",
    "    28561 tggtgacggt aaaatgaaag atctcagtcc aagatggtat ttctactacc taggaactgg\n",
    "    28621 gccagaagct ggacttccct atggtgctaa caaagacggc atcatatggg ttgcaactga\n",
    "    28681 gggagccttg aatacaccaa aagatcacat tggcacccgc aatcctgcta acaatgctgc\n",
    "    28741 aatcgtgcta caacttcctc aaggaacaac attgccaaaa ggcttctacg cagaagggag\n",
    "    28801 cagaggcggc agtcaagcct cttctcgttc ctcatcacgt agtcgcaaca gttcaagaaa\n",
    "    28861 ttcaactcca ggcagcagta ggggaacttc tcctgctaga atggctggca atggcggtga\n",
    "    28921 tgctgctctt gctttgctgc tgcttgacag attgaaccag cttgagagca aaatgtctgg\n",
    "    28981 taaaggccaa caacaacaag gccaaactgt cactaagaaa tctgctgctg aggcttctaa\n",
    "    29041 gaagcctcgg caaaaacgta ctgccactaa agcatacaat gtaacacaag ctttcggcag\n",
    "    29101 acgtggtcca gaacaaaccc aaggaaattt tggggaccag gaactaatca gacaaggaac\n",
    "    29161 tgattacaaa cattggccgc aaattgcaca atttgccccc agcgcttcag cgttcttcgg\n",
    "    29221 aatgtcgcgc attggcatgg aagtcacacc ttcgggaacg tggttgacct acacaggtgc\n",
    "    29281 catcaaattg gatgacaaag atccaaattt caaagatcaa gtcattttgc tgaataagca\n",
    "    29341 tattgacgca tacaaaacat tcccaccaac agagcctaaa aaggacaaaa agaagaaggc\n",
    "    29401 tgatgaaact caagccttac cgcagagaca gaagaaacag caaactgtga ctcttcttcc\n",
    "    29461 tgctgcagat ttggatgatt tctccaaaca attgcaacaa tccatgagca gtgctgactc\n",
    "    29521 aactcaggcc taaactcatg cagaccacac aaggcagatg ggctatataa acgttttcgc\n",
    "    29581 ttttccgttt acgatatata gtctactctt gtgcagaatg aattctcgta actacatagc\n",
    "    29641 acaagtagat gtagttaact ttaatctcac atagcaatct ttaatcagtg tgtaacatta\n",
    "    29701 gggaggactt gaaagagcca ccacattttc accgaggcca cgcggagtac gatcgagtgt\n",
    "    29761 acagtgaaca atgctaggga gagctgccta tatggaagag ccctaatgtg taaaattaat\n",
    "    29821 tttagtagtg ctatccccat gtgattttaa tagcttctta ggagaatgac aaaaaaaaaa\n",
    "    29881 aaaaaaaaaa aaaaaaaaaa aaa\n",
    "\"\"\"\n",
    "for s in \" \\n0123456789\":\n",
    "    cc = cc.replace(s, \"\")"
   ]
  },
  {
   "cell_type": "code",
   "execution_count": 2,
   "metadata": {
    "scrolled": true
   },
   "outputs": [
    {
     "data": {
      "text/plain": [
       "'attaaaggtttataccttcccaggtaacaaaccaaccaactttcgatctcttgtagatctgttctctaaacgaactttaaaatctgtgtggctgtcactcggctgcatgcttagtgcactcacgcagtataattaataactaattactgtcgttgacaggacacgagtaactcgtctatcttctgcaggctgcttacggtttcgtccgtgttgcagccgatcatcagcacatctaggtttcgtccgggtgtgaccgaaaggtaagatggagagccttgtccctggtttcaacgagaaaacacacgtccaactcagtttgcctgttttacaggttcgcgacgtgctcgtacgtggctttggagactccgtggaggaggtcttatcagaggcacgtcaacatcttaaagatggcacttgtggcttagtagaagttgaaaaaggcgttttgcctcaacttgaacagccctatgtgttcatcaaacgttcggatgctcgaactgcacctcatggtcatgttatggttgagctggtagcagaactcgaaggcattcagtacggtcgtagtggtgagacacttggtgtccttgtccctcatgtgggcgaaataccagtggcttaccgcaaggttcttcttcgtaagaacggtaataaaggagctggtggccatagttacggcgccgatctaaagtcatttgacttaggcgacgagcttggcactgatccttatgaagattttcaagaaaactggaacactaaacatagcagtggtgttacccgtgaactcatgcgtgagcttaacggaggggcatacactcgctatgtcgataacaacttctgtggccctgatggctaccctcttgagtgcattaaagaccttctagcacgtgctggtaaagcttcatgcactttgtccgaacaactggactttattgacactaagaggggtgtatactgctgccgtgaacatgagcatgaaattgcttggtacacggaacgttctgaaaagagctatgaattgcagacaccttttgaaattaaattggcaaagaaatttgacaccttcaatggggaatgtccaaattttgtatttcccttaaattccataatcaagactattcaaccaagggttgaaaagaaaaagcttgatggctttatgggtagaattcgatctgtctatccagttgcgtcaccaaatgaatgcaaccaaatgtgcctttcaactctcatgaagtgtgatcattgtggtgaaacttcatggcagacgggcgattttgttaaagccacttgcgaattttgtggcactgagaatttgactaaagaaggtgccactacttgtggttacttaccccaaaatgctgttgttaaaatttattgtccagcatgtcacaattcagaagtaggacctgagcatagtcttgccgaataccataatgaatctggcttgaaaaccattcttcgtaagggtggtcgcactattgcctttggaggctgtgtgttctcttatgttggttgccataacaagtgtgcctattgggttccacgtgctagcgctaacataggttgtaaccatacaggtgttgttggagaaggttccgaaggtcttaatgacaaccttcttgaaatactccaaaaagagaaagtcaacatcaatattgttggtgactttaaacttaatgaagagatcgccattattttggcatctttttctgcttccacaagtgcttttgtggaaactgtgaaaggtttggattataaagcattcaaacaaattgttgaatcctgtggtaattttaaagttacaaaaggaaaagctaaaaaaggtgcctggaatattggtgaacagaaatcaatactgagtcctctttatgcatttgcatcagaggctgctcgtgttgtacgatcaattttctcccgcactcttgaaactgctcaaaattctgtgcgtgttttacagaaggccgctataacaatactagatggaatttcacagtattcactgagactcattgatgctatgatgttcacatctgatttggctactaacaatctagttgtaatggcctacattacaggtggtgttgttcagttgacttcgcagtggctaactaacatctttggcactgtttatgaaaaactcaaacccgtccttgattggcttgaagagaagtttaaggaaggtgtagagtttcttagagacggttgggaaattgttaaatttatctcaacctgtgcttgtgaaattgtcggtggacaaattgtcacctgtgcaaaggaaattaaggagagtgttcagacattctttaagcttgtaaataaatttttggctttgtgtgctgactctatcattattggtggagctaaacttaaagccttgaatttaggtgaaacatttgtcacgcactcaaagggattgtacagaaagtgtgttaaatccagagaagaaactggcctactcatgcctctaaaagccccaaaagaaattatcttcttagagggagaaacacttcccacagaagtgttaacagaggaagttgtcttgaaaactggtgatttacaaccattagaacaacctactagtgaagctgttgaagctccattggttggtacaccagtttgtattaacgggcttatgttgctcgaaatcaaagacacagaaaagtactgtgcccttgcacctaatatgatggtaacaaacaataccttcacactcaaaggcggtgcaccaacaaaggttacttttggtgatgacactgtgatagaagtgcaaggttacaagagtgtgaatatcacttttgaacttgatgaaaggattgataaagtacttaatgagaagtgctctgcctatacagttgaactcggtacagaagtaaatgagttcgcctgtgttgtggcagatgctgtcataaaaactttgcaaccagtatctgaattacttacaccactgggcattgatttagatgagtggagtatggctacatactacttatttgatgagtctggtgagtttaaattggcttcacatatgtattgttctttctaccctccagatgaggatgaagaagaaggtgattgtgaagaagaagagtttgagccatcaactcaatatgagtatggtactgaagatgattaccaaggtaaacctttggaatttggtgccacttctgctgctcttcaacctgaagaagagcaagaagaagattggttagatgatgatagtcaacaaactgttggtcaacaagacggcagtgaggacaatcagacaactactattcaaacaattgttgaggttcaacctcaattagagatggaacttacaccagttgttcagactattgaagtgaatagttttagtggttatttaaaacttactgacaatgtatacattaaaaatgcagacattgtggaagaagctaaaaaggtaaaaccaacagtggttgttaatgcagccaatgtttaccttaaacatggaggaggtgttgcaggagccttaaataaggctactaacaatgccatgcaagttgaatctgatgattacatagctactaatggaccacttaaagtgggtggtagttgtgttttaagcggacacaatcttgctaaacactgtcttcatgttgtcggcccaaatgttaacaaaggtgaagacattcaacttcttaagagtgcttatgaaaattttaatcagcacgaagttctacttgcaccattattatcagctggtatttttggtgctgaccctatacattctttaagagtttgtgtagatactgttcgcacaaatgtctacttagctgtctttgataaaaatctctatgacaaacttgtttcaagctttttggaaatgaagagtgaaaagcaagttgaacaaaagatcgctgagattcctaaagaggaagttaagccatttataactgaaagtaaaccttcagttgaacagagaaaacaagatgataagaaaatcaaagcttgtgttgaagaagttacaacaactctggaagaaactaagttcctcacagaaaacttgttactttatattgacattaatggcaatcttcatccagattctgccactcttgttagtgacattgacatcactttcttaaagaaagatgctccatatatagtgggtgatgttgttcaagagggtgttttaactgctgtggttatacctactaaaaaggctggtggcactactgaaatgctagcgaaagctttgagaaaagtgccaacagacaattatataaccacttacccgggtcagggtttaaatggttacactgtagaggaggcaaagacagtgcttaaaaagtgtaaaagtgccttttacattctaccatctattatctctaatgagaagcaagaaattcttggaactgtttcttggaatttgcgagaaatgcttgcacatgcagaagaaacacgcaaattaatgcctgtctgtgtggaaactaaagccatagtttcaactatacagcgtaaatataagggtattaaaatacaagagggtgtggttgattatggtgctagattttacttttacaccagtaaaacaactgtagcgtcacttatcaacacacttaacgatctaaatgaaactcttgttacaatgccacttggctatgtaacacatggcttaaatttggaagaagctgctcggtatatgagatctctcaaagtgccagctacagtttctgtttcttcacctgatgctgttacagcgtataatggttatcttacttcttcttctaaaacacctgaagaacattttattgaaaccatctcacttgctggttcctataaagattggtcctattctggacaatctacacaactaggtatagaatttcttaagagaggtgataaaagtgtatattacactagtaatcctaccacattccacctagatggtgaagttatcacctttgacaatcttaagacacttctttctttgagagaagtgaggactattaaggtgtttacaacagtagacaacattaacctccacacgcaagttgtggacatgtcaatgacatatggacaacagtttggtccaacttatttggatggagctgatgttactaaaataaaacctcataattcacatgaaggtaaaacattttatgttttacctaatgatgacactctacgtgttgaggcttttgagtactaccacacaactgatcctagttttctgggtaggtacatgtcagcattaaatcacactaaaaagtggaaatacccacaagttaatggtttaacttctattaaatgggcagataacaactgttatcttgccactgcattgttaacactccaacaaatagagttgaagtttaatccacctgctctacaagatgcttattacagagcaagggctggtgaagctgctaacttttgtgcacttatcttagcctactgtaataagacagtaggtgagttaggtgatgttagagaaacaatgagttacttgtttcaacatgccaatttagattcttgcaaaagagtcttgaacgtggtgtgtaaaacttgtggacaacagcagacaacccttaagggtgtagaagctgttatgtacatgggcacactttcttatgaacaatttaagaaaggtgttcagataccttgtacgtgtggtaaacaagctacaaaatatctagtacaacaggagtcaccttttgttatgatgtcagcaccacctgctcagtatgaacttaagcatggtacatttacttgtgctagtgagtacactggtaattaccagtgtggtcactataaacatataacttctaaagaaactttgtattgcatagacggtgctttacttacaaagtcctcagaatacaaaggtcctattacggatgttttctacaaagaaaacagttacacaacaaccataaaaccagttacttataaattggatggtgttgtttgtacagaaattgaccctaagttggacaattattataagaaagacaattcttatttcacagagcaaccaattgatcttgtaccaaaccaaccatatccaaacgcaagcttcgataattttaagtttgtatgtgataatatcaaatttgctgatgatttaaaccagttaactggttataagaaacctgcttcaagagagcttaaagttacatttttccctgacttaaatggtgatgtggtggctattgattataaacactacacaccctcttttaagaaaggagctaaattgttacataaacctattgtttggcatgttaacaatgcaactaataaagccacgtataaaccaaatacctggtgtatacgttgtctttggagcacaaaaccagttgaaacatcaaattcgtttgatgtactgaagtcagaggacgcgcagggaatggataatcttgcctgcgaagatctaaaaccagtctctgaagaagtagtggaaaatcctaccatacagaaagacgttcttgagtgtaatgtgaaaactaccgaagttgtaggagacattatacttaaaccagcaaataatagtttaaaaattacagaagaggttggccacacagatctaatggctgcttatgtagacaattctagtcttactattaagaaacctaatgaattatctagagtattaggtttgaaaacccttgctactcatggtttagctgctgttaatagtgtcccttgggatactatagctaattatgctaagccttttcttaacaaagttgttagtacaactactaacatagttacacggtgtttaaaccgtgtttgtactaattatatgccttatttctttactttattgctacaattgtgtacttttactagaagtacaaattctagaattaaagcatctatgccgactactatagcaaagaatactgttaagagtgtcggtaaattttgtctagaggcttcatttaattatttgaagtcacctaatttttctaaactgataaatattataatttggtttttactattaagtgtttgcctaggttctttaatctactcaaccgctgctttaggtgttttaatgtctaatttaggcatgccttcttactgtactggttacagagaaggctatttgaactctactaatgtcactattgcaacctactgtactggttctataccttgtagtgtttgtcttagtggtttagattctttagacacctatccttctttagaaactatacaaattaccatttcatcttttaaatgggatttaactgcttttggcttagttgcagagtggtttttggcatatattcttttcactaggtttttctatgtacttggattggctgcaatcatgcaattgtttttcagctattttgcagtacattttattagtaattcttggcttatgtggttaataattaatcttgtacaaatggccccgatttcagctatggttagaatgtacatcttctttgcatcattttattatgtatggaaaagttatgtgcatgttgtagacggttgtaattcatcaacttgtatgatgtgttacaaacgtaatagagcaacaagagtcgaatgtacaactattgttaatggtgttagaaggtccttttatgtctatgctaatggaggtaaaggcttttgcaaactacacaattggaattgtgttaattgtgatacattctgtgctggtagtacatttattagtgatgaagttgcgagagacttgtcactacagtttaaaagaccaataaatcctactgaccagtcttcttacatcgttgatagtgttacagtgaagaatggttccatccatctttactttgataaagctggtcaaaagacttatgaaagacattctctctctcattttgttaacttagacaacctgagagctaataacactaaaggttcattgcctattaatgttatagtttttgatggtaaatcaaaatgtgaagaatcatctgcaaaatcagcgtctgtttactacagtcagcttatgtgtcaacctatactgttactagatcaggcattagtgtctgatgttggtgatagtgcggaagttgcagttaaaatgtttgatgcttacgttaatacgttttcatcaacttttaacgtaccaatggaaaaactcaaaacactagttgcaactgcagaagctgaacttgcaaagaatgtgtccttagacaatgtcttatctacttttatttcagcagctcggcaagggtttgttgattcagatgtagaaactaaagatgttgttgaatgtcttaaattgtcacatcaatctgacatagaagttactggcgatagttgtaataactatatgctcacctataacaaagttgaaaacatgacaccccgtgaccttggtgcttgtattgactgtagtgcgcgtcatattaatgcgcaggtagcaaaaagtcacaacattgctttgatatggaacgttaaagatttcatgtcattgtctgaacaactacgaaaacaaatacgtagtgctgctaaaaagaataacttaccttttaagttgacatgtgcaactactagacaagttgttaatgttgtaacaacaaagatagcacttaagggtggtaaaattgttaataattggttgaagcagttaattaaagttacacttgtgttcctttttgttgctgctattttctatttaataacacctgttcatgtcatgtctaaacatactgacttttcaagtgaaatcataggatacaaggctattgatggtggtgtcactcgtgacatagcatctacagatacttgttttgctaacaaacatgctgattttgacacatggtttagccagcgtggtggtagttatactaatgacaaagcttgcccattgattgctgcagtcataacaagagaagtgggttttgtcgtgcctggtttgcctggcacgatattacgcacaactaatggtgactttttgcatttcttacctagagtttttagtgcagttggtaacatctgttacacaccatcaaaacttatagagtacactgactttgcaacatcagcttgtgttttggctgctgaatgtacaatttttaaagatgcttctggtaagccagtaccatattgttatgataccaatgtactagaaggttctgttgcttatgaaagtttacgccctgacacacgttatgtgctcatggatggctctattattcaatttcctaacacctaccttgaaggttctgttagagtggtaacaacttttgattctgagtactgtaggcacggcacttgtgaaagatcagaagctggtgtttgtgtatctactagtggtagatgggtacttaacaatgattattacagatctttaccaggagttttctgtggtgtagatgctgtaaatttacttactaatatgtttacaccactaattcaacctattggtgctttggacatatcagcatctatagtagctggtggtattgtagctatcgtagtaacatgccttgcctactattttatgaggtttagaagagcttttggtgaatacagtcatgtagttgcctttaatactttactattccttatgtcattcactgtactctgtttaacaccagtttactcattcttacctggtgtttattctgttatttacttgtacttgacattttatcttactaatgatgtttcttttttagcacatattcagtggatggttatgttcacacctttagtacctttctggataacaattgcttatatcatttgtatttccacaaagcatttctattggttctttagtaattacctaaagagacgtgtagtctttaatggtgtttcctttagtacttttgaagaagctgcgctgtgcacctttttgttaaataaagaaatgtatctaaagttgcgtagtgatgtgctattacctcttacgcaatataatagatacttagctctttataataagtacaagtattttagtggagcaatggatacaactagctacagagaagctgcttgttgtcatctcgcaaaggctctcaatgacttcagtaactcaggttctgatgttctttaccaaccaccacaaacctctatcacctcagctgttttgcagagtggttttagaaaaatggcattcccatctggtaaagttgagggttgtatggtacaagtaacttgtggtacaactacacttaacggtctttggcttgatgacgtagtttactgtccaagacatgtgatctgcacctctgaagacatgcttaaccctaattatgaagatttactcattcgtaagtctaatcataatttcttggtacaggctggtaatgttcaactcagggttattggacattctatgcaaaattgtgtacttaagcttaaggttgatacagccaatcctaagacacctaagtataagtttgttcgcattcaaccaggacagactttttcagtgttagcttgttacaatggttcaccatctggtgtttaccaatgtgctatgaggcccaatttcactattaagggttcattccttaatggttcatgtggtagtgttggttttaacatagattatgactgtgtctctttttgttacatgcaccatatggaattaccaactggagttcatgctggcacagacttagaaggtaacttttatggaccttttgttgacaggcaaacagcacaagcagctggtacggacacaactattacagttaatgttttagcttggttgtacgctgctgttataaatggagacaggtggtttctcaatcgatttaccacaactcttaatgactttaaccttgtggctatgaagtacaattatgaacctctaacacaagaccatgttgacatactaggacctctttctgctcaaactggaattgccgttttagatatgtgtgcttcattaaaagaattactgcaaaatggtatgaatggacgtaccatattgggtagtgctttattagaagatgaatttacaccttttgatgttgttagacaatgctcaggtgttactttccaaagtgcagtgaaaagaacaatcaagggtacacaccactggttgttactcacaattttgacttcacttttagttttagtccagagtactcaatggtctttgttcttttttttgtatgaaaatgcctttttaccttttgctatgggtattattgctatgtctgcttttgcaatgatgtttgtcaaacataagcatgcatttctctgtttgtttttgttaccttctcttgccactgtagcttattttaatatggtctatatgcctgctagttgggtgatgcgtattatgacatggttggatatggttgatactagtttgtctggttttaagctaaaagactgtgttatgtatgcatcagctgtagtgttactaatccttatgacagcaagaactgtgtatgatgatggtgctaggagagtgtggacacttatgaatgtcttgacactcgtttataaagtttattatggtaatgctttagatcaagccatttccatgtgggctcttataatctctgttacttctaactactcaggtgtagttacaactgtcatgtttttggccagaggtattgtttttatgtgtgttgagtattgccctattttcttcataactggtaatacacttcagtgtataatgctagtttattgtttcttaggctatttttgtacttgttactttggcctcttttgtttactcaaccgctactttagactgactcttggtgtttatgattacttagtttctacacaggagtttagatatatgaattcacagggactactcccacccaagaatagcatagatgccttcaaactcaacattaaattgttgggtgttggtggcaaaccttgtatcaaagtagccactgtacagtctaaaatgtcagatgtaaagtgcacatcagtagtcttactctcagttttgcaacaactcagagtagaatcatcatctaaattgtgggctcaatgtgtccagttacacaatgacattctcttagctaaagatactactgaagcctttgaaaaaatggtttcactactttctgttttgctttccatgcagggtgctgtagacataaacaagctttgtgaagaaatgctggacaacagggcaaccttacaagctatagcctcagagtttagttcccttccatcatatgcagcttttgctactgctcaagaagcttatgagcaggctgttgctaatggtgattctgaagttgttcttaaaaagttgaagaagtctttgaatgtggctaaatctgaatttgaccgtgatgcagccatgcaacgtaagttggaaaagatggctgatcaagctatgacccaaatgtataaacaggctagatctgaggacaagagggcaaaagttactagtgctatgcagacaatgcttttcactatgcttagaaagttggataatgatgcactcaacaacattatcaacaatgcaagagatggttgtgttcccttgaacataatacctcttacaacagcagccaaactaatggttgtcataccagactataacacatataaaaatacgtgtgatggtacaacatttacttatgcatcagcattgtgggaaatccaacaggttgtagatgcagatagtaaaattgttcaacttagtgaaattagtatggacaattcacctaatttagcatggcctcttattgtaacagctttaagggccaattctgctgtcaaattacagaataatgagcttagtcctgttgcactacgacagatgtcttgtgctgccggtactacacaaactgcttgcactgatgacaatgcgttagcttactacaacacaacaaagggaggtaggtttgtacttgcactgttatccgatttacaggatttgaaatgggctagattccctaagagtgatggaactggtactatctatacagaactggaaccaccttgtaggtttgttacagacacacctaaaggtcctaaagtgaagtatttatactttattaaaggattaaacaacctaaatagaggtatggtacttggtagtttagctgccacagtacgtctacaagctggtaatgcaacagaagtgcctgccaattcaactgtattatctttctgtgcttttgctgtagatgctgctaaagcttacaaagattatctagctagtgggggacaaccaatcactaattgtgttaagatgttgtgtacacacactggtactggtcaggcaataacagttacaccggaagccaatatggatcaagaatcctttggtggtgcatcgtgttgtctgtactgccgttgccacatagatcatccaaatcctaaaggattttgtgacttaaaaggtaagtatgtacaaatacctacaacttgtgctaatgaccctgtgggttttacacttaaaaacacagtctgtaccgtctgcggtatgtggaaaggttatggctgtagttgtgatcaactccgcgaacccatgcttcagtcagctgatgcacaatcgtttttaaacgggtttgcggtgtaagtgcagcccgtcttacaccgtgcggcacaggcactagtactgatgtcgtatacagggcttttgacatctacaatgataaagtagctggttttgctaaattcctaaaaactaattgttgtcgcttccaagaaaaggacgaagatgacaatttaattgattcttactttgtagttaagagacacactttctctaactaccaacatgaagaaacaatttataatttacttaaggattgtccagctgttgctaaacatgacttctttaagtttagaatagacggtgacatggtaccacatatatcacgtcaacgtcttactaaatacacaatggcagacctcgtctatgctttaaggcattttgatgaaggtaattgtgacacattaaaagaaatacttgtcacatacaattgttgtgatgatgattatttcaataaaaaggactggtatgattttgtagaaaacccagatatattacgcgtatacgccaacttaggtgaacgtgtacgccaagctttgttaaaaacagtacaattctgtgatgccatgcgaaatgctggtattgttggtgtactgacattagataatcaagatctcaatggtaactggtatgatttcggtgatttcatacaaaccacgccaggtagtggagttcctgttgtagattcttattattcattgttaatgcctatattaaccttgaccagggctttaactgcagagtcacatgttgacactgacttaacaaagccttacattaagtgggatttgttaaaatatgacttcacggaagagaggttaaaactctttgaccgttattttaaatattgggatcagacataccacccaaattgtgttaactgtttggatgacagatgcattctgcattgtgcaaactttaatgttttattctctacagtgttcccacctacaagttttggaccactagtgagaaaaatatttgttgatggtgttccatttgtagtttcaactggataccacttcagagagctaggtgttgtacataatcaggatgtaaacttacatagctctagacttagttttaaggaattacttgtgtatgctgctgaccctgctatgcacgctgcttctggtaatctattactagataaacgcactacgtgcttttcagtagctgcacttactaacaatgttgcttttcaaactgtcaaacccggtaattttaacaaagacttctatgactttgctgtgtctaagggtttctttaaggaaggaagttctgttgaattaaaacacttcttctttgctcaggatggtaatgctgctatcagcgattatgactactatcgttataatctaccaacaatgtgtgatatcagacaactactatttgtagttgaagttgttgataagtactttgattgttacgatggtggctgtattaatgctaaccaagtcatcgtcaacaacctagacaaatcagctggttttccatttaataaatggggtaaggctagactttattatgattcaatgagttatgaggatcaagatgcacttttcgcatatacaaaacgtaatgtcatccctactataactcaaatgaatcttaagtatgccattagtgcaaagaatagagctcgcaccgtagctggtgtctctatctgtagtactatgaccaatagacagtttcatcaaaaattattgaaatcaatagccgccactagaggagctactgtagtaattggaacaagcaaattctatggtggttggcacaacatgttaaaaactgtttatagtgatgtagaaaaccctcaccttatgggttgggattatcctaaatgtgatagagccatgcctaacatgcttagaattatggcctcacttgttcttgctcgcaaacatacaacgtgttgtagcttgtcacaccgtttctatagattagctaatgagtgtgctcaagtattgagtgaaatggtcatgtgtggcggttcactatatgttaaaccaggtggaacctcatcaggagatgccacaactgcttatgctaatagtgtttttaacatttgtcaagctgtcacggccaatgttaatgcacttttatctactgatggtaacaaaattgccgataagtatgtccgcaatttacaacacagactttatgagtgtctctatagaaatagagatgttgacacagactttgtgaatgagttttacgcatatttgcgtaaacatttctcaatgatgatactctctgacgatgctgttgtgtgtttcaatagcacttatgcatctcaaggtctagtggctagcataaagaactttaagtcagttctttattatcaaaacaatgtttttatgtctgaagcaaaatgttggactgagactgaccttactaaaggacctcatgaattttgctctcaacatacaatgctagttaaacagggtgatgattatgtgtaccttccttacccagatccatcaagaatcctaggggccggctgttttgtagatgatatcgtaaaaacagatggtacacttatgattgaacggttcgtgtctttagctatagatgcttacccacttactaaacatcctaatcaggagtatgctgatgtctttcatttgtacttacaatacataagaaagctacatgatgagttaacaggacacatgttagacatgtattctgttatgcttactaatgataacacttcaaggtattgggaacctgagttttatgaggctatgtacacaccgcatacagtcttacaggctgttggggcttgtgttctttgcaattcacagacttcattaagatgtggtgcttgcatacgtagaccattcttatgttgtaaatgctgttacgaccatgtcatatcaacatcacataaattagtcttgtctgttaatccgtatgtttgcaatgctccaggttgtgatgtcacagatgtgactcaactttacttaggaggtatgagctattattgtaaatcacataaaccacccattagttttccattgtgtgctaatggacaagtttttggtttatataaaaatacatgtgttggtagcgataatgttactgactttaatgcaattgcaacatgtgactggacaaatgctggtgattacattttagctaacacctgtactgaaagactcaagctttttgcagcagaaacgctcaaagctactgaggagacatttaaactgtcttatggtattgctactgtacgtgaagtgctgtctgacagagaattacatctttcatgggaagttggtaaacctagaccaccacttaaccgaaattatgtctttactggttatcgtgtaactaaaaacagtaaagtacaaataggagagtacacctttgaaaaaggtgactatggtgatgctgttgtttaccgaggtacaacaacttacaaattaaatgttggtgattattttgtgctgacatcacatacagtaatgccattaagtgcacctacactagtgccacaagagcactatgttagaattactggcttatacccaacactcaatatctcagatgagttttctagcaatgttgcaaattatcaaaaggttggtatgcaaaagtattctacactccagggaccacctggtactggtaagagtcattttgctattggcctagctctctactacccttctgctcgcatagtgtatacagcttgctctcatgccgctgttgatgcactatgtgagaaggcattaaaatatttgcctatagataaatgtagtagaattatacctgcacgtgctcgtgtagagtgttttgataaattcaaagtgaattcaacattagaacagtatgtcttttgtactgtaaatgcattgcctgagacgacagcagatatagttgtctttgatgaaatttcaatggccacaaattatgatttgagtgttgtcaatgccagattacgtgctaagcactatgtgtacattggcgaccctgctcaattacctgcaccacgcacattgctaactaagggcacactagaaccagaatatttcaattcagtgtgtagacttatgaaaactataggtccagacatgttcctcggaacttgtcggcgttgtcctgctgaaattgttgacactgtgagtgctttggtttatgataataagcttaaagcacataaagacaaatcagctcaatgctttaaaatgttttataagggtgttatcacgcatgatgtttcatctgcaattaacaggccacaaataggcgtggtaagagaattccttacacgtaaccctgcttggagaaaagctgtctttatttcaccttataattcacagaatgctgtagcctcaaagattttgggactaccaactcaaactgttgattcatcacagggctcagaatatgactatgtcatattcactcaaaccactgaaacagctcactcttgtaatgtaaacagatttaatgttgctattaccagagcaaaagtaggcatactttgcataatgtctgatagagacctttatgacaagttgcaatttacaagtcttgaaattccacgtaggaatgtggcaactttacaagctgaaaatgtaacaggactctttaaagattgtagtaaggtaatcactgggttacatcctacacaggcacctacacacctcagtgttgacactaaattcaaaactgaaggtttatgtgttgacatacctggcatacctaaggacatgacctatagaagactcatctctatgatgggttttaaaatgaattatcaagttaatggttaccctaacatgtttatcacccgcgaagaagctataagacatgtacgtgcatggattggcttcgatgtcgaggggtgtcatgctactagagaagctgttggtaccaatttacctttacagctaggtttttctacaggtgttaacctagttgctgtacctacaggttatgttgatacacctaataatacagatttttccagagttagtgctaaaccaccgcctggagatcaatttaaacacctcataccacttatgtacaaaggacttccttggaatgtagtgcgtataaagattgtacaaatgttaagtgacacacttaaaaatctctctgacagagtcgtatttgtcttatgggcacatggctttgagttgacatctatgaagtattttgtgaaaataggacctgagcgcacctgttgtctatgtgatagacgtgccacatgcttttccactgcttcagacacttatgcctgttggcatcattctattggatttgattacgtctataatccgtttatgattgatgttcaacaatggggttttacaggtaacctacaaagcaaccatgatctgtattgtcaagtccatggtaatgcacatgtagctagttgtgatgcaatcatgactaggtgtctagctgtccacgagtgctttgttaagcgtgttgactggactattgaatatcctataattggtgatgaactgaagattaatgcggcttgtagaaaggttcaacacatggttgttaaagctgcattattagcagacaaattcccagttcttcacgacattggtaaccctaaagctattaagtgtgtacctcaagctgatgtagaatggaagttctatgatgcacagccttgtagtgacaaagcttataaaatagaagaattattctattcttatgccacacattctgacaaattcacagatggtgtatgcctattttggaattgcaatgtcgatagatatcctgctaattccattgtttgtagatttgacactagagtgctatctaaccttaacttgcctggttgtgatggtggcagtttgtatgtaaataaacatgcattccacacaccagcttttgataaaagtgcttttgttaatttaaaacaattaccatttttctattactctgacagtccatgtgagtctcatggaaaacaagtagtgtcagatatagattatgtaccactaaagtctgctacgtgtataacacgttgcaatttaggtggtgctgtctgtagacatcatgctaatgagtacagattgtatctcgatgcttataacatgatgatctcagctggctttagcttgtgggtttacaaacaatttgatacttataacctctggaacacttttacaagacttcagagtttagaaaatgtggcttttaatgttgtaaataagggacactttgatggacaacagggtgaagtaccagtttctatcattaataacactgtttacacaaaagttgatggtgttgatgtagaattgtttgaaaataaaacaacattacctgttaatgtagcatttgagctttgggctaagcgcaacattaaaccagtaccagaggtgaaaatactcaataatttgggtgtggacattgctgctaatactgtgatctgggactacaaaagagatgctccagcacatatatctactattggtgtttgttctatgactgacatagccaagaaaccaactgaaacgatttgtgcaccactcactgtcttttttgatggtagagttgatggtcaagtagacttatttagaaatgcccgtaatggtgttcttattacagaaggtagtgttaaaggtttacaaccatctgtaggtcccaaacaagctagtcttaatggagtcacattaattggagaagccgtaaaaacacagttcaattattataagaaagttgatggtgttgtccaacaattacctgaaacttactttactcagagtagaaatttacaagaatttaaacccaggagtcaaatggaaattgatttcttagaattagctatggatgaattcattgaacggtataaattagaaggctatgccttcgaacatatcgtttatggagattttagtcatagtcagttaggtggtttacatctactgattggactagctaaacgttttaaggaatcaccttttgaattagaagattttattcctatggacagtacagttaaaaactatttcataacagatgcgcaaacaggttcatctaagtgtgtgtgttctgttattgatttattacttgatgattttgttgaaataataaaatcccaagatttatctgtagtttctaaggttgtcaaagtgactattgactatacagaaatttcatttatgctttggtgtaaagatggccatgtagaaacattttacccaaaattacaatctagtcaagcgtggcaaccgggtgttgctatgcctaatctttacaaaatgcaaagaatgctattagaaaagtgtgaccttcaaaattatggtgatagtgcaacattacctaaaggcataatgatgaatgtcgcaaaatatactcaactgtgtcaatatttaaacacattaacattagctgtaccctataatatgagagttatacattttggtgctggttctgataaaggagttgcaccaggtacagctgttttaagacagtggttgcctacgggtacgctgcttgtcgattcagatcttaatgactttgtctctgatgcagattcaactttgattggtgattgtgcaactgtacatacagctaataaatgggatctcattattagtgatatgtacgaccctaagactaaaaatgttacaaaagaaaatgactctaaagagggttttttcacttacatttgtgggtttatacaacaaaagctagctcttggaggttccgtggctataaagataacagaacattcttggaatgctgatctttataagctcatgggacacttcgcatggtggacagcctttgttactaatgtgaatgcgtcatcatctgaagcatttttaattggatgtaattatcttggcaaaccacgcgaacaaatagatggttatgtcatgcatgcaaattacatattttggaggaatacaaatccaattcagttgtcttcctattctttatttgacatgagtaaatttccccttaaattaaggggtactgctgttatgtctttaaaagaaggtcaaatcaatgatatgattttatctcttcttagtaaaggtagacttataattagagaaaacaacagagttgttatttctagtgatgttcttgttaacaactaaacgaacaatgtttgtttttcttgttttattgccactagtctctagtcagtgtgttaatcttacaaccagaactcaattaccccctgcatacactaattctttcacacgtggtgtttattaccctgacaaagttttcagatcctcagttttacattcaactcaggacttgttcttacctttcttttccaatgttacttggttccatgctatacatgtctctgggaccaatggtactaagaggtttgataaccctgtcctaccatttaatgatggtgtttattttgcttccactgagaagtctaacataataagaggctggatttttggtactactttagattcgaagacccagtccctacttattgttaataacgctactaatgttgttattaaagtctgtgaatttcaattttgtaatgatccatttttgggtgtttattaccacaaaaacaacaaaagttggatggaaagtgagttcagagtttattctagtgcgaataattgcacttttgaatatgtctctcagccttttcttatggaccttgaaggaaaacagggtaatttcaaaaatcttagggaatttgtgtttaagaatattgatggttattttaaaatatattctaagcacacgcctattaatttagtgcgtgatctccctcagggtttttcggctttagaaccattggtagatttgccaataggtattaacatcactaggtttcaaactttacttgctttacatagaagttatttgactcctggtgattcttcttcaggttggacagctggtgctgcagcttattatgtgggttatcttcaacctaggacttttctattaaaatataatgaaaatggaaccattacagatgctgtagactgtgcacttgaccctctctcagaaacaaagtgtacgttgaaatccttcactgtagaaaaaggaatctatcaaacttctaactttagagtccaaccaacagaatctattgttagatttcctaatattacaaacttgtgcccttttggtgaagtttttaacgccaccagatttgcatctgtttatgcttggaacaggaagagaatcagcaactgtgttgctgattattctgtcctatataattccgcatcattttccacttttaagtgttatggagtgtctcctactaaattaaatgatctctgctttactaatgtctatgcagattcatttgtaattagaggtgatgaagtcagacaaatcgctccagggcaaactggaaagattgctgattataattataaattaccagatgattttacaggctgcgttatagcttggaattctaacaatcttgattctaaggttggtggtaattataattacctgtatagattgtttaggaagtctaatctcaaaccttttgagagagatatttcaactgaaatctatcaggccggtagcacaccttgtaatggtgttgaaggttttaattgttactttcctttacaatcatatggtttccaacccactaatggtgttggttaccaaccatacagagtagtagtactttcttttgaacttctacatgcaccagcaactgtttgtggacctaaaaagtctactaatttggttaaaaacaaatgtgtcaatttcaacttcaatggtttaacaggcacaggtgttcttactgagtctaacaaaaagtttctgcctttccaacaatttggcagagacattgctgacactactgatgctgtccgtgatccacagacacttgagattcttgacattacaccatgttcttttggtggtgtcagtgttataacaccaggaacaaatacttctaaccaggttgctgttctttatcaggatgttaactgcacagaagtccctgttgctattcatgcagatcaacttactcctacttggcgtgtttattctacaggttctaatgtttttcaaacacgtgcaggctgtttaataggggctgaacatgtcaacaactcatatgagtgtgacatacccattggtgcaggtatatgcgctagttatcagactcagactaattctcctcggcgggcacgtagtgtagctagtcaatccatcattgcctacactatgtcacttggtgcagaaaattcagttgcttactctaataactctattgccatacccacaaattttactattagtgttaccacagaaattctaccagtgtctatgaccaagacatcagtagattgtacaatgtacatttgtggtgattcaactgaatgcagcaatcttttgttgcaatatggcagtttttgtacacaattaaaccgtgctttaactggaatagctgttgaacaagacaaaaacacccaagaagtttttgcacaagtcaaacaaatttacaaaacaccaccaattaaagattttggtggttttaatttttcacaaatattaccagatccatcaaaaccaagcaagaggtcatttattgaagatctacttttcaacaaagtgacacttgcagatgctggcttcatcaaacaatatggtgattgccttggtgatattgctgctagagacctcatttgtgcacaaaagtttaacggccttactgttttgccacctttgctcacagatgaaatgattgctcaatacacttctgcactgttagcgggtacaatcacttctggttggacctttggtgcaggtgctgcattacaaataccatttgctatgcaaatggcttataggtttaatggtattggagttacacagaatgttctctatgagaaccaaaaattgattgccaaccaatttaatagtgctattggcaaaattcaagactcactttcttccacagcaagtgcacttggaaaacttcaagatgtggtcaaccaaaatgcacaagctttaaacacgcttgttaaacaacttagctccaattttggtgcaatttcaagtgttttaaatgatatcctttcacgtcttgacaaagttgaggctgaagtgcaaattgataggttgatcacaggcagacttcaaagtttgcagacatatgtgactcaacaattaattagagctgcagaaatcagagcttctgctaatcttgctgctactaaaatgtcagagtgtgtacttggacaatcaaaaagagttgatttttgtggaaagggctatcatcttatgtccttccctcagtcagcacctcatggtgtagtcttcttgcatgtgacttatgtccctgcacaagaaaagaacttcacaactgctcctgccatttgtcatgatggaaaagcacactttcctcgtgaaggtgtctttgtttcaaatggcacacactggtttgtaacacaaaggaatttttatgaaccacaaatcattactacagacaacacatttgtgtctggtaactgtgatgttgtaataggaattgtcaacaacacagtttatgatcctttgcaacctgaattagactcattcaaggaggagttagataaatattttaagaatcatacatcaccagatgttgatttaggtgacatctctggcattaatgcttcagttgtaaacattcaaaaagaaattgaccgcctcaatgaggttgccaagaatttaaatgaatctctcatcgatctccaagaacttggaaagtatgagcagtatataaaatggccatggtacatttggctaggttttatagctggcttgattgccatagtaatggtgacaattatgctttgctgtatgaccagttgctgtagttgtctcaagggctgttgttcttgtggatcctgctgcaaatttgatgaagacgactctgagccagtgctcaaaggagtcaaattacattacacataaacgaacttatggatttgtttatgagaatcttcacaattggaactgtaactttgaagcaaggtgaaatcaaggatgctactccttcagattttgttcgcgctactgcaacgataccgatacaagcctcactccctttcggatggcttattgttggcgttgcacttcttgctgtttttcagagcgcttccaaaatcataaccctcaaaaagagatggcaactagcactctccaagggtgttcactttgtttgcaacttgctgttgttgtttgtaacagtttactcacaccttttgctcgttgctgctggccttgaagccccttttctctatctttatgctttagtctacttcttgcagagtataaactttgtaagaataataatgaggctttggctttgctggaaatgccgttccaaaaacccattactttatgatgccaactattttctttgctggcatactaattgttacgactattgtataccttacaatagtgtaacttcttcaattgtcattacttcaggtgatggcacaacaagtcctatttctgaacatgactaccagattggtggttatactgaaaaatgggaatctggagtaaaagactgtgttgtattacacagttacttcacttcagactattaccagctgtactcaactcaattgagtacagacactggtgttgaacatgttaccttcttcatctacaataaaattgttgatgagcctgaagaacatgtccaaattcacacaatcgacggttcatccggagttgttaatccagtaatggaaccaatttatgatgaaccgacgacgactactagcgtgcctttgtaagcacaagctgatgagtacgaacttatgtactcattcgtttcggaagagacaggtacgttaatagttaatagcgtacttctttttcttgctttcgtggtattcttgctagttacactagccatccttactgcgcttcgattgtgtgcgtactgctgcaatattgttaacgtgagtcttgtaaaaccttctttttacgtttactctcgtgttaaaaatctgaattcttctagagttcctgatcttctggtctaaacgaactaaatattatattagtttttctgtttggaactttaattttagccatggcagattccaacggtactattaccgttgaagagcttaaaaagctccttgaacaatggaacctagtaataggtttcctattccttacatggatttgtcttctacaatttgcctatgccaacaggaataggtttttgtatataattaagttaattttcctctggctgttatggccagtaactttagcttgttttgtgcttgctgctgtttacagaataaattggatcaccggtggaattgctatcgcaatggcttgtcttgtaggcttgatgtggctcagctacttcattgcttctttcagactgtttgcgcgtacgcgttccatgtggtcattcaatccagaaactaacattcttctcaacgtgccactccatggcactattctgaccagaccgcttctagaaagtgaactcgtaatcggagctgtgatccttcgtggacatcttcgtattgctggacaccatctaggacgctgtgacatcaaggacctgcctaaagaaatcactgttgctacatcacgaacgctttcttattacaaattgggagcttcgcagcgtgtagcaggtgactcaggttttgctgcatacagtcgctacaggattggcaactataaattaaacacagaccattccagtagcagtgacaatattgctttgcttgtacagtaagtgacaacagatgtttcatctcgttgactttcaggttactatagcagagatattactaattattatgaggacttttaaagtttccatttggaatcttgattacatcataaacctcataattaaaaatttatctaagtcactaactgagaataaatattctcaattagatgaagagcaaccaatggagattgattaaacgaacatgaaaattattcttttcttggcactgataacactcgctacttgtgagctttatcactaccaagagtgtgttagaggtacaacagtacttttaaaagaaccttgctcttctggaacatacgagggcaattcaccatttcatcctctagctgataacaaatttgcactgacttgctttagcactcaatttgcttttgcttgtcctgacggcgtaaaacacgtctatcagttacgtgccagatcagtttcacctaaactgttcatcagacaagaggaagttcaagaactttactctccaatttttcttattgttgcggcaatagtgtttataacactttgcttcacactcaaaagaaagacagaatgattgaactttcattaattgacttctatttgtgctttttagcctttctgctattccttgttttaattatgcttattatcttttggttctcacttgaactgcaagatcataatgaaacttgtcacgcctaaacgaacatgaaatttcttgttttcttaggaatcatcacaactgtagctgcatttcaccaagaatgtagtttacagtcatgtactcaacatcaaccatatgtagttgatgacccgtgtcctattcacttctattctaaatggtatattagagtaggagctagaaaatcagcacctttaattgaattgtgcgtggatgaggctggttctaaatcacccattcagtacatcgatatcggtaattatacagtttcctgtttaccttttacaattaattgccaggaacctaaattgggtagtcttgtagtgcgttgttcgttctatgaagactttttagagtatcatgacgttcgtgttgttttagatttcatctaaacgaacaaactaaaatgtctgataatggaccccaaaatcagcgaaatgcaccccgcattacgtttggtggaccctcagattcaactggcagtaaccagaatggagaacgcagtggggcgcgatcaaaacaacgtcggccccaaggtttacccaataatactgcgtcttggttcaccgctctcactcaacatggcaaggaagaccttaaattccctcgaggacaaggcgttccaattaacaccaatagcagtccagatgaccaaattggctactaccgaagagctaccagacgaattcgtggtggtgacggtaaaatgaaagatctcagtccaagatggtatttctactacctaggaactgggccagaagctggacttccctatggtgctaacaaagacggcatcatatgggttgcaactgagggagccttgaatacaccaaaagatcacattggcacccgcaatcctgctaacaatgctgcaatcgtgctacaacttcctcaaggaacaacattgccaaaaggcttctacgcagaagggagcagaggcggcagtcaagcctcttctcgttcctcatcacgtagtcgcaacagttcaagaaattcaactccaggcagcagtaggggaacttctcctgctagaatggctggcaatggcggtgatgctgctcttgctttgctgctgcttgacagattgaaccagcttgagagcaaaatgtctggtaaaggccaacaacaacaaggccaaactgtcactaagaaatctgctgctgaggcttctaagaagcctcggcaaaaacgtactgccactaaagcatacaatgtaacacaagctttcggcagacgtggtccagaacaaacccaaggaaattttggggaccaggaactaatcagacaaggaactgattacaaacattggccgcaaattgcacaatttgcccccagcgcttcagcgttcttcggaatgtcgcgcattggcatggaagtcacaccttcgggaacgtggttgacctacacaggtgccatcaaattggatgacaaagatccaaatttcaaagatcaagtcattttgctgaataagcatattgacgcatacaaaacattcccaccaacagagcctaaaaaggacaaaaagaagaaggctgatgaaactcaagccttaccgcagagacagaagaaacagcaaactgtgactcttcttcctgctgcagatttggatgatttctccaaacaattgcaacaatccatgagcagtgctgactcaactcaggcctaaactcatgcagaccacacaaggcagatgggctatataaacgttttcgcttttccgtttacgatatatagtctactcttgtgcagaatgaattctcgtaactacatagcacaagtagatgtagttaactttaatctcacatagcaatctttaatcagtgtgtaacattagggaggacttgaaagagccaccacattttcaccgaggccacgcggagtacgatcgagtgtacagtgaacaatgctagggagagctgcctatatggaagagccctaatgtgtaaaattaattttagtagtgctatccccatgtgattttaatagcttcttaggagaatgacaaaaaaaaaaaaaaaaaaaaaaaaaaaaaaaaa'"
      ]
     },
     "execution_count": 2,
     "metadata": {},
     "output_type": "execute_result"
    }
   ],
   "source": [
    "cc"
   ]
  },
  {
   "cell_type": "markdown",
   "metadata": {},
   "source": [
    "How large is the sars-cov-2 code?  How small does it compress to?"
   ]
  },
  {
   "cell_type": "code",
   "execution_count": 3,
   "metadata": {},
   "outputs": [
    {
     "data": {
      "text/plain": [
       "29903"
      ]
     },
     "execution_count": 3,
     "metadata": {},
     "output_type": "execute_result"
    }
   ],
   "source": [
    "len(cc)"
   ]
  },
  {
   "cell_type": "code",
   "execution_count": 4,
   "metadata": {},
   "outputs": [
    {
     "data": {
      "text/plain": [
       "8858"
      ]
     },
     "execution_count": 4,
     "metadata": {},
     "output_type": "execute_result"
    }
   ],
   "source": [
    "import zlib\n",
    "comp = len(zlib.compress(cc.encode(\"utf-8\")))\n",
    "comp"
   ]
  },
  {
   "cell_type": "code",
   "execution_count": 5,
   "metadata": {},
   "outputs": [
    {
     "data": {
      "text/plain": [
       "8408"
      ]
     },
     "execution_count": 5,
     "metadata": {},
     "output_type": "execute_result"
    }
   ],
   "source": [
    "import lzma\n",
    "lzc = lzma.compress(cc.encode(\"utf-8\"))\n",
    "len(lzc)"
   ]
  },
  {
   "cell_type": "markdown",
   "metadata": {},
   "source": [
    "OK, let's translate RNA to proteins.\n",
    "\n",
    "First, we need to know the \"genetic code\", i.e. how codons translate to amino-acids."
   ]
  },
  {
   "cell_type": "code",
   "execution_count": 6,
   "metadata": {
    "scrolled": true
   },
   "outputs": [
    {
     "data": {
      "text/plain": [
       "{'gct': 'A',\n",
       " 'gcc': 'A',\n",
       " 'gca': 'A',\n",
       " 'gcg': 'A',\n",
       " 'att': 'I',\n",
       " 'atc': 'I',\n",
       " 'ata': 'I',\n",
       " 'cgt': 'R',\n",
       " 'cgc': 'R',\n",
       " 'cga': 'R',\n",
       " 'cgg': 'R',\n",
       " 'aga': 'R',\n",
       " 'agg': 'R',\n",
       " 'ctt': 'L',\n",
       " 'ctc': 'L',\n",
       " 'cta': 'L',\n",
       " 'ctg': 'L',\n",
       " 'tta': 'L',\n",
       " 'ttg': 'L',\n",
       " 'aat': 'N',\n",
       " 'aac': 'N',\n",
       " 'aaa': 'K',\n",
       " 'aag': 'K',\n",
       " 'gat': 'D',\n",
       " 'gac': 'D',\n",
       " 'atg': 'M',\n",
       " 'ttt': 'F',\n",
       " 'ttc': 'F',\n",
       " 'tgt': 'C',\n",
       " 'tgc': 'C',\n",
       " 'cct': 'P',\n",
       " 'ccc': 'P',\n",
       " 'cca': 'P',\n",
       " 'ccg': 'P',\n",
       " 'caa': 'Q',\n",
       " 'cag': 'Q',\n",
       " 'tct': 'S',\n",
       " 'tcc': 'S',\n",
       " 'tca': 'S',\n",
       " 'tcg': 'S',\n",
       " 'agt': 'S',\n",
       " 'agc': 'S',\n",
       " 'gaa': 'E',\n",
       " 'gag': 'E',\n",
       " 'act': 'T',\n",
       " 'acc': 'T',\n",
       " 'aca': 'T',\n",
       " 'acg': 'T',\n",
       " 'tgg': 'W',\n",
       " 'ggt': 'G',\n",
       " 'ggc': 'G',\n",
       " 'gga': 'G',\n",
       " 'ggg': 'G',\n",
       " 'tat': 'Y',\n",
       " 'tac': 'Y',\n",
       " 'cat': 'H',\n",
       " 'cac': 'H',\n",
       " 'gtt': 'V',\n",
       " 'gtc': 'V',\n",
       " 'gta': 'V',\n",
       " 'gtg': 'V',\n",
       " 'taa': '*',\n",
       " 'tga': '*',\n",
       " 'tag': '*'}"
      ]
     },
     "execution_count": 6,
     "metadata": {},
     "output_type": "execute_result"
    }
   ],
   "source": [
    "# Asn or Asp / B\tAAU, AAC; GAU, GAC\n",
    "# Gln or Glu / Z\tCAA, CAG; GAA, GAG\n",
    "# START\tAUG\n",
    "\n",
    "tt = \"\"\"Ala / A\tGCU, GCC, GCA, GCG\n",
    "Ile / I\tAUU, AUC, AUA\n",
    "Arg / R\tCGU, CGC, CGA, CGG; AGA, AGG\n",
    "Leu / L\tCUU, CUC, CUA, CUG; UUA, UUG\n",
    "Asn / N\tAAU, AAC\n",
    "Lys / K\tAAA, AAG\n",
    "Asp / D\tGAU, GAC\n",
    "Met / M\tAUG\n",
    "Phe / F\tUUU, UUC\n",
    "Cys / C\tUGU, UGC\n",
    "Pro / P\tCCU, CCC, CCA, CCG\n",
    "Gln / Q\tCAA, CAG\n",
    "Ser / S\tUCU, UCC, UCA, UCG; AGU, AGC\n",
    "Glu / E\tGAA, GAG\n",
    "Thr / T\tACU, ACC, ACA, ACG\n",
    "Trp / W\tUGG\n",
    "Gly / G\tGGU, GGC, GGA, GGG\n",
    "Tyr / Y\tUAU, UAC\n",
    "His / H\tCAU, CAC\n",
    "Val / V\tGUU, GUC, GUA, GUG\n",
    "STOP\tUAA, UGA, UAG\n",
    "\"\"\".strip()\n",
    "\n",
    "dec = {}\n",
    "for t in tt.split('\\n'):\n",
    "    k, v = t.split('\\x09')\n",
    "    if '/' in k:\n",
    "        k = k.split('/')[-1].strip()\n",
    "    k = k.replace('STOP', '*')\n",
    "    v = v.replace(',', '').replace(';', '').lower().replace('u', 't').split(' ')\n",
    "    for vv in v:\n",
    "        if vv in dec:\n",
    "            print(\"dup\", vv)\n",
    "        dec[vv] = k\n",
    "dec"
   ]
  },
  {
   "cell_type": "markdown",
   "metadata": {},
   "source": [
    "How many amino acids can we decode? (+ the STOP codon)"
   ]
  },
  {
   "cell_type": "code",
   "execution_count": 7,
   "metadata": {},
   "outputs": [
    {
     "data": {
      "text/plain": [
       "21"
      ]
     },
     "execution_count": 7,
     "metadata": {},
     "output_type": "execute_result"
    }
   ],
   "source": [
    "len(set(dec.values()))"
   ]
  },
  {
   "cell_type": "markdown",
   "metadata": {},
   "source": [
    "Now the translation function"
   ]
  },
  {
   "cell_type": "code",
   "execution_count": 8,
   "metadata": {},
   "outputs": [],
   "source": [
    "def translate(x, protein=False):\n",
    "    aa = []\n",
    "    for i in range(0, len(x)-2, 3):\n",
    "        aa.append(dec[x[i:i+3]])\n",
    "    aa = ''.join(aa)\n",
    "    if protein:\n",
    "        if aa[0] != 'M' or aa[-1] != '*':\n",
    "            print(\"BAD PROTEIN\")\n",
    "            print(aa)\n",
    "            return None\n",
    "        aa = aa[:-1]\n",
    "    return aa\n",
    "aa = translate(cc[0:]) + translate(cc[1:]) + translate(cc[2:])"
   ]
  },
  {
   "cell_type": "markdown",
   "metadata": {},
   "source": [
    "The ORF1ab polyprotein... the big suspect in sars-cov-2"
   ]
  },
  {
   "cell_type": "markdown",
   "metadata": {},
   "source": [
    "ORF = open reading frame?"
   ]
  },
  {
   "cell_type": "code",
   "execution_count": 9,
   "metadata": {
    "scrolled": true
   },
   "outputs": [
    {
     "data": {
      "text/plain": [
       "'MESLVPGFNEKTHVQLSLPVLQVRDVLVRGFGDSVEEVLSEARQHLKDGTCGLVEVEKGVLPQLEQPYVFIKRSDARTAPHGHVMVELVAELEGIQYGRSGETLGVLVPHVGEIPVAYRKVLLRKNGNKGAGGHSYGADLKSFDLGDELGTDPYEDFQENWNTKHSSGVTRELMRELNGGAYTRYVDNNFCGPDGYPLECIKDLLARAGKASCTLSEQLDFIDTKRGVYCCREHEHEIAWYTERSEKSYELQTPFEIKLAKKFDTFNGECPNFVFPLNSIIKTIQPRVEKKKLDGFMGRIRSVYPVASPNECNQMCLSTLMKCDHCGETSWQTGDFVKATCEFCGTENLTKEGATTCGYLPQNAVVKIYCPACHNSEVGPEHSLAEYHNESGLKTILRKGGRTIAFGGCVFSYVGCHNKCAYWVPRASANIGCNHTGVVGEGSEGLNDNLLEILQKEKVNINIVGDFKLNEEIAIILASFSASTSAFVETVKGLDYKAFKQIVESCGNFKVTKGKAKKGAWNIGEQKSILSPLYAFASEAARVVRSIFSRTLETAQNSVRVLQKAAITILDGISQYSLRLIDAMMFTSDLATNNLVVMAYITGGVVQLTSQWLTNIFGTVYEKLKPVLDWLEEKFKEGVEFLRDGWEIVKFISTCACEIVGGQIVTCAKEIKESVQTFFKLVNKFLALCADSIIIGGAKLKALNLGETFVTHSKGLYRKCVKSREETGLLMPLKAPKEIIFLEGETLPTEVLTEEVVLKTGDLQPLEQPTSEAVEAPLVGTPVCINGLMLLEIKDTEKYCALAPNMMVTNNTFTLKGGAPTKVTFGDDTVIEVQGYKSVNITFELDERIDKVLNEKCSAYTVELGTEVNEFACVVADAVIKTLQPVSELLTPLGIDLDEWSMATYYLFDESGEFKLASHMYCSFYPPDEDEEEGDCEEEEFEPSTQYEYGTEDDYQGKPLEFGATSAALQPEEEQEEDWLDDDSQQTVGQQDGSEDNQTTTIQTIVEVQPQLEMELTPVVQTIEVNSFSGYLKLTDNVYIKNADIVEEAKKVKPTVVVNAANVYLKHGGGVAGALNKATNNAMQVESDDYIATNGPLKVGGSCVLSGHNLAKHCLHVVGPNVNKGEDIQLLKSAYENFNQHEVLLAPLLSAGIFGADPIHSLRVCVDTVRTNVYLAVFDKNLYDKLVSSFLEMKSEKQVEQKIAEIPKEEVKPFITESKPSVEQRKQDDKKIKACVEEVTTTLEETKFLTENLLLYIDINGNLHPDSATLVSDIDITFLKKDAPYIVGDVVQEGVLTAVVIPTKKAGGTTEMLAKALRKVPTDNYITTYPGQGLNGYTVEEAKTVLKKCKSAFYILPSIISNEKQEILGTVSWNLREMLAHAEETRKLMPVCVETKAIVSTIQRKYKGIKIQEGVVDYGARFYFYTSKTTVASLINTLNDLNETLVTMPLGYVTHGLNLEEAARYMRSLKVPATVSVSSPDAVTAYNGYLTSSSKTPEEHFIETISLAGSYKDWSYSGQSTQLGIEFLKRGDKSVYYTSNPTTFHLDGEVITFDNLKTLLSLREVRTIKVFTTVDNINLHTQVVDMSMTYGQQFGPTYLDGADVTKIKPHNSHEGKTFYVLPNDDTLRVEAFEYYHTTDPSFLGRYMSALNHTKKWKYPQVNGLTSIKWADNNCYLATALLTLQQIELKFNPPALQDAYYRARAGEAANFCALILAYCNKTVGELGDVRETMSYLFQHANLDSCKRVLNVVCKTCGQQQTTLKGVEAVMYMGTLSYEQFKKGVQIPCTCGKQATKYLVQQESPFVMMSAPPAQYELKHGTFTCASEYTGNYQCGHYKHITSKETLYCIDGALLTKSSEYKGPITDVFYKENSYTTTIKPVTYKLDGVVCTEIDPKLDNYYKKDNSYFTEQPIDLVPNQPYPNASFDNFKFVCDNIKFADDLNQLTGYKKPASRELKVTFFPDLNGDVVAIDYKHYTPSFKKGAKLLHKPIVWHVNNATNKATYKPNTWCIRCLWSTKPVETSNSFDVLKSEDAQGMDNLACEDLKPVSEEVVENPTIQKDVLECNVKTTEVVGDIILKPANNSLKITEEVGHTDLMAAYVDNSSLTIKKPNELSRVLGLKTLATHGLAAVNSVPWDTIANYAKPFLNKVVSTTTNIVTRCLNRVCTNYMPYFFTLLLQLCTFTRSTNSRIKASMPTTIAKNTVKSVGKFCLEASFNYLKSPNFSKLINIIIWFLLLSVCLGSLIYSTAALGVLMSNLGMPSYCTGYREGYLNSTNVTIATYCTGSIPCSVCLSGLDSLDTYPSLETIQITISSFKWDLTAFGLVAEWFLAYILFTRFFYVLGLAAIMQLFFSYFAVHFISNSWLMWLIINLVQMAPISAMVRMYIFFASFYYVWKSYVHVVDGCNSSTCMMCYKRNRATRVECTTIVNGVRRSFYVYANGGKGFCKLHNWNCVNCDTFCAGSTFISDEVARDLSLQFKRPINPTDQSSYIVDSVTVKNGSIHLYFDKAGQKTYERHSLSHFVNLDNLRANNTKGSLPINVIVFDGKSKCEESSAKSASVYYSQLMCQPILLLDQALVSDVGDSAEVAVKMFDAYVNTFSSTFNVPMEKLKTLVATAEAELAKNVSLDNVLSTFISAARQGFVDSDVETKDVVECLKLSHQSDIEVTGDSCNNYMLTYNKVENMTPRDLGACIDCSARHINAQVAKSHNIALIWNVKDFMSLSEQLRKQIRSAAKKNNLPFKLTCATTRQVVNVVTTKIALKGGKIVNNWLKQLIKVTLVFLFVAAIFYLITPVHVMSKHTDFSSEIIGYKAIDGGVTRDIASTDTCFANKHADFDTWFSQRGGSYTNDKACPLIAAVITREVGFVVPGLPGTILRTTNGDFLHFLPRVFSAVGNICYTPSKLIEYTDFATSACVLAAECTIFKDASGKPVPYCYDTNVLEGSVAYESLRPDTRYVLMDGSIIQFPNTYLEGSVRVVTTFDSEYCRHGTCERSEAGVCVSTSGRWVLNNDYYRSLPGVFCGVDAVNLLTNMFTPLIQPIGALDISASIVAGGIVAIVVTCLAYYFMRFRRAFGEYSHVVAFNTLLFLMSFTVLCLTPVYSFLPGVYSVIYLYLTFYLTNDVSFLAHIQWMVMFTPLVPFWITIAYIICISTKHFYWFFSNYLKRRVVFNGVSFSTFEEAALCTFLLNKEMYLKLRSDVLLPLTQYNRYLALYNKYKYFSGAMDTTSYREAACCHLAKALNDFSNSGSDVLYQPPQTSITSAVLQSGFRKMAFPSGKVEGCMVQVTCGTTTLNGLWLDDVVYCPRHVICTSEDMLNPNYEDLLIRKSNHNFLVQAGNVQLRVIGHSMQNCVLKLKVDTANPKTPKYKFVRIQPGQTFSVLACYNGSPSGVYQCAMRPNFTIKGSFLNGSCGSVGFNIDYDCVSFCYMHHMELPTGVHAGTDLEGNFYGPFVDRQTAQAAGTDTTITVNVLAWLYAAVINGDRWFLNRFTTTLNDFNLVAMKYNYEPLTQDHVDILGPLSAQTGIAVLDMCASLKELLQNGMNGRTILGSALLEDEFTPFDVVRQCSGVTFQSAVKRTIKGTHHWLLLTILTSLLVLVQSTQWSLFFFLYENAFLPFAMGIIAMSAFAMMFVKHKHAFLCLFLLPSLATVAYFNMVYMPASWVMRIMTWLDMVDTSLSGFKLKDCVMYASAVVLLILMTARTVYDDGARRVWTLMNVLTLVYKVYYGNALDQAISMWALIISVTSNYSGVVTTVMFLARGIVFMCVEYCPIFFITGNTLQCIMLVYCFLGYFCTCYFGLFCLLNRYFRLTLGVYDYLVSTQEFRYMNSQGLLPPKNSIDAFKLNIKLLGVGGKPCIKVATVQSKMSDVKCTSVVLLSVLQQLRVESSSKLWAQCVQLHNDILLAKDTTEAFEKMVSLLSVLLSMQGAVDINKLCEEMLDNRATLQAIASEFSSLPSYAAFATAQEAYEQAVANGDSEVVLKKLKKSLNVAKSEFDRDAAMQRKLEKMADQAMTQMYKQARSEDKRAKVTSAMQTMLFTMLRKLDNDALNNIINNARDGCVPLNIIPLTTAAKLMVVIPDYNTYKNTCDGTTFTYASALWEIQQVVDADSKIVQLSEISMDNSPNLAWPLIVTALRANSAVKLQNNELSPVALRQMSCAAGTTQTACTDDNALAYYNTTKGGRFVLALLSDLQDLKWARFPKSDGTGTIYTELEPPCRFVTDTPKGPKVKYLYFIKGLNNLNRGMVLGSLAATVRLQAGNATEVPANSTVLSFCAFAVDAAKAYKDYLASGGQPITNCVKMLCTHTGTGQAITVTPEANMDQESFGGASCCLYCRCHIDHPNPKGFCDLKGKYVQIPTTCANDPVGFTLKNTVCTVCGMWKGYGCSCDQLREPMLQSADAQSFLRVCGVSAARLTPCGTGTSTDVVYRAFDIYNDKVAGFAKFLKTNCCRFQEKDEDDNLIDSYFVVKRHTFSNYQHEETIYNLLKDCPAVAKHDFFKFRIDGDMVPHISRQRLTKYTMADLVYALRHFDEGNCDTLKEILVTYNCCDDDYFNKKDWYDFVENPDILRVYANLGERVRQALLKTVQFCDAMRNAGIVGVLTLDNQDLNGNWYDFGDFIQTTPGSGVPVVDSYYSLLMPILTLTRALTAESHVDTDLTKPYIKWDLLKYDFTEERLKLFDRYFKYWDQTYHPNCVNCLDDRCILHCANFNVLFSTVFPPTSFGPLVRKIFVDGVPFVVSTGYHFRELGVVHNQDVNLHSSRLSFKELLVYAADPAMHAASGNLLLDKRTTCFSVAALTNNVAFQTVKPGNFNKDFYDFAVSKGFFKEGSSVELKHFFFAQDGNAAISDYDYYRYNLPTMCDIRQLLFVVEVVDKYFDCYDGGCINANQVIVNNLDKSAGFPFNKWGKARLYYDSMSYEDQDALFAYTKRNVIPTITQMNLKYAISAKNRARTVAGVSICSTMTNRQFHQKLLKSIAATRGATVVIGTSKFYGGWHNMLKTVYSDVENPHLMGWDYPKCDRAMPNMLRIMASLVLARKHTTCCSLSHRFYRLANECAQVLSEMVMCGGSLYVKPGGTSSGDATTAYANSVFNICQAVTANVNALLSTDGNKIADKYVRNLQHRLYECLYRNRDVDTDFVNEFYAYLRKHFSMMILSDDAVVCFNSTYASQGLVASIKNFKSVLYYQNNVFMSEAKCWTETDLTKGPHEFCSQHTMLVKQGDDYVYLPYPDPSRILGAGCFVDDIVKTDGTLMIERFVSLAIDAYPLTKHPNQEYADVFHLYLQYIRKLHDELTGHMLDMYSVMLTNDNTSRYWEPEFYEAMYTPHTVLQAVGACVLCNSQTSLRCGACIRRPFLCCKCCYDHVISTSHKLVLSVNPYVCNAPGCDVTDVTQLYLGGMSYYCKSHKPPISFPLCANGQVFGLYKNTCVGSDNVTDFNAIATCDWTNAGDYILANTCTERLKLFAAETLKATEETFKLSYGIATVREVLSDRELHLSWEVGKPRPPLNRNYVFTGYRVTKNSKVQIGEYTFEKGDYGDAVVYRGTTTYKLNVGDYFVLTSHTVMPLSAPTLVPQEHYVRITGLYPTLNISDEFSSNVANYQKVGMQKYSTLQGPPGTGKSHFAIGLALYYPSARIVYTACSHAAVDALCEKALKYLPIDKCSRIIPARARVECFDKFKVNSTLEQYVFCTVNALPETTADIVVFDEISMATNYDLSVVNARLRAKHYVYIGDPAQLPAPRTLLTKGTLEPEYFNSVCRLMKTIGPDMFLGTCRRCPAEIVDTVSALVYDNKLKAHKDKSAQCFKMFYKGVITHDVSSAINRPQIGVVREFLTRNPAWRKAVFISPYNSQNAVASKILGLPTQTVDSSQGSEYDYVIFTQTTETAHSCNVNRFNVAITRAKVGILCIMSDRDLYDKLQFTSLEIPRRNVATLQAENVTGLFKDCSKVITGLHPTQAPTHLSVDTKFKTEGLCVDIPGIPKDMTYRRLISMMGFKMNYQVNGYPNMFITREEAIRHVRAWIGFDVEGCHATREAVGTNLPLQLGFSTGVNLVAVPTGYVDTPNNTDFSRVSAKPPPGDQFKHLIPLMYKGLPWNVVRIKIVQMLSDTLKNLSDRVVFVLWAHGFELTSMKYFVKIGPERTCCLCDRRATCFSTASDTYACWHHSIGFDYVYNPFMIDVQQWGFTGNLQSNHDLYCQVHGNAHVASCDAIMTRCLAVHECFVKRVDWTIEYPIIGDELKINAACRKVQHMVVKAALLADKFPVLHDIGNPKAIKCVPQADVEWKFYDAQPCSDKAYKIEELFYSYATHSDKFTDGVCLFWNCNVDRYPANSIVCRFDTRVLSNLNLPGCDGGSLYVNKHAFHTPAFDKSAFVNLKQLPFFYYSDSPCESHGKQVVSDIDYVPLKSATCITRCNLGGAVCRHHANEYRLYLDAYNMMISAGFSLWVYKQFDTYNLWNTFTRLQSLENVAFNVVNKGHFDGQQGEVPVSIINNTVYTKVDGVDVELFENKTTLPVNVAFELWAKRNIKPVPEVKILNNLGVDIAANTVIWDYKRDAPAHISTIGVCSMTDIAKKPTETICAPLTVFFDGRVDGQVDLFRNARNGVLITEGSVKGLQPSVGPKQASLNGVTLIGEAVKTQFNYYKKVDGVVQQLPETYFTQSRNLQEFKPRSQMEIDFLELAMDEFIERYKLEGYAFEHIVYGDFSHSQLGGLHLLIGLAKRFKESPFELEDFIPMDSTVKNYFITDAQTGSSKCVCSVIDLLLDDFVEIIKSQDLSVVSKVVKVTIDYTEISFMLWCKDGHVETFYPKLQSSQAWQPGVAMPNLYKMQRMLLEKCDLQNYGDSATLPKGIMMNVAKYTQLCQYLNTLTLAVPYNMRVIHFGAGSDKGVAPGTAVLRQWLPTGTLLVDSDLNDFVSDADSTLIGDCATVHTANKWDLIISDMYDPKTKNVTKENDSKEGFFTYICGFIQQKLALGGSVAIKITEHSWNADLYKLMGHFAWWTAFVTNVNASSSEAFLIGCNYLGKPREQIDGYVMHANYIFWRNTNPIQLSSYSLFDMSKFPLKLRGTAVMSLKEGQINDMILSLLSKGRLIIRENNRVVISSDVLVNN*'"
      ]
     },
     "execution_count": 9,
     "metadata": {},
     "output_type": "execute_result"
    }
   ],
   "source": [
    "orf1ab = translate(cc[266-1:13468-1]) + translate(cc[13468-1:21555])\n",
    "orf1ab"
   ]
  },
  {
   "cell_type": "code",
   "execution_count": 10,
   "metadata": {
    "scrolled": true
   },
   "outputs": [
    {
     "data": {
      "text/plain": [
       "7096"
      ]
     },
     "execution_count": 10,
     "metadata": {},
     "output_type": "execute_result"
    }
   ],
   "source": [
    "len(orf1ab)"
   ]
  },
  {
   "cell_type": "markdown",
   "metadata": {},
   "source": [
    "Let's see what the \"old\" sars-cov looked like... doing some archeology."
   ]
  },
  {
   "cell_type": "code",
   "execution_count": 11,
   "metadata": {},
   "outputs": [],
   "source": [
    "# sars_v1\n",
    "# https://www.uniprot.org/uniprot/A7J8L3.fasta\n",
    "sars_v1 = \"\"\"\n",
    "MESLVLGVNEKTHVQLSLPVLQVRDVLVRGFGDSVEEALSEAREHLKNGTCGLVELEKGV\n",
    "LPQLEQPYVFIKRSDALSTNHGHKVVELVAEMDGIQYGRSGITLGVLVPHVGETPIAYRN\n",
    "VLLRKNGNKGAGGHSYGIDLKSYDLGDELGTDPIEDYEQNWNTKHGSGALRELTRELNGG\n",
    "AVTRYVDNNFCGPDGYPLDCIKDFLARAGKSMCTLSEQLDYIESKRGVYCCRDHEHEIAW\n",
    "FTERSDKSYEHQTPFEIKSAKKFDTFKGECPKFVFPLNSKVKVIQPRVEKKKTEGFMGRI\n",
    "RSVYPVASPQECNNMHLSTLMKCNHCDEVSWQTCDFLKATCEHCGTENLVIEGPTTCGYL\n",
    "PTNAVVKMPCPACQDPEIGPEHSVADYHNHSNIETRLRKGGRTRCFGGCVFAYVGCYNKR\n",
    "AYWVPRASADIGSGHTGITGDNVETLNEDLLEILSRERVNINIVGDFHLNEEVAIILASF\n",
    "SASTSAFIDTIKSLDYKSFKTIVESCGNYKVTKGKPVKGAWNIGQQRSVLTPLCGFPSQA\n",
    "AGVIRSIFARTLDAANHSIPDLQRAAVTILDGISEQSLRLVDAMVYTSDLLTNSVIIMAY\n",
    "VTGGLVQQTSQWLSNLLGTTVEKLRPIFEWIEAKLSAGVEFLKDAWEILKFLITGVFDIV\n",
    "KGQIQVASDNIKDCVKCFIDVVNKALEMCIDQVTIAGAKLRSLNLGEVFIAQSKGLYRQC\n",
    "IRGKEQLQLLMPLKAPKEVTFLEGDSHDTVLTSEEVVLKNGELEALETPVDSFTNGAIVG\n",
    "TPVCVNGLMLLEIKDKEQYCALSPGLLATNNVFRLKGGAPIKGVTFGEDTVWEVQGYKNV\n",
    "RITFELDERVDKVLNEKCSVYTVESGTEVTEFACVVAEAVVKTLQPVSDLLTNMGIDLDE\n",
    "WSVATFYLFDDAGEENFSSRMYCSFYPPDEEEEDDAECEEEEIDETCEHEYGTEDDYQGL\n",
    "PLEFGASAETVRVEEEEEEDWLDDTTEQSEIEPEPEPTPEEPVNQFTGYLKLTDNVAIKC\n",
    "VDIVKEAQSANPMVIVNAANIHLKHGGGVAGALNKATNGAMQKESDDYIKLNGPLTVGGS\n",
    "CLLSGHNLAKKCLHVVGPNLNAGEDIQLLKAAYENFNSQDILLAPLLSAGIFGAKPLQSL\n",
    "QVCVQTVRTQVYIAVNDKALYEQVVMDYLDNLKPRVEAPKQEEPPNTEDSKTEEKSVVQK\n",
    "PVDVKPKIKACIDEVTTTLEETKFLTNKLLLFADINGKLYHDSQNMLRGEDMSFLEKDAP\n",
    "YMVGDVITSGDITCVVIPSKKAGGTTEMLSRALKKVPVDEYITTYPGQGCAGYTLEEAKT\n",
    "ALKKCKSAFYVLPSEAPNAKEEILGTVSWNLREMLAHAEETRKLMPICMDVRAIMATIQR\n",
    "KYKGIKIQEGIVDYGVRFFFYTSKEPVASIITKLNSLNEPLVTMPIGYVTHGFNLEEAAR\n",
    "CMRSLKAPAVVSVSSPDAVTTYNGYLTSSSKTSEEHFVETVSLAGSYRDWSYSGQRTELG\n",
    "VEFLKRGDKIVYHTLESPVEFHLDGEVLSLDKLKSLLSLREVKTIKVFTTVDNTNLHTQL\n",
    "VDMSMTYGQQFGPTYLDGADVTKIKPHVNHEGKTFFVLPSDDTLRSEAFEYYHTLDESFL\n",
    "GRYMSALNHTKKWKFPQVGGLTSIKWADNNCYLSSVLLALQQLEVKFNAPALQEAYYRAR\n",
    "AGDAANFCALILAYSNKTVGELGDVRETMTHLLQHANLESAKRVLNVVCKHCGQKTTTLT\n",
    "GVEAVMYMGTLSYDNLKTGVSIPCVCGRDATQYLVQQESSFVMMSAPPAEYKLQQGTFLC\n",
    "ANEYTGNYQCGHYTHITAKETLYRIDGAHLTKMSEYKGPVTDVFYKETSYTTTIKPVSYK\n",
    "LDGVTYTEIEPKLDGYYKKDNAYYTEQPIDLVPTQPLPNASFDNFKLTCSNTKFADDLNQ\n",
    "MTGFTKPASRELSVTFFPDLNGDVVAIDYRHYSASFKKGAKLLHKPIVWHINQATTKTTF\n",
    "KPNTWCLRCLWSTKPVDTSNSFEVLAVEDTQGMDNLACESQQPTSEEVVENPTIQKEVIE\n",
    "CDVKTTEVVGNVILKPSDEGVKVTQELGHEDLMAAYVENTSITIKKPNELSLALGLKTIA\n",
    "THGIAAINSVPWSKILAYVKPFLGQAAITTSNCAKRLAQRVFNNYMPYVFTLLFQLCTFT\n",
    "KSTNSRIRASLPTTIAKNSVKSVAKLCLDAGINYVKSPKFSKLFTIAMWLLLLSICLGSL\n",
    "ICVTAAFGVLLSNFGAPSYCNGVRELYLNSSNVTTMDFCEGSFPCSICLSGLDSLDSYPA\n",
    "LETIQVTISSYKLDLTILGLAAEWVLAYMLFTKFFYLLGLSAIMQVFFGYFASHFISNSW\n",
    "LMWFIISIVQMAPVSAMVRMYIFFASFYYIWKSYVHIMDGCTSSTCMMCYKRNRATRVEC\n",
    "TTIVNGMKRSFYVYANGGRGFCKTHNWNCLNCDTFCTGSTFISDEVARDLSLQFKRPINP\n",
    "TDQSSYIVDSVAVKNGALHLYFDKAGQKTYERHPLSHFVNLDNLRANNTKGSLPINVIVF\n",
    "DGKSKCDESASKSASVYYSQLMCQPILLLDQALVSDVGDSTEVSVKMFDAYVDTFSATFS\n",
    "VPMEKLKALVATAHSELAKGVALDGVLSTFVSAARQGVVDTDVDTKDVIECLKLSHHSDL\n",
    "EVTGDSCNNFMLTYNKVENMTPRDLGACIDCNARHINAQVAKSHNVSLIWNVKDYMSLSE\n",
    "QLRKQIRSAAKKNNIPFRLTCATTRQVVNVITTKISLKGGKIVSTCFKLMLKATLLCVLA\n",
    "ALVCYIVMPVHTLSIHDGYTNEIIGYKAIQDGVTRDIISTDDCFANKHAGFDAWFSQRGG\n",
    "SYKNDKSCPVVAAIITREIGFIVPGLPGTVLRAINGDFLHFLPRVFSAVGNICYTPSKLI\n",
    "EYSDFATSACVLAAECTIFKDAMGKPVPYCYDTNLLEGSISYSELRPDTRYVLMDGSIIQ\n",
    "FPNTYLEGSVRVVTTFDAEYCRHGTCERSEVGICLSTSGRWVLNNEHYRALSGVFCGVDA\n",
    "MNLIANIFTPLVQPVGALDVSASVVAGGIIAILVTCAAYYFMKFRRVFGEYNHVVAANAL\n",
    "LFLMSFTILCLVPAYSFLPGVYSVFYLYLTFYFTNDVSFLAHLQWFAMFSPIVPFWITAI\n",
    "YVFCISLKHCHWFFNNYLRKRVMFNGVTFSTFEEAALCTFLLNKEMYLKLRSETLLPLTQ\n",
    "YNRYLALYNKYKYFSGALDTTSYREAACCHLAKALNDFSNSGADVLYQPPQTSITSAVLQ\n",
    "SGFRKMAFPSGKVEGCMVQVTCGTTTLNGLWLDDTVYCPRHVICTAEDMLNPNYEDLLIR\n",
    "KSNHSFLVQAGNVQLRVIGHSMQNCLLRLKVDTSNPKTPKYKFVRIQPGQTFSVLACYNG\n",
    "SPSGVYQCAMRPNHTIKGSFLNGSCGSVGFNIDYDCVSFCYMHHMELPTGVHAGTDLEGK\n",
    "FYGPFVDRQTAQAAGTDTTITLNVLAWLYAAVINGDRWFLNRFTTTLNDFNLVAMKYNYE\n",
    "PLTQDHVDILGPLSAQTGIAVLDMCAALKELLQNGMNGRTILGSTILEDEFTPFDVVRQC\n",
    "SGVTFQGKFKKIVKGTHHWMLLTFLTSLLILVQSTQWSLFFFVYENAFLPFTLGIMAIAA\n",
    "CAMLLVKHKHAFLCLFLLPSLATVAYFNMVYMPASWVMRIMTWLELADTSLSGYRLKDCV\n",
    "MYASALVLLILMTARTVYDDAARRVWTLMNVITLVYKVYYGNALDQAISMWALVISVTSN\n",
    "YSGVVTTIMFLARAIVFVCVEYYPLLFITGNTLQCIMLVYCFLGYCCCCYFGLFCLLNRY\n",
    "FRLTLGVYDYLVSTQEFRYMNSQGLLPPKSSIDAFKLNIKLLGIGGKPCIKVATVQSKMS\n",
    "DVKCTSVVLLSVLQQLRVESSSKLWAQCVQLHNDILLAKDTTEAFEKMVSLLSVLLSMQG\n",
    "AVDINRLCEEMLDNRATLQAIASEFSSLPSYAAYATAQEAYEQAVANGDSEVVLKKLKKS\n",
    "LNVAKSEFDRDAAMQRKLEKMADQAMTQMYKQARSEDKRAKVTSAMQTMLFTMLRKLDND\n",
    "ALNNIINNARDGCVPLNIIPLTTAAKLMVVVPDYGTYKNTCDGNTFTYASALWEIQQVVD\n",
    "ADSKIVQLSEINMDNSPNLAWPLIVTALRANSAVKLQNNELSPVALRQMSCAAGTTQTAC\n",
    "TDDNALAYYNNSKGGRFVLALLSDHQDLKWARFPKSDGTGTIYTELEPPCRFVTDTPKGP\n",
    "KVKYLYFIKGLNNLNRGMVLGSLAATVRLQAGNATEVPANSTVLSFCAFAVDPAKAYKDY\n",
    "LASGGQPITNCVKMLCTHTGTGQAITVTPEANMDQESFGGASCCLYCRCHIDHPNPKGFC\n",
    "DLKGKYVQIPTTCANDPVGFTLRNTVCTVCGMWKGYGCSCDQLREPLMQSADASTFLNGF\n",
    "AV\"\"\".replace('\\n','')"
   ]
  },
  {
   "cell_type": "code",
   "execution_count": 12,
   "metadata": {
    "scrolled": true
   },
   "outputs": [
    {
     "data": {
      "text/plain": [
       "'MESLVPGFNEKTHVQLSLPVLQVRDVLVRGFGDSVEEVLSEARQHLKDGTCGLVEVEKGVLPQLEQPYVFIKRSDARTAPHGHVMVELVAELEGIQYGRSGETLGVLVPHVGEIPVAYRKVLLRKNGNKGAGGHSYGADLKSFDLGDELGTDPYEDFQENWNTKHSSGVTRELMRELNGGAYTRYVDNNFCGPDGYPLECIKDLLARAGKASCTLSEQLDFIDTKRGVYCCREHEHEIAWYTERSEKSYELQTPFEIKLAKKFDTFNGECPNFVFPLNSIIKTIQPRVEKKKLDGFMGRIRSVYPVASPNECNQMCLSTLMKCDHCGETSWQTGDFVKATCEFCGTENLTKEGATTCGYLPQNAVVKIYCPACHNSEVGPEHSLAEYHNESGLKTILRKGGRTIAFGGCVFSYVGCHNKCAYWVPRASANIGCNHTGVVGEGSEGLNDNLLEILQKEKVNINIVGDFKLNEEIAIILASFSASTSAFVETVKGLDYKAFKQIVESCGNFKVTKGKAKKGAWNIGEQKSILSPLYAFASEAARVVRSIFSRTLETAQNSVRVLQKAAITILDGISQYSLRLIDAMMFTSDLATNNLVVMAYITGGVVQLTSQWLTNIFGTVYEKLKPVLDWLEEKFKEGVEFLRDGWEIVKFISTCACEIVGGQIVTCAKEIKESVQTFFKLVNKFLALCADSIIIGGAKLKALNLGETFVTHSKGLYRKCVKSREETGLLMPLKAPKEIIFLEGETLPTEVLTEEVVLKTGDLQPLEQPTSEAVEAPLVGTPVCINGLMLLEIKDTEKYCALAPNMMVTNNTFTLKGGAPTKVTFGDDTVIEVQGYKSVNITFELDERIDKVLNEKCSAYTVELGTEVNEFACVVADAVIKTLQPVSELLTPLGIDLDEWSMATYYLFDESGEFKLASHMYCSFYPPDEDEEEGDCEEEEFEPSTQYEYGTEDDYQGKPLEFGATSAALQPEEEQEEDWLDDDSQQTVGQQDGSEDNQTTTIQTIVEVQPQLEMELTPVVQTIEVNSFSGYLKLTDNVYIKNADIVEEAKKVKPTVVVNAANVYLKHGGGVAGALNKATNNAMQVESDDYIATNGPLKVGGSCVLSGHNLAKHCLHVVGPNVNKGEDIQLLKSAYENFNQHEVLLAPLLSAGIFGADPIHSLRVCVDTVRTNVYLAVFDKNLYDKLVSSFLEMKSEKQVEQKIAEIPKEEVKPFITESKPSVEQRKQDDKKIKACVEEVTTTLEETKFLTENLLLYIDINGNLHPDSATLVSDIDITFLKKDAPYIVGDVVQEGVLTAVVIPTKKAGGTTEMLAKALRKVPTDNYITTYPGQGLNGYTVEEAKTVLKKCKSAFYILPSIISNEKQEILGTVSWNLREMLAHAEETRKLMPVCVETKAIVSTIQRKYKGIKIQEGVVDYGARFYFYTSKTTVASLINTLNDLNETLVTMPLGYVTHGLNLEEAARYMRSLKVPATVSVSSPDAVTAYNGYLTSSSKTPEEHFIETISLAGSYKDWSYSGQSTQLGIEFLKRGDKSVYYTSNPTTFHLDGEVITFDNLKTLLSLREVRTIKVFTTVDNINLHTQVVDMSMTYGQQFGPTYLDGADVTKIKPHNSHEGKTFYVLPNDDTLRVEAFEYYHTTDPSFLGRYMSALNHTKKWKYPQVNGLTSIKWADNNCYLATALLTLQQIELKFNPPALQDAYYRARAGEAANFCALILAYCNKTVGELGDVRETMSYLFQHANLDSCKRVLNVVCKTCGQQQTTLKGVEAVMYMGTLSYEQFKKGVQIPCTCGKQATKYLVQQESPFVMMSAPPAQYELKHGTFTCASEYTGNYQCGHYKHITSKETLYCIDGALLTKSSEYKGPITDVFYKENSYTTTIKPVTYKLDGVVCTEIDPKLDNYYKKDNSYFTEQPIDLVPNQPYPNASFDNFKFVCDNIKFADDLNQLTGYKKPASRELKVTFFPDLNGDVVAIDYKHYTPSFKKGAKLLHKPIVWHVNNATNKATYKPNTWCIRCLWSTKPVETSNSFDVLKSEDAQGMDNLACEDLKPVSEEVVENPTIQKDVLECNVKTTEVVGDIILKPANNSLKITEEVGHTDLMAAYVDNSSLTIKKPNELSRVLGLKTLATHGLAAVNSVPWDTIANYAKPFLNKVVSTTTNIVTRCLNRVCTNYMPYFFTLLLQLCTFTRSTNSRIKASMPTTIAKNTVKSVGKFCLEASFNYLKSPNFSKLINIIIWFLLLSVCLGSLIYSTAALGVLMSNLGMPSYCTGYREGYLNSTNVTIATYCTGSIPCSVCLSGLDSLDTYPSLETIQITISSFKWDLTAFGLVAEWFLAYILFTRFFYVLGLAAIMQLFFSYFAVHFISNSWLMWLIINLVQMAPISAMVRMYIFFASFYYVWKSYVHVVDGCNSSTCMMCYKRNRATRVECTTIVNGVRRSFYVYANGGKGFCKLHNWNCVNCDTFCAGSTFISDEVARDLSLQFKRPINPTDQSSYIVDSVTVKNGSIHLYFDKAGQKTYERHSLSHFVNLDNLRANNTKGSLPINVIVFDGKSKCEESSAKSASVYYSQLMCQPILLLDQALVSDVGDSAEVAVKMFDAYVNTFSSTFNVPMEKLKTLVATAEAELAKNVSLDNVLSTFISAARQGFVDSDVETKDVVECLKLSHQSDIEVTGDSCNNYMLTYNKVENMTPRDLGACIDCSARHINAQVAKSHNIALIWNVKDFMSLSEQLRKQIRSAAKKNNLPFKLTCATTRQVVNVVTTKIALKGGKIVNNWLKQLIKVTLVFLFVAAIFYLITPVHVMSKHTDFSSEIIGYKAIDGGVTRDIASTDTCFANKHADFDTWFSQRGGSYTNDKACPLIAAVITREVGFVVPGLPGTILRTTNGDFLHFLPRVFSAVGNICYTPSKLIEYTDFATSACVLAAECTIFKDASGKPVPYCYDTNVLEGSVAYESLRPDTRYVLMDGSIIQFPNTYLEGSVRVVTTFDSEYCRHGTCERSEAGVCVSTSGRWVLNNDYYRSLPGVFCGVDAVNLLTNMFTPLIQPIGALDISASIVAGGIVAIVVTCLAYYFMRFRRAFGEYSHVVAFNTLLFLMSFTVLCLTPVYSFLPGVYSVIYLYLTFYLTNDVSFLAHIQWMVMFTPLVPFWITIAYIICISTKHFYWFFSNYLKRRVVFNGVSFSTFEEAALCTFLLNKEMYLKLRSDVLLPLTQYNRYLALYNKYKYFSGAMDTTSYREAACCHLAKALNDFSNSGSDVLYQPPQTSITSAVLQSGFRKMAFPSGKVEGCMVQVTCGTTTLNGLWLDDVVYCPRHVICTSEDMLNPNYEDLLIRKSNHNFLVQAGNVQLRVIGHSMQNCVLKLKVDTANPKTPKYKFVRIQPGQTFSVLACYNGSPSGVYQCAMRPNFTIKGSFLNGSCGSVGFNIDYDCVSFCYMHHMELPTGVHAGTDLEGNFYGPFVDRQTAQAAGTDTTITVNVLAWLYAAVINGDRWFLNRFTTTLNDFNLVAMKYNYEPLTQDHVDILGPLSAQTGIAVLDMCASLKELLQNGMNGRTILGSALLEDEFTPFDVVRQCSGVTFQSAVKRTIKGTHHWLLLTILTSLLVLVQSTQWSLFFFLYENAFLPFAMGIIAMSAFAMMFVKHKHAFLCLFLLPSLATVAYFNMVYMPASWVMRIMTWLDMVDTSLSGFKLKDCVMYASAVVLLILMTARTVYDDGARRVWTLMNVLTLVYKVYYGNALDQAISMWALIISVTSNYSGVVTTVMFLARGIVFMCVEYCPIFFITGNTLQCIMLVYCFLGYFCTCYFGLFCLLNRYFRLTLGVYDYLVSTQEFRYMNSQGLLPPKNSIDAFKLNIKLLGVGGKPCIKVATVQSKMSDVKCTSVVLLSVLQQLRVESSSKLWAQCVQLHNDILLAKDTTEAFEKMVSLLSVLLSMQGAVDINKLCEEMLDNRATLQAIASEFSSLPSYAAFATAQEAYEQAVANGDSEVVLKKLKKSLNVAKSEFDRDAAMQRKLEKMADQAMTQMYKQARSEDKRAKVTSAMQTMLFTMLRKLDNDALNNIINNARDGCVPLNIIPLTTAAKLMVVIPDYNTYKNTCDGTTFTYASALWEIQQVVDADSKIVQLSEISMDNSPNLAWPLIVTALRANSAVKLQNNELSPVALRQMSCAAGTTQTACTDDNALAYYNTTKGGRFVLALLSDLQDLKWARFPKSDGTGTIYTELEPPCRFVTDTPKGPKVKYLYFIKGLNNLNRGMVLGSLAATVRLQAGNATEVPANSTVLSFCAFAVDAAKAYKDYLASGGQPITNCVKMLCTHTGTGQAITVTPEANMDQESFGGASCCLYCRCHIDHPNPKGFCDLKGKYVQIPTTCANDPVGFTLKNTVCTVCGMWKGYGCSCDQLREPMLQSADAQSFLNGFAV'"
      ]
     },
     "execution_count": 12,
     "metadata": {},
     "output_type": "execute_result"
    }
   ],
   "source": [
    "# \"orf1a polyprotein\"\n",
    "# https://www.ncbi.nlm.nih.gov/protein/1802476803\n",
    "sars_v2 = orf1a = translate(cc[266-1:13483], True)\n",
    "orf1a"
   ]
  },
  {
   "cell_type": "code",
   "execution_count": 13,
   "metadata": {},
   "outputs": [
    {
     "data": {
      "text/plain": [
       "4405"
      ]
     },
     "execution_count": 13,
     "metadata": {},
     "output_type": "execute_result"
    }
   ],
   "source": [
    "len(orf1a)"
   ]
  },
  {
   "cell_type": "markdown",
   "metadata": {},
   "source": [
    "ORF1b is not a valid protein, as it does not start with Methionine??"
   ]
  },
  {
   "cell_type": "code",
   "execution_count": 14,
   "metadata": {},
   "outputs": [
    {
     "data": {
      "text/plain": [
       "'RVCGVSAARLTPCGTGTSTDVVYRAFDIYNDKVAGFAKFLKTNCCRFQEKDEDDNLIDSYFVVKRHTFSNYQHEETIYNLLKDCPAVAKHDFFKFRIDGDMVPHISRQRLTKYTMADLVYALRHFDEGNCDTLKEILVTYNCCDDDYFNKKDWYDFVENPDILRVYANLGERVRQALLKTVQFCDAMRNAGIVGVLTLDNQDLNGNWYDFGDFIQTTPGSGVPVVDSYYSLLMPILTLTRALTAESHVDTDLTKPYIKWDLLKYDFTEERLKLFDRYFKYWDQTYHPNCVNCLDDRCILHCANFNVLFSTVFPPTSFGPLVRKIFVDGVPFVVSTGYHFRELGVVHNQDVNLHSSRLSFKELLVYAADPAMHAASGNLLLDKRTTCFSVAALTNNVAFQTVKPGNFNKDFYDFAVSKGFFKEGSSVELKHFFFAQDGNAAISDYDYYRYNLPTMCDIRQLLFVVEVVDKYFDCYDGGCINANQVIVNNLDKSAGFPFNKWGKARLYYDSMSYEDQDALFAYTKRNVIPTITQMNLKYAISAKNRARTVAGVSICSTMTNRQFHQKLLKSIAATRGATVVIGTSKFYGGWHNMLKTVYSDVENPHLMGWDYPKCDRAMPNMLRIMASLVLARKHTTCCSLSHRFYRLANECAQVLSEMVMCGGSLYVKPGGTSSGDATTAYANSVFNICQAVTANVNALLSTDGNKIADKYVRNLQHRLYECLYRNRDVDTDFVNEFYAYLRKHFSMMILSDDAVVCFNSTYASQGLVASIKNFKSVLYYQNNVFMSEAKCWTETDLTKGPHEFCSQHTMLVKQGDDYVYLPYPDPSRILGAGCFVDDIVKTDGTLMIERFVSLAIDAYPLTKHPNQEYADVFHLYLQYIRKLHDELTGHMLDMYSVMLTNDNTSRYWEPEFYEAMYTPHTVLQAVGACVLCNSQTSLRCGACIRRPFLCCKCCYDHVISTSHKLVLSVNPYVCNAPGCDVTDVTQLYLGGMSYYCKSHKPPISFPLCANGQVFGLYKNTCVGSDNVTDFNAIATCDWTNAGDYILANTCTERLKLFAAETLKATEETFKLSYGIATVREVLSDRELHLSWEVGKPRPPLNRNYVFTGYRVTKNSKVQIGEYTFEKGDYGDAVVYRGTTTYKLNVGDYFVLTSHTVMPLSAPTLVPQEHYVRITGLYPTLNISDEFSSNVANYQKVGMQKYSTLQGPPGTGKSHFAIGLALYYPSARIVYTACSHAAVDALCEKALKYLPIDKCSRIIPARARVECFDKFKVNSTLEQYVFCTVNALPETTADIVVFDEISMATNYDLSVVNARLRAKHYVYIGDPAQLPAPRTLLTKGTLEPEYFNSVCRLMKTIGPDMFLGTCRRCPAEIVDTVSALVYDNKLKAHKDKSAQCFKMFYKGVITHDVSSAINRPQIGVVREFLTRNPAWRKAVFISPYNSQNAVASKILGLPTQTVDSSQGSEYDYVIFTQTTETAHSCNVNRFNVAITRAKVGILCIMSDRDLYDKLQFTSLEIPRRNVATLQAENVTGLFKDCSKVITGLHPTQAPTHLSVDTKFKTEGLCVDIPGIPKDMTYRRLISMMGFKMNYQVNGYPNMFITREEAIRHVRAWIGFDVEGCHATREAVGTNLPLQLGFSTGVNLVAVPTGYVDTPNNTDFSRVSAKPPPGDQFKHLIPLMYKGLPWNVVRIKIVQMLSDTLKNLSDRVVFVLWAHGFELTSMKYFVKIGPERTCCLCDRRATCFSTASDTYACWHHSIGFDYVYNPFMIDVQQWGFTGNLQSNHDLYCQVHGNAHVASCDAIMTRCLAVHECFVKRVDWTIEYPIIGDELKINAACRKVQHMVVKAALLADKFPVLHDIGNPKAIKCVPQADVEWKFYDAQPCSDKAYKIEELFYSYATHSDKFTDGVCLFWNCNVDRYPANSIVCRFDTRVLSNLNLPGCDGGSLYVNKHAFHTPAFDKSAFVNLKQLPFFYYSDSPCESHGKQVVSDIDYVPLKSATCITRCNLGGAVCRHHANEYRLYLDAYNMMISAGFSLWVYKQFDTYNLWNTFTRLQSLENVAFNVVNKGHFDGQQGEVPVSIINNTVYTKVDGVDVELFENKTTLPVNVAFELWAKRNIKPVPEVKILNNLGVDIAANTVIWDYKRDAPAHISTIGVCSMTDIAKKPTETICAPLTVFFDGRVDGQVDLFRNARNGVLITEGSVKGLQPSVGPKQASLNGVTLIGEAVKTQFNYYKKVDGVVQQLPETYFTQSRNLQEFKPRSQMEIDFLELAMDEFIERYKLEGYAFEHIVYGDFSHSQLGGLHLLIGLAKRFKESPFELEDFIPMDSTVKNYFITDAQTGSSKCVCSVIDLLLDDFVEIIKSQDLSVVSKVVKVTIDYTEISFMLWCKDGHVETFYPKLQSSQAWQPGVAMPNLYKMQRMLLEKCDLQNYGDSATLPKGIMMNVAKYTQLCQYLNTLTLAVPYNMRVIHFGAGSDKGVAPGTAVLRQWLPTGTLLVDSDLNDFVSDADSTLIGDCATVHTANKWDLIISDMYDPKTKNVTKENDSKEGFFTYICGFIQQKLALGGSVAIKITEHSWNADLYKLMGHFAWWTAFVTNVNASSSEAFLIGCNYLGKPREQIDGYVMHANYIFWRNTNPIQLSSYSLFDMSKFPLKLRGTAVMSLKEGQINDMILSLLSKGRLIIRENNRVVISSDVLVNN*'"
      ]
     },
     "execution_count": 14,
     "metadata": {},
     "output_type": "execute_result"
    }
   ],
   "source": [
    "# \"orf1b polyprotein\"\n",
    "\n",
    "#orf1b = translate(cc[13468-1:21555], True)\n",
    "orf1b = translate(cc[13468-1:21555])\n",
    "orf1b"
   ]
  },
  {
   "cell_type": "code",
   "execution_count": 15,
   "metadata": {},
   "outputs": [
    {
     "data": {
      "text/plain": [
       "2695"
      ]
     },
     "execution_count": 15,
     "metadata": {},
     "output_type": "execute_result"
    }
   ],
   "source": [
    "len(orf1b[:-1])"
   ]
  },
  {
   "cell_type": "markdown",
   "metadata": {},
   "source": [
    "The spike glycoprotein is also a strange beast (we learn later that it would be related to how sars-cov-2 enters the cell, the virus \"exploit\" as @geohotz calls it)."
   ]
  },
  {
   "cell_type": "code",
   "execution_count": 16,
   "metadata": {},
   "outputs": [
    {
     "data": {
      "text/plain": [
       "'MFVFLVLLPLVSSQCVNLTTRTQLPPAYTNSFTRGVYYPDKVFRSSVLHSTQDLFLPFFSNVTWFHAIHVSGTNGTKRFDNPVLPFNDGVYFASTEKSNIIRGWIFGTTLDSKTQSLLIVNNATNVVIKVCEFQFCNDPFLGVYYHKNNKSWMESEFRVYSSANNCTFEYVSQPFLMDLEGKQGNFKNLREFVFKNIDGYFKIYSKHTPINLVRDLPQGFSALEPLVDLPIGINITRFQTLLALHRSYLTPGDSSSGWTAGAAAYYVGYLQPRTFLLKYNENGTITDAVDCALDPLSETKCTLKSFTVEKGIYQTSNFRVQPTESIVRFPNITNLCPFGEVFNATRFASVYAWNRKRISNCVADYSVLYNSASFSTFKCYGVSPTKLNDLCFTNVYADSFVIRGDEVRQIAPGQTGKIADYNYKLPDDFTGCVIAWNSNNLDSKVGGNYNYLYRLFRKSNLKPFERDISTEIYQAGSTPCNGVEGFNCYFPLQSYGFQPTNGVGYQPYRVVVLSFELLHAPATVCGPKKSTNLVKNKCVNFNFNGLTGTGVLTESNKKFLPFQQFGRDIADTTDAVRDPQTLEILDITPCSFGGVSVITPGTNTSNQVAVLYQDVNCTEVPVAIHADQLTPTWRVYSTGSNVFQTRAGCLIGAEHVNNSYECDIPIGAGICASYQTQTNSPRRARSVASQSIIAYTMSLGAENSVAYSNNSIAIPTNFTISVTTEILPVSMTKTSVDCTMYICGDSTECSNLLLQYGSFCTQLNRALTGIAVEQDKNTQEVFAQVKQIYKTPPIKDFGGFNFSQILPDPSKPSKRSFIEDLLFNKVTLADAGFIKQYGDCLGDIAARDLICAQKFNGLTVLPPLLTDEMIAQYTSALLAGTITSGWTFGAGAALQIPFAMQMAYRFNGIGVTQNVLYENQKLIANQFNSAIGKIQDSLSSTASALGKLQDVVNQNAQALNTLVKQLSSNFGAISSVLNDILSRLDKVEAEVQIDRLITGRLQSLQTYVTQQLIRAAEIRASANLAATKMSECVLGQSKRVDFCGKGYHLMSFPQSAPHGVVFLHVTYVPAQEKNFTTAPAICHDGKAHFPREGVFVSNGTHWFVTQRNFYEPQIITTDNTFVSGNCDVVIGIVNNTVYDPLQPELDSFKEELDKYFKNHTSPDVDLGDISGINASVVNIQKEIDRLNEVAKNLNESLIDLQELGKYEQYIKWPWYIWLGFIAGLIAIVMVTIMLCCMTSCCSCLKGCCSCGSCCKFDEDDSEPVLKGVKLHYT'"
      ]
     },
     "execution_count": 16,
     "metadata": {},
     "output_type": "execute_result"
    }
   ],
   "source": [
    "# \"spike glycoprotein\"\n",
    "spike_glycoprotein = translate(cc[21563-1:25384], True)\n",
    "spike_glycoprotein"
   ]
  },
  {
   "cell_type": "code",
   "execution_count": 17,
   "metadata": {},
   "outputs": [
    {
     "data": {
      "text/plain": [
       "(4382, 4405, 1273)"
      ]
     },
     "execution_count": 17,
     "metadata": {},
     "output_type": "execute_result"
    }
   ],
   "source": [
    "len(sars_v1), len(sars_v2), len(spike_glycoprotein)"
   ]
  },
  {
   "cell_type": "code",
   "execution_count": 18,
   "metadata": {},
   "outputs": [],
   "source": [
    "# The Coronavirus Explained & What You Should Do\n",
    "# https://www.youtube.com/watch?v=BtN-goy9VOY"
   ]
  },
  {
   "cell_type": "code",
   "execution_count": 19,
   "metadata": {},
   "outputs": [],
   "source": [
    "cc_v1 = \"\"\"\n",
    "        1 atattaggtt tttacctacc caggaaaagc caaccaacct cgatctcttg tagatctgtt\n",
    "       61 ctctaaacga actttaaaat ctgtgtagct gtcgctcggc tgcatgccta gtgcacctac\n",
    "      121 gcagtataaa caataataaa ttttactgtc gttgacaaga aacgagtaac tcgtccctct\n",
    "      181 tctgcagact gcttacggtt tcgtccgtgt tgcagtcgat catcagcata cctaggtttc\n",
    "      241 gtccgggtgt gaccgaaagg taagatggag agccttgttc ttggtgtcaa cgagaaaaca\n",
    "      301 cacgtccaac tcagtttgcc tgtccttcag gttagagacg tgctagtgcg tggcttcggg\n",
    "      361 gactctgtgg aagaggccct atcggaggca cgtgaacacc tcaaaaatgg cacttgtggt\n",
    "      421 ctagtagagc tggaaaaagg cgtactgccc cagcttgaac agccctatgt gttcattaaa\n",
    "      481 cgttctgatg ccttaagcac caatcacggc cacaaggtcg ttgagctggt tgcagaaatg\n",
    "      541 gacggcattc agtacggtcg tagcggtata acactgggag tactcgtgcc acatgtgggc\n",
    "      601 gaaaccccaa ttgcataccg caatgttctt cttcgtaaga acggtaataa gggagccggt\n",
    "      661 ggtcatagct atggcatcga tctaaagtct tatgacttag gtgacgagct tggcactgat\n",
    "      721 cccattgaag attatgaaca aaactggaac actaagcatg gcagtggtgc actccgtgaa\n",
    "      781 ctcactcgtg agctcaatgg aggtgcagtc actcgctatg tcgacaacaa tttctgtggc\n",
    "      841 ccagatgggt accctcttga ttgcatcaaa gattttctcg cacgcgcggg caagtcaatg\n",
    "      901 tgcactcttt ccgaacaact tgattacatc gagtcgaaga gaggtgtcta ctgctgccgt\n",
    "      961 gaccatgagc atgaaattgc ctggttcact gagcgctctg ataagagcta cgagcaccag\n",
    "     1021 acacccttcg aaattaagag tgccaagaaa tttgacactt tcaaagggga atgcccaaag\n",
    "     1081 tttgtgtttc ctcttaactc aaaagtcaaa gtcattcaac cacgtgttga aaagaaaaag\n",
    "     1141 actgagggtt tcatggggcg tatacgctct gtgtaccctg ttgcatctcc acaggagtgt\n",
    "     1201 aacaatatgc acttgtctac cttgatgaaa tgtaatcatt gcgatgaagt ttcatggcag\n",
    "     1261 acgtgcgact ttctgaaagc cacttgtgaa cattgtggca ctgaaaattt agttattgaa\n",
    "     1321 ggacctacta catgtgggta cctacctact aatgctgtag tgaaaatgcc atgtcctgcc\n",
    "     1381 tgtcaagacc cagagattgg acctgagcat agtgttgcag attatcacaa ccactcaaac\n",
    "     1441 attgaaactc gactccgcaa gggaggtagg actagatgtt ttggaggctg tgtgtttgcc\n",
    "     1501 tatgttggct gctataataa gcgtgcctac tgggttcctc gtgctagtgc tgatattggc\n",
    "     1561 tcaggccata ctggcattac tggtgacaat gtggagacct tgaatgagga tctccttgag\n",
    "     1621 atactgagtc gtgaacgtgt taacattaac attgttggcg attttcattt gaatgaagag\n",
    "     1681 gttgccatca ttttggcatc tttctctgct tctacaagtg cctttattga cactataaag\n",
    "     1741 agtcttgatt acaagtcttt caaaaccatt gttgagtcct gcggtaacta taaagttacc\n",
    "     1801 aagggaaagc ccgtaaaagg tgcttggaac attggacaac agagatcagt tttaacacca\n",
    "     1861 ctgtgtggtt ttccctcaca ggctgctggt gttatcagat caatttttgc gcgcacactt\n",
    "     1921 gatgcagcaa accactcaat tcctgatttg caaagagcag ctgtcaccat acttgatggt\n",
    "     1981 atttctgaac agtcattacg tcttgtcgac gccatggttt atacttcaga cctgctcacc\n",
    "     2041 aacagtgtca ttattatggc atatgtaact ggtggtcttg tacaacagac ttctcagtgg\n",
    "     2101 ttgtctaatc ttttgggcac tactgttgaa aaactcaggc ctatctttga atggattgag\n",
    "     2161 gcgaaactta gtgcaggagt tgaatttctc aaggatgctt gggagattct caaatttctc\n",
    "     2221 attacaggtg tttttgacat cgtcaagggt caaatacagg ttgcttcaga taacatcaag\n",
    "     2281 gattgtgtaa aatgcttcat tgatgttgtt aacaaggcac tcgaaatgtg cattgatcaa\n",
    "     2341 gtcactatcg ctggcgcaaa gttgcgatca ctcaacttag gtgaagtctt catcgctcaa\n",
    "     2401 agcaagggac tttaccgtca gtgtatacgt ggcaaggagc agctgcaact actcatgcct\n",
    "     2461 cttaaggcac caaaagaagt aacctttctt gaaggtgatt cacatgacac agtacttacc\n",
    "     2521 tctgaggagg ttgttctcaa gaacggtgaa ctcgaagcac tcgagacgcc cgttgatagc\n",
    "     2581 ttcacaaatg gagctatcgt tggcacacca gtctgtgtaa atggcctcat gctcttagag\n",
    "     2641 attaaggaca aagaacaata ctgcgcattg tctcctggtt tactggctac aaacaatgtc\n",
    "     2701 tttcgcttaa aagggggtgc accaattaaa ggtgtaacct ttggagaaga tactgtttgg\n",
    "     2761 gaagttcaag gttacaagaa tgtgagaatc acatttgagc ttgatgaacg tgttgacaaa\n",
    "     2821 gtgcttaatg aaaagtgctc tgtctacact gttgaatccg gtaccgaagt tactgagttt\n",
    "     2881 gcatgtgttg tagcagaggc tgttgtgaag actttacaac cagtttctga tctccttacc\n",
    "     2941 aacatgggta ttgatcttga tgagtggagt gtagctacat tctacttatt tgatgatgct\n",
    "     3001 ggtgaagaaa acttttcatc acgtatgtat tgttcctttt accctccaga tgaggaagaa\n",
    "     3061 gaggacgatg cagagtgtga ggaagaagaa attgatgaaa cctgtgaaca tgagtacggt\n",
    "     3121 acagaggatg attatcaagg tctccctctg gaatttggtg cctcagctga aacagttcga\n",
    "     3181 gttgaggaag aagaagagga agactggctg gatgatacta ctgagcaatc agagattgag\n",
    "     3241 ccagaaccag aacctacacc tgaagaacca gttaatcagt ttactggtta tttaaaactt\n",
    "     3301 actgacaatg ttgccattaa atgtgttgac atcgttaagg aggcacaaag tgctaatcct\n",
    "     3361 atggtgattg taaatgctgc taacatacac ctgaaacatg gtggtggtgt agcaggtgca\n",
    "     3421 ctcaacaagg caaccaatgg tgccatgcaa aaggagagtg atgattacat taagctaaat\n",
    "     3481 ggccctctta cagtaggagg gtcttgtttg ctttctggac ataatcttgc taagaagtgt\n",
    "     3541 ctgcatgttg ttggacctaa cctaaatgca ggtgaggaca tccagcttct taaggcagca\n",
    "     3601 tatgaaaatt tcaattcaca ggacatctta cttgcaccat tgttgtcagc aggcatattt\n",
    "     3661 ggtgctaaac cacttcagtc tttacaagtg tgcgtgcaga cggttcgtac acaggtttat\n",
    "     3721 attgcagtca atgacaaagc tctttatgag caggttgtca tggattatct tgataacctg\n",
    "     3781 aagcctagag tggaagcacc taaacaagag gagccaccaa acacagaaga ttccaaaact\n",
    "     3841 gaggagaaat ctgtcgtaca gaagcctgtc gatgtgaagc caaaaattaa ggcctgcatt\n",
    "     3901 gatgaggtta ccacaacact ggaagaaact aagtttctta ccaataagtt actcttgttt\n",
    "     3961 gctgatatca atggtaagct ttaccatgat tctcagaaca tgcttagagg tgaagatatg\n",
    "     4021 tctttccttg agaaggatgc accttacatg gtaggtgatg ttatcactag tggtgatatc\n",
    "     4081 acttgtgttg taataccctc caaaaaggct ggtggcacta ctgagatgct ctcaagagct\n",
    "     4141 ttgaagaaag tgccagttga tgagtatata accacgtacc ctggacaagg atgtgctggt\n",
    "     4201 tatacacttg aggaagctaa gactgctctt aagaaatgca aatctgcatt ttatgtacta\n",
    "     4261 ccttcagaag cacctaatgc taaggaagag attctaggaa ctgtatcctg gaatttgaga\n",
    "     4321 gaaatgcttg ctcatgctga agagacaaga aaattaatgc ctatatgcat ggatgttaga\n",
    "     4381 gccataatgg caaccatcca acgtaagtat aaaggaatta aaattcaaga gggcatcgtt\n",
    "     4441 gactatggtg tccgattctt cttttatact agtaaagagc ctgtagcttc tattattacg\n",
    "     4501 aagctgaact ctctaaatga gccgcttgtc acaatgccaa ttggttatgt gacacatggt\n",
    "     4561 tttaatcttg aagaggctgc gcgctgtatg cgttctctta aagctcctgc cgtagtgtca\n",
    "     4621 gtatcatcac cagatgctgt tactacatat aatggatacc tcacttcgtc atcaaagaca\n",
    "     4681 tctgaggagc actttgtaga aacagtttct ttggctggct cttacagaga ttggtcctat\n",
    "     4741 tcaggacagc gtacagagtt aggtgttgaa tttcttaagc gtggtgacaa aattgtgtac\n",
    "     4801 cacactctgg agagccccgt cgagtttcat cttgacggtg aggttctttc acttgacaaa\n",
    "     4861 ctaaagagtc tcttatccct gcgggaggtt aagactataa aagtgttcac aactgtggac\n",
    "     4921 aacactaatc tccacacaca gcttgtggat atgtctatga catatggaca gcagtttggt\n",
    "     4981 ccaacatact tggatggtgc tgatgttaca aaaattaaac ctcatgtaaa tcatgagggt\n",
    "     5041 aagactttct ttgtactacc tagtgatgac acactacgta gtgaagcttt cgagtactac\n",
    "     5101 catactcttg atgagagttt tcttggtagg tacatgtctg ctttaaacca cacaaagaaa\n",
    "     5161 tggaaatttc ctcaagttgg tggtttaact tcaattaaat gggctgataa caattgttat\n",
    "     5221 ttgtctagtg ttttattagc acttcaacag cttgaagtca aattcaatgc accagcactt\n",
    "     5281 caagaggctt attatagagc ccgtgctggt gatgctgcta acttttgtgc actcatactc\n",
    "     5341 gcttacagta ataaaactgt tggcgagctt ggtgatgtca gagaaactat gacccatctt\n",
    "     5401 ctacagcatg ctaatttgga atctgcaaag cgagttctta atgtggtgtg taaacattgt\n",
    "     5461 ggtcagaaaa ctactacctt aacgggtgta gaagctgtga tgtatatggg tactctatct\n",
    "     5521 tatgataatc ttaagacagg tgtttccatt ccatgtgtgt gtggtcgtga tgctacacaa\n",
    "     5581 tatctagtac aacaagagtc ttcttttgtt atgatgtctg caccacctgc tgagtataaa\n",
    "     5641 ttacagcaag gtacattctt atgtgcgaat gagtacactg gtaactatca gtgtggtcat\n",
    "     5701 tacactcata taactgctaa ggagaccctc tatcgtattg acggagctca ccttacaaag\n",
    "     5761 atgtcagagt acaaaggacc agtgactgat gttttctaca aggaaacatc ttacactaca\n",
    "     5821 accatcaagc ctgtgtcgta taaactcgat ggagttactt acacagagat tgaaccaaaa\n",
    "     5881 ttggatgggt attataaaaa ggataatgct tactatacag agcagcctat agaccttgta\n",
    "     5941 ccaactcaac cattaccaaa tgcgagtttt gataatttca aactcacatg ttctaacaca\n",
    "     6001 aaatttgctg atgatttaaa tcaaatgaca ggcttcacaa agccagcttc acgagagcta\n",
    "     6061 tctgtcacat tcttcccaga cttgaatggc gatgtagtgg ctattgacta tagacactat\n",
    "     6121 tcagcgagtt tcaagaaagg tgctaaatta ctgcataagc caattgtttg gcacattaac\n",
    "     6181 caggctacaa ccaagacaac gttcaaacca aacacttggt gtttacgttg tctttggagt\n",
    "     6241 acaaagccag tagatacttc aaattcattt gaagttctgg cagtagaaga cacacaagga\n",
    "     6301 atggacaatc ttgcttgtga aagtcaacaa cccacctctg aagaagtagt ggaaaatcct\n",
    "     6361 accatacaga aggaagtcat agagtgtgac gtgaaaacta ccgaagttgt aggcaatgtc\n",
    "     6421 atacttaaac catcagatga aggtgttaaa gtaacacaag agttaggtca tgaggatctt\n",
    "     6481 atggctgctt atgtggaaaa cacaagcatt accattaaga aacctaatga gctttcacta\n",
    "     6541 gccttaggtt taaaaacaat tgccactcat ggtattgctg caattaatag tgttccttgg\n",
    "     6601 agtaaaattt tggcttatgt caaaccattc ttaggacaag cagcaattac aacatcaaat\n",
    "     6661 tgcgctaaga gattagcaca acgtgtgttt aacaattata tgccttatgt gtttacatta\n",
    "     6721 ttgttccaat tgtgtacttt tactaaaagt accaattcta gaattagagc ttcactacct\n",
    "     6781 acaactattg ctaaaaatag tgttaagagt gttgctaaat tatgtttgga tgccggcatt\n",
    "     6841 aattatgtga agtcacccaa attttctaaa ttgttcacaa tcgctatgtg gctattgttg\n",
    "     6901 ttaagtattt gcttaggttc tctaatctgt gtaactgctg cttttggtgt actcttatct\n",
    "     6961 aattttggtg ctccttctta ttgtaatggc gttagagaat tgtatcttaa ttcgtctaac\n",
    "     7021 gttactacta tggatttctg tgaaggttct tttccttgca gcatttgttt aagtggatta\n",
    "     7081 gactcccttg attcttatcc agctcttgaa accattcagg tgacgatttc atcgtacaag\n",
    "     7141 ctagacttga caattttagg tctggccgct gagtgggttt tggcatatat gttgttcaca\n",
    "     7201 aaattctttt atttattagg tctttcagct ataatgcagg tgttctttgg ctattttgct\n",
    "     7261 agtcatttca tcagcaattc ttggctcatg tggtttatca ttagtattgt acaaatggca\n",
    "     7321 cccgtttctg caatggttag gatgtacatc ttctttgctt ctttctacta catatggaag\n",
    "     7381 agctatgttc atatcatgga tggttgcacc tcttcgactt gcatgatgtg ctataagcgc\n",
    "     7441 aatcgtgcca cacgcgttga gtgtacaact attgttaatg gcatgaagag atctttctat\n",
    "     7501 gtctatgcaa atggaggccg tggcttctgc aagactcaca attggaattg tctcaattgt\n",
    "     7561 gacacatttt gcactggtag tacattcatt agtgatgaag ttgctcgtga tttgtcactc\n",
    "     7621 cagtttaaaa gaccaatcaa ccctactgac cagtcatcgt atattgttga tagtgttgct\n",
    "     7681 gtgaaaaatg gcgcgcttca cctctacttt gacaaggctg gtcaaaagac ctatgagaga\n",
    "     7741 catccgctct cccattttgt caatttagac aatttgagag ctaacaacac taaaggttca\n",
    "     7801 ctgcctatta atgtcatagt ttttgatggc aagtccaaat gcgacgagtc tgcttctaag\n",
    "     7861 tctgcttctg tgtactacag tcagctgatg tgccaaccta ttctgttgct tgaccaagct\n",
    "     7921 cttgtatcag acgttggaga tagtactgaa gtttccgtta agatgtttga tgcttatgtc\n",
    "     7981 gacacctttt cagcaacttt tagtgttcct atggaaaaac ttaaggcact tgttgctaca\n",
    "     8041 gctcacagcg agttagcaaa gggtgtagct ttagatggtg tcctttctac attcgtgtca\n",
    "     8101 gctgcccgac aaggtgttgt tgataccgat gttgacacaa aggatgttat tgaatgtctc\n",
    "     8161 aaactttcac atcactctga cttagaagtg acaggtgaca gttgtaacaa tttcatgctc\n",
    "     8221 acctataata aggttgaaaa catgacgccc agagatcttg gcgcatgtat tgactgtaat\n",
    "     8281 gcaaggcata tcaatgccca agtagcaaaa agtcacaatg tttcactcat ctggaatgta\n",
    "     8341 aaagactaca tgtctttatc tgaacagctg cgtaaacaaa ttcgtagtgc tgccaagaag\n",
    "     8401 aacaacatac cttttagact aacttgtgct acaactagac aggttgtcaa tgtcataact\n",
    "     8461 actaaaatct cactcaaggg tggtaagatt gttagtactt gttttaaact tatgcttaag\n",
    "     8521 gccacattat tgtgcgttct tgctgcattg gtttgttata tcgttatgcc agtacataca\n",
    "     8581 ttgtcaatcc atgatggtta cacaaatgaa atcattggtt acaaagccat tcaggatggt\n",
    "     8641 gtcactcgtg acatcatttc tactgatgat tgttttgcaa ataaacatgc tggttttgac\n",
    "     8701 gcatggttta gccagcgtgg tggttcatac aaaaatgaca aaagctgccc tgtagtagct\n",
    "     8761 gctatcatta caagagagat tggtttcata gtgcctggct taccgggtac tgtgctgaga\n",
    "     8821 gcaatcaatg gtgacttctt gcattttcta cctcgtgttt ttagtgctgt tggcaacatt\n",
    "     8881 tgctacacac cttccaaact cattgagtat agtgattttg ctacctctgc ttgcgttctt\n",
    "     8941 gctgctgagt gtacaatttt taaggatgct atgggcaaac ctgtgccata ttgttatgac\n",
    "     9001 actaatttgc tagagggttc tatttcttat agtgagcttc gtccagacac tcgttatgtg\n",
    "     9061 cttatggatg gttccatcat acagtttcct aacacttacc tggagggttc tgttagagta\n",
    "     9121 gtaacaactt ttgatgctga gtactgtaga catggtacat gcgaaaggtc agaagtaggt\n",
    "     9181 atttgcctat ctaccagtgg tagatgggtt cttaataatg agcattacag agctctatca\n",
    "     9241 ggagttttct gtggtgttga tgcgatgaat ctcatagcta acatctttac tcctcttgtg\n",
    "     9301 caacctgtgg gtgctttaga tgtgtctgct tcagtagtgg ctggtggtat tattgccata\n",
    "     9361 ttggtgactt gtgctgccta ctactttatg aaattcagac gtgtttttgg tgagtacaac\n",
    "     9421 catgttgttg ctgctaatgc acttttgttt ttgatgtctt tcactatact ctgtctggta\n",
    "     9481 ccagcttaca gctttctgcc gggagtctac tcagtctttt acttgtactt gacattctat\n",
    "     9541 ttcaccaatg atgtttcatt cttggctcac cttcaatggt ttgccatgtt ttctcctatt\n",
    "     9601 gtgccttttt ggataacagc aatctatgta ttctgtattt ctctgaagca ctgccattgg\n",
    "     9661 ttctttaaca actatcttag gaaaagagtc atgtttaatg gagttacatt tagtaccttc\n",
    "     9721 gaggaggctg ctttgtgtac ctttttgctc aacaaggaaa tgtacctaaa attgcgtagc\n",
    "     9781 gagacactgt tgccacttac acagtataac aggtatcttg ctctatataa caagtacaag\n",
    "     9841 tatttcagtg gagccttaga tactaccagc tatcgtgaag cagcttgctg ccacttagca\n",
    "     9901 aaggctctaa atgactttag caactcaggt gctgatgttc tctaccaacc accacagaca\n",
    "     9961 tcaatcactt ctgctgttct gcagagtggt tttaggaaaa tggcattccc gtcaggcaaa\n",
    "    10021 gttgaagggt gcatggtaca agtaacctgt ggaactacaa ctcttaatgg attgtggttg\n",
    "    10081 gatgacacag tatactgtcc aagacatgtc atttgcacag cagaagacat gcttaatcct\n",
    "    10141 aactatgaag atctgctcat tcgcaaatcc aaccatagct ttcttgttca ggctggcaat\n",
    "    10201 gttcaacttc gtgttattgg ccattctatg caaaattgtc tgcttaggct taaagttgat\n",
    "    10261 acttctaacc ctaagacacc caagtataaa tttgtccgta tccaacctgg tcaaacattt\n",
    "    10321 tcagttctag catgctacaa tggttcacca tctggtgttt atcagtgtgc catgagacct\n",
    "    10381 aatcatacca ttaaaggttc tttccttaat ggatcatgtg gtagtgttgg ttttaacatt\n",
    "    10441 gattatgatt gcgtgtcttt ctgctatatg catcatatgg agcttccaac aggagtacac\n",
    "    10501 gctggtactg acttagaagg taaattctat ggtccatttg ttgacagaca aactgcacag\n",
    "    10561 gctgcaggta cagacacaac cataacatta aatgttttgg catggctgta tgctgctgtt\n",
    "    10621 atcaatggtg ataggtggtt tcttaataga ttcaccacta ctttgaatga ctttaacctt\n",
    "    10681 gtggcaatga agtacaacta tgaacctttg acacaagatc atgttgacat attgggacct\n",
    "    10741 ctttctgctc aaacaggaat tgccgtctta gatatgtgtg ctgctttgaa agagctgctg\n",
    "    10801 cagaatggta tgaatggtcg tactatcctt ggtagcacta ttttagaaga tgagtttaca\n",
    "    10861 ccatttgatg ttgttagaca atgctctggt gttaccttcc aaggtaagtt caagaaaatt\n",
    "    10921 gttaagggca ctcatcattg gatgctttta actttcttga catcactatt gattcttgtt\n",
    "    10981 caaagtacac agtggtcact gtttttcttt gtttacgaga atgctttctt gccatttact\n",
    "    11041 cttggtatta tggcaattgc tgcatgtgct atgctgcttg ttaagcataa gcacgcattc\n",
    "    11101 ttgtgcttgt ttctgttacc ttctcttgca acagttgctt actttaatat ggtctacatg\n",
    "    11161 cctgctagct gggtgatgcg tatcatgaca tggcttgaat tggctgacac tagcttgtct\n",
    "    11221 ggttataggc ttaaggattg tgttatgtat gcttcagctt tagttttgct tattctcatg\n",
    "    11281 acagctcgca ctgtttatga tgatgctgct agacgtgttt ggacactgat gaatgtcatt\n",
    "    11341 acacttgttt acaaagtcta ctatggtaat gctttagatc aagctatttc catgtgggcc\n",
    "    11401 ttagttattt ctgtaacctc taactattct ggtgtcgtta cgactatcat gtttttagct\n",
    "    11461 agagctatag tgtttgtgtg tgttgagtat tacccattgt tatttattac tggcaacacc\n",
    "    11521 ttacagtgta tcatgcttgt ttattgtttc ttaggctatt gttgctgctg ctactttggc\n",
    "    11581 cttttctgtt tactcaaccg ttacttcagg cttactcttg gtgtttatga ctacttggtc\n",
    "    11641 tctacacaag aatttaggta tatgaactcc caggggcttt tgcctcctaa gagtagtatt\n",
    "    11701 gatgctttca agcttaacat taagttgttg ggtattggag gtaaaccatg tatcaaggtt\n",
    "    11761 gctactgtac agtctaaaat gtctgacgta aagtgcacat ctgtggtact gctctcggtt\n",
    "    11821 cttcaacaac ttagagtaga gtcatcttct aaattgtggg cacaatgtgt acaactccac\n",
    "    11881 aatgatattc ttcttgcaaa agacacaact gaagctttcg agaagatggt ttctcttttg\n",
    "    11941 tctgttttgc tatccatgca gggtgctgta gacattaata ggttgtgcga ggaaatgctc\n",
    "    12001 gataaccgtg ctactcttca ggctattgct tcagaattta gttctttacc atcatatgcc\n",
    "    12061 gcttatgcca ctgcccagga ggcctatgag caggctgtag ctaatggtga ttctgaagtc\n",
    "    12121 gttctcaaaa agttaaagaa atctttgaat gtggctaaat ctgagtttga ccgtgatgct\n",
    "    12181 gccatgcaac gcaagttgga aaagatggca gatcaggcta tgacccaaat gtacaaacag\n",
    "    12241 gcaagatctg aggacaagag ggcaaaagta actagtgcta tgcaaacaat gctcttcact\n",
    "    12301 atgcttagga agcttgataa tgatgcactt aacaacatta tcaacaatgc gcgtgatggt\n",
    "    12361 tgtgttccac tcaacatcat accattgact acagcagcca aactcatggt tgttgtccct\n",
    "    12421 gattatggta cctacaagaa cacttgtgat ggtaacacct ttacatatgc atctgcactc\n",
    "    12481 tgggaaatcc agcaagttgt tgatgcggat agcaagattg ttcaacttag tgaaattaac\n",
    "    12541 atggacaatt caccaaattt ggcttggcct cttattgtta cagctctaag agccaactca\n",
    "    12601 gctgttaaac tacagaataa tgaactgagt ccagtagcac tacgacagat gtcctgtgcg\n",
    "    12661 gctggtacca cacaaacagc ttgtactgat gacaatgcac ttgcctacta taacaattcg\n",
    "    12721 aagggaggta ggtttgtgct ggcattacta tcagaccacc aagatctcaa atgggctaga\n",
    "    12781 ttccctaaga gtgatggtac aggtacaatt tacacagaac tggaaccacc ttgtaggttt\n",
    "    12841 gttacagaca caccaaaagg gcctaaagtg aaatacttgt acttcatcaa aggcttaaac\n",
    "    12901 aacctaaata gaggtatggt gctgggcagt ttagctgcta cagtacgtct tcaggctgga\n",
    "    12961 aatgctacag aagtacctgc caattcaact gtgctttcct tctgtgcttt tgcagtagac\n",
    "    13021 cctgctaaag catataagga ttacctagca agtggaggac aaccaatcac caactgtgtg\n",
    "    13081 aagatgttgt gtacacacac tggtacagga caggcaatta ctgtaacacc agaagctaac\n",
    "    13141 atggaccaag agtcctttgg tggtgcttca tgttgtctgt attgtagatg ccacattgac\n",
    "    13201 catccaaatc ctaaaggatt ctgtgacttg aaaggtaagt acgtccaaat acctaccact\n",
    "    13261 tgtgctaatg acccagtggg ttttacactt agaaacacag tctgtaccgt ctgcggaatg\n",
    "    13321 tggaaaggtt atggctgtag ttgtgaccaa ctccgcgaac ccttgatgca gtctgcggat\n",
    "    13381 gcatcaacgt ttttaaacgg gtttgcggtg taagtgcagc ccgtcttaca ccgtgcggca\n",
    "    13441 caggcactag tactgatgtc gtctacaggg cttttgatat ttacaacgaa aaagttgctg\n",
    "    13501 gttttgcaaa gttcctaaaa actaattgct gtcgcttcca ggagaaggat gaggaaggca\n",
    "    13561 atttattaga ctcttacttt gtagttaaga ggcatactat gtctaactac caacatgaag\n",
    "    13621 agactattta taacttggtt aaagattgtc cagcggttgc tgtccatgac tttttcaagt\n",
    "    13681 ttagagtaga tggtgacatg gtaccacata tatcacgtca gcgtctaact aaatacacaa\n",
    "    13741 tggctgattt agtctatgct ctacgtcatt ttgatgaggg taattgtgat acattaaaag\n",
    "    13801 aaatactcgt cacatacaat tgctgtgatg atgattattt caataagaag gattggtatg\n",
    "    13861 acttcgtaga gaatcctgac atcttacgcg tatatgctaa cttaggtgag cgtgtacgcc\n",
    "    13921 aatcattatt aaagactgta caattctgcg atgctatgcg tgatgcaggc attgtaggcg\n",
    "    13981 tactgacatt agataatcag gatcttaatg ggaactggta cgatttcggt gatttcgtac\n",
    "    14041 aagtagcacc aggctgcgga gttcctattg tggattcata ttactcattg ctgatgccca\n",
    "    14101 tcctcacttt gactagggca ttggctgctg agtcccatat ggatgctgat ctcgcaaaac\n",
    "    14161 cacttattaa gtgggatttg ctgaaatatg attttacgga agagagactt tgtctcttcg\n",
    "    14221 accgttattt taaatattgg gaccagacat accatcccaa ttgtattaac tgtttggatg\n",
    "    14281 ataggtgtat ccttcattgt gcaaacttta atgtgttatt ttctactgtg tttccaccta\n",
    "    14341 caagttttgg accactagta agaaaaatat ttgtagatgg tgttcctttt gttgtttcaa\n",
    "    14401 ctggatacca ttttcgtgag ttaggagtcg tacataatca ggatgtaaac ttacatagct\n",
    "    14461 cgcgtctcag tttcaaggaa cttttagtgt atgctgctga tccagctatg catgcagctt\n",
    "    14521 ctggcaattt attgctagat aaacgcacta catgcttttc agtagctgca ctaacaaaca\n",
    "    14581 atgttgcttt tcaaactgtc aaacccggta attttaataa agacttttat gactttgctg\n",
    "    14641 tgtctaaagg tttctttaag gaaggaagtt ctgttgaact aaaacacttc ttctttgctc\n",
    "    14701 aggatggcaa cgctgctatc agtgattatg actattatcg ttataatctg ccaacaatgt\n",
    "    14761 gtgatatcag acaactccta ttcgtagttg aagttgttga taaatacttt gattgttacg\n",
    "    14821 atggtggctg tattaatgcc aaccaagtaa tcgttaacaa tctggataaa tcagctggtt\n",
    "    14881 tcccatttaa taaatggggt aaggctagac tttattatga ctcaatgagt tatgaggatc\n",
    "    14941 aagatgcact tttcgcgtat actaagcgta atgtcatccc tactataact caaatgaatc\n",
    "    15001 ttaagtatgc cattagtgca aagaatagag ctcgcaccgt agctggtgtc tctatctgta\n",
    "    15061 gtactatgac aaatagacag tttcatcaga aattattgaa gtcaatagcc gccactagag\n",
    "    15121 gagctactgt ggtaattgga acaagcaagt tttacggtgg ctggcataat atgttaaaaa\n",
    "    15181 ctgtttacag tgatgtagaa actccacacc ttatgggttg ggattatcca aaatgtgaca\n",
    "    15241 gagccatgcc taacatgctt aggataatgg cctctcttgt tcttgctcgc aaacataaca\n",
    "    15301 cttgctgtaa cttatcacac cgtttctaca ggttagctaa cgagtgtgcg caagtattaa\n",
    "    15361 gtgagatggt catgtgtggc ggctcactat atgttaaacc aggtggaaca tcatccggtg\n",
    "    15421 atgctacaac tgcttatgct aatagtgtct ttaacatttg tcaagctgtt acagccaatg\n",
    "    15481 taaatgcact tctttcaact gatggtaata agatagctga caagtatgtc cgcaatctac\n",
    "    15541 aacacaggct ctatgagtgt ctctatagaa atagggatgt tgatcatgaa ttcgtggatg\n",
    "    15601 agttttacgc ttacctgcgt aaacatttct ccatgatgat tctttctgat gatgccgttg\n",
    "    15661 tgtgctataa cagtaactat gcggctcaag gtttagtagc tagcattaag aactttaagg\n",
    "    15721 cagttcttta ttatcaaaat aatgtgttca tgtctgaggc aaaatgttgg actgagactg\n",
    "    15781 accttactaa aggacctcac gaattttgct cacagcatac aatgctagtt aaacaaggag\n",
    "    15841 atgattacgt gtacctgcct tacccagatc catcaagaat attaggcgca ggctgttttg\n",
    "    15901 tcgatgatat tgtcaaaaca gatggtacac ttatgattga aaggttcgtg tcactggcta\n",
    "    15961 ttgatgctta cccacttaca aaacatccta atcaggagta tgctgatgtc tttcacttgt\n",
    "    16021 atttacaata cattagaaag ttacatgatg agcttactgg ccacatgttg gacatgtatt\n",
    "    16081 ccgtaatgct aactaatgat aacacctcac ggtactggga acctgagttt tatgaggcta\n",
    "    16141 tgtacacacc acatacagtc ttgcaggctg taggtgcttg tgtattgtgc aattcacaga\n",
    "    16201 cttcacttcg ttgcggtgcc tgtattagga gaccattcct atgttgcaag tgctgctatg\n",
    "    16261 accatgtcat ttcaacatca cacaaattag tgttgtctgt taatccctat gtttgcaatg\n",
    "    16321 ccccaggttg tgatgtcact gatgtgacac aactgtatct aggaggtatg agctattatt\n",
    "    16381 gcaagtcaca taagcctccc attagttttc cattatgtgc taatggtcag gtttttggtt\n",
    "    16441 tatacaaaaa cacatgtgta ggcagtgaca atgtcactga cttcaatgcg atagcaacat\n",
    "    16501 gtgattggac taatgctggc gattacatac ttgccaacac ttgtactgag agactcaagc\n",
    "    16561 ttttcgcagc agaaacgctc aaagccactg aggaaacatt taagctgtca tatggtattg\n",
    "    16621 ccactgtacg cgaagtactc tctgacagag aattgcatct ttcatgggag gttggaaaac\n",
    "    16681 ctagaccacc attgaacaga aactatgtct ttactggtta ccgtgtaact aaaaatagta\n",
    "    16741 aagtacagat tggagagtac acctttgaaa aaggtgacta tggtgatgct gttgtgtaca\n",
    "    16801 gaggtactac gacatacaag ttgaatgttg gtgattactt tgtgttgaca tctcacactg\n",
    "    16861 taatgccact tagtgcacct actctagtgc cacaagagca ctatgtgaga attactggct\n",
    "    16921 tgtacccaac actcaacatc tcagatgagt tttctagcaa tgttgcaaat tatcaaaagg\n",
    "    16981 tcggcatgca aaagtactct acactccaag gaccacctgg tactggtaag agtcattttg\n",
    "    17041 ccatcggact tgctctctat tacccatctg ctcgcatagt gtatacggca tgctctcatg\n",
    "    17101 cagctgttga tgccctatgt gaaaaggcat taaaatattt gcccatagat aaatgtagta\n",
    "    17161 gaatcatacc tgcgcgtgcg cgcgtagagt gttttgataa attcaaagtg aattcaacac\n",
    "    17221 tagaacagta tgttttctgc actgtaaatg cattgccaga aacaactgct gacattgtag\n",
    "    17281 tctttgatga aatctctatg gctactaatt atgacttgag tgttgtcaat gctagacttc\n",
    "    17341 gtgcaaaaca ctacgtctat attggcgatc ctgctcaatt accagccccc cgcacattgc\n",
    "    17401 tgactaaagg cacactagaa ccagaatatt ttaattcagt gtgcagactt atgaaaacaa\n",
    "    17461 taggtccaga catgttcctt ggaacttgtc gccgttgtcc tgctgaaatt gttgacactg\n",
    "    17521 tgagtgcttt agtttatgac aataagctaa aagcacacaa ggataagtca gctcaatgct\n",
    "    17581 tcaaaatgtt ctacaaaggt gttattacac atgatgtttc atctgcaatc aacagacctc\n",
    "    17641 aaataggcgt tgtaagagaa tttcttacac gcaatcctgc ttggagaaaa gctgttttta\n",
    "    17701 tctcacctta taattcacag aacgctgtag cttcaaaaat cttaggattg cctacgcaga\n",
    "    17761 ctgttgattc atcacagggt tctgaatatg actatgtcat attcacacaa actactgaaa\n",
    "    17821 cagcacactc ttgtaatgtc aaccgcttca atgtggctat cacaagggca aaaattggca\n",
    "    17881 ttttgtgcat aatgtctgat agagatcttt atgacaaact gcaatttaca agtctagaaa\n",
    "    17941 taccacgtcg caatgtggct acattacaag cagaaaatgt aactggactt tttaaggact\n",
    "    18001 gtagtaagat cattactggt cttcatccta cacaggcacc tacacacctc agcgttgata\n",
    "    18061 taaagttcaa gactgaagga ttatgtgttg acataccagg cataccaaag gacatgacct\n",
    "    18121 accgtagact catctctatg atgggtttca aaatgaatta ccaagtcaat ggttacccta\n",
    "    18181 atatgtttat cacccgcgaa gaagctattc gtcacgttcg tgcgtggatt ggctttgatg\n",
    "    18241 tagagggctg tcatgcaact agagatgctg tgggtactaa cctacctctc cagctaggat\n",
    "    18301 tttctacagg tgttaactta gtagctgtac cgactggtta tgttgacact gaaaataaca\n",
    "    18361 cagaattcac cagagttaat gcaaaacctc caccaggtga ccagtttaaa catcttatac\n",
    "    18421 cactcatgta taaaggcttg ccctggaatg tagtgcgtat taagatagta caaatgctca\n",
    "    18481 gtgatacact gaaaggattg tcagacagag tcgtgttcgt cctttgggcg catggctttg\n",
    "    18541 agcttacatc aatgaagtac tttgtcaaga ttggacctga aagaacgtgt tgtctgtgtg\n",
    "    18601 acaaacgtgc aacttgcttt tctacttcat cagatactta tgcctgctgg aatcattctg\n",
    "    18661 tgggttttga ctatgtctat aacccattta tgattgatgt tcagcagtgg ggctttacgg\n",
    "    18721 gtaaccttca gagtaaccat gaccaacatt gccaggtaca tggaaatgca catgtggcta\n",
    "    18781 gttgtgatgc tatcatgact agatgtttag cagtccatga gtgctttgtt aagcgcgttg\n",
    "    18841 attggtctgt tgaataccct attataggag atgaactgag ggttaattct gcttgcagaa\n",
    "    18901 aagtacaaca catggttgtg aagtctgcat tgcttgctga taagtttcca gttcttcatg\n",
    "    18961 acattggaaa tccaaaggct atcaagtgtg tgcctcaggc tgaagtagaa tggaagttct\n",
    "    19021 acgatgctca gccatgtagt gacaaagctt acaaaataga ggaactcttc tattcttatg\n",
    "    19081 ctacacatca cgataaattc actgatggtg tttgtttgtt ttggaattgt aacgttgatc\n",
    "    19141 gttacccagc caatgcaatt gtgtgtaggt ttgacacaag agtcttgtca aacttgaact\n",
    "    19201 taccaggctg tgatggtggt agtttgtatg tgaataagca tgcattccac actccagctt\n",
    "    19261 tcgataaaag tgcatttact aatttaaagc aattgccttt cttttactat tctgatagtc\n",
    "    19321 cttgtgagtc tcatggcaaa caagtagtgt cggatattga ttatgttcca ctcaaatctg\n",
    "    19381 ctacgtgtat tacacgatgc aatttaggtg gtgctgtttg cagacaccat gcaaatgagt\n",
    "    19441 accgacagta cttggatgca tataatatga tgatttctgc tggatttagc ctatggattt\n",
    "    19501 acaaacaatt tgatacttat aacctgtgga atacatttac caggttacag agtttagaaa\n",
    "    19561 atgtggctta taatgttgtt aataaaggac actttgatgg acacgccggc gaagcacctg\n",
    "    19621 tttccatcat taataatgct gtttacacaa aggtagatgg tattgatgtg gagatctttg\n",
    "    19681 aaaataagac aacacttcct gttaatgttg catttgagct ttgggctaag cgtaacatta\n",
    "    19741 aaccagtgcc agagattaag atactcaata atttgggtgt tgatatcgct gctaatactg\n",
    "    19801 taatctggga ctacaaaaga gaagccccag cacatgtatc tacaataggt gtctgcacaa\n",
    "    19861 tgactgacat tgccaagaaa cctactgaga gtgcttgttc ttcacttact gtcttgtttg\n",
    "    19921 atggtagagt ggaaggacag gtagaccttt ttagaaacgc ccgtaatggt gttttaataa\n",
    "    19981 cagaaggttc agtcaaaggt ctaacacctt caaagggacc agcacaagct agcgtcaatg\n",
    "    20041 gagtcacatt aattggagaa tcagtaaaaa cacagtttaa ctactttaag aaagtagacg\n",
    "    20101 gcattattca acagttgcct gaaacctact ttactcagag cagagactta gaggatttta\n",
    "    20161 agcccagatc acaaatggaa actgactttc tcgagctcgc tatggatgaa ttcatacagc\n",
    "    20221 gatataagct cgagggctat gccttcgaac acatcgttta tggagatttc agtcatggac\n",
    "    20281 aacttggcgg tcttcattta atgataggct tagccaagcg ctcacaagat tcaccactta\n",
    "    20341 aattagagga ttttatccct atggacagca cagtgaaaaa ttacttcata acagatgcgc\n",
    "    20401 aaacaggttc atcaaaatgt gtgtgttctg tgattgatct tttacttgat gactttgtcg\n",
    "    20461 agataataaa gtcacaagat ttgtcagtga tttcaaaagt ggtcaaggtt acaattgact\n",
    "    20521 atgctgaaat ttcattcatg ctttggtgta aggatggaca tgttgaaacc ttctacccaa\n",
    "    20581 aactacaagc aagtcaagcg tggcaaccag gtgttgcgat gcctaacttg tacaagatgc\n",
    "    20641 aaagaatgct tcttgaaaag tgtgaccttc agaattatgg tgaaaatgct gttataccaa\n",
    "    20701 aaggaataat gatgaatgtc gcaaagtata ctcaactgtg tcaatactta aatacactta\n",
    "    20761 ctttagctgt accctacaac atgagagtta ttcactttgg tgctggctct gataaaggag\n",
    "    20821 ttgcaccagg tacagctgtg ctcagacaat ggttgccaac tggcacacta cttgtcgatt\n",
    "    20881 cagatcttaa tgacttcgtc tccgacgcag attctacttt aattggagac tgtgcaacag\n",
    "    20941 tacatacggc taataaatgg gaccttatta ttagcgatat gtatgaccct aggaccaaac\n",
    "    21001 atgtgacaaa agagaatgac tctaaagaag ggtttttcac ttatctgtgt ggatttataa\n",
    "    21061 agcaaaaact agccctgggt ggttctatag ctgtaaagat aacagagcat tcttggaatg\n",
    "    21121 ctgaccttta caagcttatg ggccatttct catggtggac agcttttgtt acaaatgtaa\n",
    "    21181 atgcatcatc atcggaagca tttttaattg gggctaacta tcttggcaag ccgaaggaac\n",
    "    21241 aaattgatgg ctataccatg catgctaact acattttctg gaggaacaca aatcctatcc\n",
    "    21301 agttgtcttc ctattcactc tttgacatga gcaaatttcc tcttaaatta agaggaactg\n",
    "    21361 ctgtaatgtc tcttaaggag aatcaaatca atgatatgat ttattctctt ctggaaaaag\n",
    "    21421 gtaggcttat cattagagaa aacaacagag ttgtggtttc aagtgatatt cttgttaaca\n",
    "    21481 actaaacgaa catgtttatt ttcttattat ttcttactct cactagtggt agtgaccttg\n",
    "    21541 accggtgcac cacttttgat gatgttcaag ctcctaatta cactcaacat acttcatcta\n",
    "    21601 tgaggggggt ttactatcct gatgaaattt ttagatcaga cactctttat ttaactcagg\n",
    "    21661 atttatttct tccattttat tctaatgtta cagggtttca tactattaat catacgtttg\n",
    "    21721 gcaaccctgt catacctttt aaggatggta tttattttgc tgccacagag aaatcaaatg\n",
    "    21781 ttgtccgtgg ttgggttttt ggttctacca tgaacaacaa gtcacagtcg gtgattatta\n",
    "    21841 ttaacaattc tactaatgtt gttatacgag catgtaactt tgaattgtgt gacaaccctt\n",
    "    21901 tctttgctgt ttctaaaccc atgggtacac agacacatac tatgatattc gataatgcat\n",
    "    21961 ttaattgcac tttcgagtac atatctgatg ccttttcgct tgatgtttca gaaaagtcag\n",
    "    22021 gtaattttaa acacttacga gagtttgtgt ttaaaaataa agatgggttt ctctatgttt\n",
    "    22081 ataagggcta tcaacctata gatgtagttc gtgatctacc ttctggtttt aacactttga\n",
    "    22141 aacctatttt taagttgcct cttggtatta acattacaaa ttttagagcc attcttacag\n",
    "    22201 ccttttcacc tgctcaagac atttggggca cgtcagctgc agcctatttt gttggctatt\n",
    "    22261 taaagccaac tacatttatg ctcaagtatg atgaaaatgg tacaatcaca gatgctgttg\n",
    "    22321 attgttctca aaatccactt gctgaactca aatgctctgt taagagcttt gagattgaca\n",
    "    22381 aaggaattta ccagacctct aatttcaggg ttgttccctc aggagatgtt gtgagattcc\n",
    "    22441 ctaatattac aaacttgtgt ccttttggag aggtttttaa tgctactaaa ttcccttctg\n",
    "    22501 tctatgcatg ggagagaaaa aaaatttcta attgtgttgc tgattactct gtgctctaca\n",
    "    22561 actcaacatt tttttcaacc tttaagtgct atggcgtttc tgccactaag ttgaatgatc\n",
    "    22621 tttgcttctc caatgtctat gcagattctt ttgtagtcaa gggagatgat gtaagacaaa\n",
    "    22681 tagcgccagg acaaactggt gttattgctg attataatta taaattgcca gatgatttca\n",
    "    22741 tgggttgtgt ccttgcttgg aatactagga acattgatgc tacttcaact ggtaattata\n",
    "    22801 attataaata taggtatctt agacatggca agcttaggcc ctttgagaga gacatatcta\n",
    "    22861 atgtgccttt ctcccctgat ggcaaacctt gcaccccacc tgctcttaat tgttattggc\n",
    "    22921 cattaaatga ttatggtttt tacaccacta ctggcattgg ctaccaacct tacagagttg\n",
    "    22981 tagtactttc ttttgaactt ttaaatgcac cggccacggt ttgtggacca aaattatcca\n",
    "    23041 ctgaccttat taagaaccag tgtgtcaatt ttaattttaa tggactcact ggtactggtg\n",
    "    23101 tgttaactcc ttcttcaaag agatttcaac catttcaaca atttggccgt gatgtttctg\n",
    "    23161 atttcactga ttccgttcga gatcctaaaa catctgaaat attagacatt tcaccttgcg\n",
    "    23221 cttttggggg tgtaagtgta attacacctg gaacaaatgc ttcatctgaa gttgctgttc\n",
    "    23281 tatatcaaga tgttaactgc actgatgttt ctacagcaat tcatgcagat caactcacac\n",
    "    23341 cagcttggcg catatattct actggaaaca atgtattcca gactcaagca ggctgtctta\n",
    "    23401 taggagctga gcatgtcgac acttcttatg agtgcgacat tcctattgga gctggcattt\n",
    "    23461 gtgctagtta ccatacagtt tctttattac gtagtactag ccaaaaatct attgtggctt\n",
    "    23521 atactatgtc tttaggtgct gatagttcaa ttgcttactc taataacacc attgctatac\n",
    "    23581 ctactaactt ttcaattagc attactacag aagtaatgcc tgtttctatg gctaaaacct\n",
    "    23641 ccgtagattg taatatgtac atctgcggag attctactga atgtgctaat ttgcttctcc\n",
    "    23701 aatatggtag cttttgcaca caactaaatc gtgcactctc aggtattgct gctgaacagg\n",
    "    23761 atcgcaacac acgtgaagtg ttcgctcaag tcaaacaaat gtacaaaacc ccaactttga\n",
    "    23821 aatattttgg tggttttaat ttttcacaaa tattacctga ccctctaaag ccaactaaga\n",
    "    23881 ggtcttttat tgaggacttg ctctttaata aggtgacact cgctgatgct ggcttcatga\n",
    "    23941 agcaatatgg cgaatgccta ggtgatatta atgctagaga tctcatttgt gcgcagaagt\n",
    "    24001 tcaatggact tacagtgttg ccacctctgc tcactgatga tatgattgct gcctacactg\n",
    "    24061 ctgctctagt tagtggtact gccactgctg gatggacatt tggtgctggc gctgctcttc\n",
    "    24121 aaataccttt tgctatgcaa atggcatata ggttcaatgg cattggagtt acccaaaatg\n",
    "    24181 ttctctatga gaaccaaaaa caaatcgcca accaatttaa caaggcgatt agtcaaattc\n",
    "    24241 aagaatcact tacaacaaca tcaactgcat tgggcaagct gcaagacgtt gttaaccaga\n",
    "    24301 atgctcaagc attaaacaca cttgttaaac aacttagctc taattttggt gcaatttcaa\n",
    "    24361 gtgtgctaaa tgatatcctt tcgcgacttg ataaagtcga ggcggaggta caaattgaca\n",
    "    24421 ggttaattac aggcagactt caaagccttc aaacctatgt aacacaacaa ctaatcaggg\n",
    "    24481 ctgctgaaat cagggcttct gctaatcttg ctgctactaa aatgtctgag tgtgttcttg\n",
    "    24541 gacaatcaaa aagagttgac ttttgtggaa agggctacca ccttatgtcc ttcccacaag\n",
    "    24601 cagccccgca tggtgttgtc ttcctacatg tcacgtatgt gccatcccag gagaggaact\n",
    "    24661 tcaccacagc gccagcaatt tgtcatgaag gcaaagcata cttccctcgt gaaggtgttt\n",
    "    24721 ttgtgtttaa tggcacttct tggtttatta cacagaggaa cttcttttct ccacaaataa\n",
    "    24781 ttactacaga caatacattt gtctcaggaa attgtgatgt cgttattggc atcattaaca\n",
    "    24841 acacagttta tgatcctctg caacctgagc ttgactcatt caaagaagag ctggacaagt\n",
    "    24901 acttcaaaaa tcatacatca ccagatgttg atcttggcga catttcaggc attaacgctt\n",
    "    24961 ctgtcgtcaa cattcaaaaa gaaattgacc gcctcaatga ggtcgctaaa aatttaaatg\n",
    "    25021 aatcactcat tgaccttcaa gaattgggaa aatatgagca atatattaaa tggccttggt\n",
    "    25081 atgtttggct cggcttcatt gctggactaa ttgccatcgt catggttaca atcttgcttt\n",
    "    25141 gttgcatgac tagttgttgc agttgcctca agggtgcatg ctcttgtggt tcttgctgca\n",
    "    25201 agtttgatga ggatgactct gagccagttc tcaagggtgt caaattacat tacacataaa\n",
    "    25261 cgaacttatg gatttgttta tgagattttt tactcttaga tcaattactg cacagccagt\n",
    "    25321 aaaaattgac aatgcttctc ctgcaagtac tgttcatgct acagcaacga taccgctaca\n",
    "    25381 agcctcactc cctttcggat ggcttgttat tggcgttgca tttcttgctg tttttcagag\n",
    "    25441 cgctaccaaa ataattgcgc tcaataaaag atggcagcta gccctttata agggcttcca\n",
    "    25501 gttcatttgc aatttactgc tgctatttgt taccatctat tcacatcttt tgcttgtcgc\n",
    "    25561 tgcaggtatg gaggcgcaat ttttgtacct ctatgccttg atatattttc tacaatgcat\n",
    "    25621 caacgcatgt agaattatta tgagatgttg gctttgttgg aagtgcaaat ccaagaaccc\n",
    "    25681 attactttat gatgccaact actttgtttg ctggcacaca cataactatg actactgtat\n",
    "    25741 accatataac agtgtcacag atacaattgt cgttactgaa ggtgacggca tttcaacacc\n",
    "    25801 aaaactcaaa gaagactacc aaattggtgg ttattctgag gataggcact caggtgttaa\n",
    "    25861 agactatgtc gttgtacatg gctatttcac cgaagtttac taccagcttg agtctacaca\n",
    "    25921 aattactaca gacactggta ttgaaaatgc tacattcttc atctttaaca agcttgttaa\n",
    "    25981 agacccaccg aatgtgcaaa tacacacaat cgacggctct tcaggagttg ctaatccagc\n",
    "    26041 aatggatcca atttatgatg agccgacgac gactactagc gtgcctttgt aagcacaaga\n",
    "    26101 aagtgagtac gaacttatgt actcattcgt ttcggaagaa acaggtacgt taatagttaa\n",
    "    26161 tagcgtactt ctttttcttg ctttcgtggt attcttgcta gtcacactag ccatccttac\n",
    "    26221 tgcgcttcga ttgtgtgcgt actgctgcaa tattgttaac gtgagtttag taaaaccaac\n",
    "    26281 ggtttacgtc tactcgcgtg ttaaaaatct gaactcttct gaaggagttc ctgatcttct\n",
    "    26341 ggtctaaacg aactaactat tattattatt ctgtttggaa ctttaacatt gcttatcatg\n",
    "    26401 gcagacaacg gtactattac cgttgaggag cttaaacaac tcctggaaca atggaaccta\n",
    "    26461 gtaataggtt tcctattcct agcctggatt atgttactac aatttgccta ttctaatcgg\n",
    "    26521 aacaggtttt tgtacataat aaagcttgtt ttcctctggc tcttgtggcc agtaacactt\n",
    "    26581 gcttgttttg tgcttgctgc tgtctacaga attaattggg tgactggcgg gattgcgatt\n",
    "    26641 gcaatggctt gtattgtagg cttgatgtgg cttagctact tcgttgcttc cttcaggctg\n",
    "    26701 tttgctcgta cccgctcaat gtggtcattc aacccagaaa caaacattct tctcaatgtg\n",
    "    26761 cctctccggg ggacaattgt gaccagaccg ctcatggaaa gtgaacttgt cattggtgct\n",
    "    26821 gtgatcattc gtggtcactt gcgaatggcc ggacactccc tagggcgctg tgacattaag\n",
    "    26881 gacctgccaa aagagatcac tgtggctaca tcacgaacgc tttcttatta caaattagga\n",
    "    26941 gcgtcgcagc gtgtaggcac tgattcaggt tttgctgcat acaaccgcta ccgtattgga\n",
    "    27001 aactataaat taaatacaga ccacgccggt agcaacgaca atattgcttt gctagtacag\n",
    "    27061 taagtgacaa cagatgtttc atcttgttga cttccaggtt acaatagcag agatattgat\n",
    "    27121 tatcattatg aggactttca ggattgctat ttggaatctt gacgttataa taagttcaat\n",
    "    27181 agtgagacaa ttatttaagc ctctaactaa gaagaattat tcggagttag atgatgaaga\n",
    "    27241 acctatggag ttagattatc cataaaacga acatgaaaat tattctcttc ctgacattga\n",
    "    27301 ttgtatttac atcttgcgag ctatatcact atcaggagtg tgttagaggt acgactgtac\n",
    "    27361 tactaaaaga accttgccca tcaggaacat acgagggcaa ttcaccattt caccctcttg\n",
    "    27421 ctgacaataa atttgcacta acttgcacta gcacacactt tgcttttgct tgtgctgacg\n",
    "    27481 gtactcgaca tacctatcag ctgcgtgcaa gatcagtttc accaaaactt ttcatcagac\n",
    "    27541 aagaggaggt tcaacaagag ctctactcgc cactttttct cattgttgct gctctagtat\n",
    "    27601 ttttaatact ttgcttcacc attaagagaa agacagaatg aatgagctca ctttaattga\n",
    "    27661 cttctatttg tgctttttag cctttctgct attccttgtt ttaataatgc ttattatatt\n",
    "    27721 ttggttttca ctcgaaatcc aggatctaga agaaccttgt accaaagtct aaacgaacat\n",
    "    27781 gaaacttctc attgttttga cttgtatttc tctatgcagt tgcatatgca ctgtagtaca\n",
    "    27841 gcgctgtgca tctaataaac ctcatgtgct tgaagatcct tgtaaggtac aacactaggg\n",
    "    27901 gtaatactta tagcactgct tggctttgtg ctctaggaaa ggttttacct tttcatagat\n",
    "    27961 ggcacactat ggttcaaaca tgcacaccta atgttactat caactgtcaa gatccagctg\n",
    "    28021 gtggtgcgct tatagctagg tgttggtacc ttcatgaagg tcaccaaact gctgcattta\n",
    "    28081 gagacgtact tgttgtttta aataaacgaa caaattaaaa tgtctgataa tggaccccaa\n",
    "    28141 tcaaaccaac gtagtgcccc ccgcattaca tttggtggac ccacagattc aactgacaat\n",
    "    28201 aaccagaatg gaggacgcaa tggggcaagg ccaaaacagc gccgacccca aggtttaccc\n",
    "    28261 aataatactg cgtcttggtt cacagctctc actcagcatg gcaaggagga acttagattc\n",
    "    28321 cctcgaggcc agggcgttcc aatcaacacc aatagtggtc cagatgacca aattggctac\n",
    "    28381 taccgaagag ctacccgacg agttcgtggt ggtgacggca aaatgaaaga gctcagcccc\n",
    "    28441 agatggtact tctattacct aggaactggc ccagaagctt cacttcccta cggcgctaac\n",
    "    28501 aaagaaggca tcgtatgggt tgcaactgag ggagccttga atacacccaa agaccacatt\n",
    "    28561 ggcacccgca atcctaataa caatgctgcc accgtgctac aacttcctca aggaacaaca\n",
    "    28621 ttgccaaaag gcttctacgc agagggaagc agaggcggca gtcaagcctc ttctcgctcc\n",
    "    28681 tcatcacgta gtcgcggtaa ttcaagaaat tcaactcctg gcagcagtag gggaaattct\n",
    "    28741 cctgctcgaa tggctagcgg aggtggtgaa actgccctcg cgctattgct gctagacaga\n",
    "    28801 ttgaaccagc ttgagagcaa agtttctggt aaaggccaac aacaacaagg ccaaactgtc\n",
    "    28861 actaagaaat ctgctgctga ggcatctaaa aagcctcgcc aaaaacgtac tgccacaaaa\n",
    "    28921 cagtacaacg tcactcaagc atttgggaga cgtggtccag aacaaaccca aggaaatttc\n",
    "    28981 ggggaccaag acctaatcag acaaggaact gattacaaac attggccgca aattgcacaa\n",
    "    29041 tttgctccaa gtgcctctgc attctttgga atgtcacgca ttggcatgga agtcacacct\n",
    "    29101 tcgggaacat ggctgactta tcatggagcc attaaattgg atgacaaaga tccacaattc\n",
    "    29161 aaagacaacg tcatactgct gaacaagcac attgacgcat acaaaacatt cccaccaaca\n",
    "    29221 gagcctaaaa aggacaaaaa gaaaaagact gatgaagctc agcctttgcc gcagagacaa\n",
    "    29281 aagaagcagc ccactgtgac tcttcttcct gcggctgaca tggatgattt ctccagacaa\n",
    "    29341 cttcaaaatt ccatgagtgg agcttctgct gattcaactc aggcataaac actcatgatg\n",
    "    29401 accacacaag gcagatgggc tatgtaaacg ttttcgcaat tccgtttacg atacatagtc\n",
    "    29461 tactcttgtg cagaatgaat tctcgtaact aaacagcaca agtaggttta gttaacttta\n",
    "    29521 atctcacata gcaatcttta atcaatgtgt aacattaggg aggacttgaa agagccacca\n",
    "    29581 cattttcatc gaggccacgc ggagtacgat cgagggtaca gtgaataatg ctagggagag\n",
    "    29641 ctgcctatat ggaagagccc taatgtgtaa aattaatttt agtagtgcta tccccatgtg\n",
    "    29701 attttaatag cttcttagga gaatgacaaa aaaaaaaaaa aaaaaaaaaa a\n",
    "    \"\"\"\n",
    "for s in \" \\n0123456789\":\n",
    "    cc_v1 = cc_v1.replace(s, \"\")"
   ]
  },
  {
   "cell_type": "code",
   "execution_count": 20,
   "metadata": {},
   "outputs": [
    {
     "data": {
      "text/plain": [
       "'atattaggtttttacctacccaggaaaagccaaccaacctcgatctcttgtagatctgttctctaaacgaactttaaaatctgtgtagctgtcgctcggctgcatgcctagtgcacctacgcagtataaacaataataaattttactgtcgttgacaagaaacgagtaactcgtccctcttctgcagactgcttacggtttcgtccgtgttgcagtcgatcatcagcatacctaggtttcgtccgggtgtgaccgaaaggtaagatggagagccttgttcttggtgtcaacgagaaaacacacgtccaactcagtttgcctgtccttcaggttagagacgtgctagtgcgtggcttcggggactctgtggaagaggccctatcggaggcacgtgaacacctcaaaaatggcacttgtggtctagtagagctggaaaaaggcgtactgccccagcttgaacagccctatgtgttcattaaacgttctgatgccttaagcaccaatcacggccacaaggtcgttgagctggttgcagaaatggacggcattcagtacggtcgtagcggtataacactgggagtactcgtgccacatgtgggcgaaaccccaattgcataccgcaatgttcttcttcgtaagaacggtaataagggagccggtggtcatagctatggcatcgatctaaagtcttatgacttaggtgacgagcttggcactgatcccattgaagattatgaacaaaactggaacactaagcatggcagtggtgcactccgtgaactcactcgtgagctcaatggaggtgcagtcactcgctatgtcgacaacaatttctgtggcccagatgggtaccctcttgattgcatcaaagattttctcgcacgcgcgggcaagtcaatgtgcactctttccgaacaacttgattacatcgagtcgaagagaggtgtctactgctgccgtgaccatgagcatgaaattgcctggttcactgagcgctctgataagagctacgagcaccagacacccttcgaaattaagagtgccaagaaatttgacactttcaaaggggaatgcccaaagtttgtgtttcctcttaactcaaaagtcaaagtcattcaaccacgtgttgaaaagaaaaagactgagggtttcatggggcgtatacgctctgtgtaccctgttgcatctccacaggagtgtaacaatatgcacttgtctaccttgatgaaatgtaatcattgcgatgaagtttcatggcagacgtgcgactttctgaaagccacttgtgaacattgtggcactgaaaatttagttattgaaggacctactacatgtgggtacctacctactaatgctgtagtgaaaatgccatgtcctgcctgtcaagacccagagattggacctgagcatagtgttgcagattatcacaaccactcaaacattgaaactcgactccgcaagggaggtaggactagatgttttggaggctgtgtgtttgcctatgttggctgctataataagcgtgcctactgggttcctcgtgctagtgctgatattggctcaggccatactggcattactggtgacaatgtggagaccttgaatgaggatctccttgagatactgagtcgtgaacgtgttaacattaacattgttggcgattttcatttgaatgaagaggttgccatcattttggcatctttctctgcttctacaagtgcctttattgacactataaagagtcttgattacaagtctttcaaaaccattgttgagtcctgcggtaactataaagttaccaagggaaagcccgtaaaaggtgcttggaacattggacaacagagatcagttttaacaccactgtgtggttttccctcacaggctgctggtgttatcagatcaatttttgcgcgcacacttgatgcagcaaaccactcaattcctgatttgcaaagagcagctgtcaccatacttgatggtatttctgaacagtcattacgtcttgtcgacgccatggtttatacttcagacctgctcaccaacagtgtcattattatggcatatgtaactggtggtcttgtacaacagacttctcagtggttgtctaatcttttgggcactactgttgaaaaactcaggcctatctttgaatggattgaggcgaaacttagtgcaggagttgaatttctcaaggatgcttgggagattctcaaatttctcattacaggtgtttttgacatcgtcaagggtcaaatacaggttgcttcagataacatcaaggattgtgtaaaatgcttcattgatgttgttaacaaggcactcgaaatgtgcattgatcaagtcactatcgctggcgcaaagttgcgatcactcaacttaggtgaagtcttcatcgctcaaagcaagggactttaccgtcagtgtatacgtggcaaggagcagctgcaactactcatgcctcttaaggcaccaaaagaagtaacctttcttgaaggtgattcacatgacacagtacttacctctgaggaggttgttctcaagaacggtgaactcgaagcactcgagacgcccgttgatagcttcacaaatggagctatcgttggcacaccagtctgtgtaaatggcctcatgctcttagagattaaggacaaagaacaatactgcgcattgtctcctggtttactggctacaaacaatgtctttcgcttaaaagggggtgcaccaattaaaggtgtaacctttggagaagatactgtttgggaagttcaaggttacaagaatgtgagaatcacatttgagcttgatgaacgtgttgacaaagtgcttaatgaaaagtgctctgtctacactgttgaatccggtaccgaagttactgagtttgcatgtgttgtagcagaggctgttgtgaagactttacaaccagtttctgatctccttaccaacatgggtattgatcttgatgagtggagtgtagctacattctacttatttgatgatgctggtgaagaaaacttttcatcacgtatgtattgttccttttaccctccagatgaggaagaagaggacgatgcagagtgtgaggaagaagaaattgatgaaacctgtgaacatgagtacggtacagaggatgattatcaaggtctccctctggaatttggtgcctcagctgaaacagttcgagttgaggaagaagaagaggaagactggctggatgatactactgagcaatcagagattgagccagaaccagaacctacacctgaagaaccagttaatcagtttactggttatttaaaacttactgacaatgttgccattaaatgtgttgacatcgttaaggaggcacaaagtgctaatcctatggtgattgtaaatgctgctaacatacacctgaaacatggtggtggtgtagcaggtgcactcaacaaggcaaccaatggtgccatgcaaaaggagagtgatgattacattaagctaaatggccctcttacagtaggagggtcttgtttgctttctggacataatcttgctaagaagtgtctgcatgttgttggacctaacctaaatgcaggtgaggacatccagcttcttaaggcagcatatgaaaatttcaattcacaggacatcttacttgcaccattgttgtcagcaggcatatttggtgctaaaccacttcagtctttacaagtgtgcgtgcagacggttcgtacacaggtttatattgcagtcaatgacaaagctctttatgagcaggttgtcatggattatcttgataacctgaagcctagagtggaagcacctaaacaagaggagccaccaaacacagaagattccaaaactgaggagaaatctgtcgtacagaagcctgtcgatgtgaagccaaaaattaaggcctgcattgatgaggttaccacaacactggaagaaactaagtttcttaccaataagttactcttgtttgctgatatcaatggtaagctttaccatgattctcagaacatgcttagaggtgaagatatgtctttccttgagaaggatgcaccttacatggtaggtgatgttatcactagtggtgatatcacttgtgttgtaataccctccaaaaaggctggtggcactactgagatgctctcaagagctttgaagaaagtgccagttgatgagtatataaccacgtaccctggacaaggatgtgctggttatacacttgaggaagctaagactgctcttaagaaatgcaaatctgcattttatgtactaccttcagaagcacctaatgctaaggaagagattctaggaactgtatcctggaatttgagagaaatgcttgctcatgctgaagagacaagaaaattaatgcctatatgcatggatgttagagccataatggcaaccatccaacgtaagtataaaggaattaaaattcaagagggcatcgttgactatggtgtccgattcttcttttatactagtaaagagcctgtagcttctattattacgaagctgaactctctaaatgagccgcttgtcacaatgccaattggttatgtgacacatggttttaatcttgaagaggctgcgcgctgtatgcgttctcttaaagctcctgccgtagtgtcagtatcatcaccagatgctgttactacatataatggatacctcacttcgtcatcaaagacatctgaggagcactttgtagaaacagtttctttggctggctcttacagagattggtcctattcaggacagcgtacagagttaggtgttgaatttcttaagcgtggtgacaaaattgtgtaccacactctggagagccccgtcgagtttcatcttgacggtgaggttctttcacttgacaaactaaagagtctcttatccctgcgggaggttaagactataaaagtgttcacaactgtggacaacactaatctccacacacagcttgtggatatgtctatgacatatggacagcagtttggtccaacatacttggatggtgctgatgttacaaaaattaaacctcatgtaaatcatgagggtaagactttctttgtactacctagtgatgacacactacgtagtgaagctttcgagtactaccatactcttgatgagagttttcttggtaggtacatgtctgctttaaaccacacaaagaaatggaaatttcctcaagttggtggtttaacttcaattaaatgggctgataacaattgttatttgtctagtgttttattagcacttcaacagcttgaagtcaaattcaatgcaccagcacttcaagaggcttattatagagcccgtgctggtgatgctgctaacttttgtgcactcatactcgcttacagtaataaaactgttggcgagcttggtgatgtcagagaaactatgacccatcttctacagcatgctaatttggaatctgcaaagcgagttcttaatgtggtgtgtaaacattgtggtcagaaaactactaccttaacgggtgtagaagctgtgatgtatatgggtactctatcttatgataatcttaagacaggtgtttccattccatgtgtgtgtggtcgtgatgctacacaatatctagtacaacaagagtcttcttttgttatgatgtctgcaccacctgctgagtataaattacagcaaggtacattcttatgtgcgaatgagtacactggtaactatcagtgtggtcattacactcatataactgctaaggagaccctctatcgtattgacggagctcaccttacaaagatgtcagagtacaaaggaccagtgactgatgttttctacaaggaaacatcttacactacaaccatcaagcctgtgtcgtataaactcgatggagttacttacacagagattgaaccaaaattggatgggtattataaaaaggataatgcttactatacagagcagcctatagaccttgtaccaactcaaccattaccaaatgcgagttttgataatttcaaactcacatgttctaacacaaaatttgctgatgatttaaatcaaatgacaggcttcacaaagccagcttcacgagagctatctgtcacattcttcccagacttgaatggcgatgtagtggctattgactatagacactattcagcgagtttcaagaaaggtgctaaattactgcataagccaattgtttggcacattaaccaggctacaaccaagacaacgttcaaaccaaacacttggtgtttacgttgtctttggagtacaaagccagtagatacttcaaattcatttgaagttctggcagtagaagacacacaaggaatggacaatcttgcttgtgaaagtcaacaacccacctctgaagaagtagtggaaaatcctaccatacagaaggaagtcatagagtgtgacgtgaaaactaccgaagttgtaggcaatgtcatacttaaaccatcagatgaaggtgttaaagtaacacaagagttaggtcatgaggatcttatggctgcttatgtggaaaacacaagcattaccattaagaaacctaatgagctttcactagccttaggtttaaaaacaattgccactcatggtattgctgcaattaatagtgttccttggagtaaaattttggcttatgtcaaaccattcttaggacaagcagcaattacaacatcaaattgcgctaagagattagcacaacgtgtgtttaacaattatatgccttatgtgtttacattattgttccaattgtgtacttttactaaaagtaccaattctagaattagagcttcactacctacaactattgctaaaaatagtgttaagagtgttgctaaattatgtttggatgccggcattaattatgtgaagtcacccaaattttctaaattgttcacaatcgctatgtggctattgttgttaagtatttgcttaggttctctaatctgtgtaactgctgcttttggtgtactcttatctaattttggtgctccttcttattgtaatggcgttagagaattgtatcttaattcgtctaacgttactactatggatttctgtgaaggttcttttccttgcagcatttgtttaagtggattagactcccttgattcttatccagctcttgaaaccattcaggtgacgatttcatcgtacaagctagacttgacaattttaggtctggccgctgagtgggttttggcatatatgttgttcacaaaattcttttatttattaggtctttcagctataatgcaggtgttctttggctattttgctagtcatttcatcagcaattcttggctcatgtggtttatcattagtattgtacaaatggcacccgtttctgcaatggttaggatgtacatcttctttgcttctttctactacatatggaagagctatgttcatatcatggatggttgcacctcttcgacttgcatgatgtgctataagcgcaatcgtgccacacgcgttgagtgtacaactattgttaatggcatgaagagatctttctatgtctatgcaaatggaggccgtggcttctgcaagactcacaattggaattgtctcaattgtgacacattttgcactggtagtacattcattagtgatgaagttgctcgtgatttgtcactccagtttaaaagaccaatcaaccctactgaccagtcatcgtatattgttgatagtgttgctgtgaaaaatggcgcgcttcacctctactttgacaaggctggtcaaaagacctatgagagacatccgctctcccattttgtcaatttagacaatttgagagctaacaacactaaaggttcactgcctattaatgtcatagtttttgatggcaagtccaaatgcgacgagtctgcttctaagtctgcttctgtgtactacagtcagctgatgtgccaacctattctgttgcttgaccaagctcttgtatcagacgttggagatagtactgaagtttccgttaagatgtttgatgcttatgtcgacaccttttcagcaacttttagtgttcctatggaaaaacttaaggcacttgttgctacagctcacagcgagttagcaaagggtgtagctttagatggtgtcctttctacattcgtgtcagctgcccgacaaggtgttgttgataccgatgttgacacaaaggatgttattgaatgtctcaaactttcacatcactctgacttagaagtgacaggtgacagttgtaacaatttcatgctcacctataataaggttgaaaacatgacgcccagagatcttggcgcatgtattgactgtaatgcaaggcatatcaatgcccaagtagcaaaaagtcacaatgtttcactcatctggaatgtaaaagactacatgtctttatctgaacagctgcgtaaacaaattcgtagtgctgccaagaagaacaacataccttttagactaacttgtgctacaactagacaggttgtcaatgtcataactactaaaatctcactcaagggtggtaagattgttagtacttgttttaaacttatgcttaaggccacattattgtgcgttcttgctgcattggtttgttatatcgttatgccagtacatacattgtcaatccatgatggttacacaaatgaaatcattggttacaaagccattcaggatggtgtcactcgtgacatcatttctactgatgattgttttgcaaataaacatgctggttttgacgcatggtttagccagcgtggtggttcatacaaaaatgacaaaagctgccctgtagtagctgctatcattacaagagagattggtttcatagtgcctggcttaccgggtactgtgctgagagcaatcaatggtgacttcttgcattttctacctcgtgtttttagtgctgttggcaacatttgctacacaccttccaaactcattgagtatagtgattttgctacctctgcttgcgttcttgctgctgagtgtacaatttttaaggatgctatgggcaaacctgtgccatattgttatgacactaatttgctagagggttctatttcttatagtgagcttcgtccagacactcgttatgtgcttatggatggttccatcatacagtttcctaacacttacctggagggttctgttagagtagtaacaacttttgatgctgagtactgtagacatggtacatgcgaaaggtcagaagtaggtatttgcctatctaccagtggtagatgggttcttaataatgagcattacagagctctatcaggagttttctgtggtgttgatgcgatgaatctcatagctaacatctttactcctcttgtgcaacctgtgggtgctttagatgtgtctgcttcagtagtggctggtggtattattgccatattggtgacttgtgctgcctactactttatgaaattcagacgtgtttttggtgagtacaaccatgttgttgctgctaatgcacttttgtttttgatgtctttcactatactctgtctggtaccagcttacagctttctgccgggagtctactcagtcttttacttgtacttgacattctatttcaccaatgatgtttcattcttggctcaccttcaatggtttgccatgttttctcctattgtgcctttttggataacagcaatctatgtattctgtatttctctgaagcactgccattggttctttaacaactatcttaggaaaagagtcatgtttaatggagttacatttagtaccttcgaggaggctgctttgtgtacctttttgctcaacaaggaaatgtacctaaaattgcgtagcgagacactgttgccacttacacagtataacaggtatcttgctctatataacaagtacaagtatttcagtggagccttagatactaccagctatcgtgaagcagcttgctgccacttagcaaaggctctaaatgactttagcaactcaggtgctgatgttctctaccaaccaccacagacatcaatcacttctgctgttctgcagagtggttttaggaaaatggcattcccgtcaggcaaagttgaagggtgcatggtacaagtaacctgtggaactacaactcttaatggattgtggttggatgacacagtatactgtccaagacatgtcatttgcacagcagaagacatgcttaatcctaactatgaagatctgctcattcgcaaatccaaccatagctttcttgttcaggctggcaatgttcaacttcgtgttattggccattctatgcaaaattgtctgcttaggcttaaagttgatacttctaaccctaagacacccaagtataaatttgtccgtatccaacctggtcaaacattttcagttctagcatgctacaatggttcaccatctggtgtttatcagtgtgccatgagacctaatcataccattaaaggttctttccttaatggatcatgtggtagtgttggttttaacattgattatgattgcgtgtctttctgctatatgcatcatatggagcttccaacaggagtacacgctggtactgacttagaaggtaaattctatggtccatttgttgacagacaaactgcacaggctgcaggtacagacacaaccataacattaaatgttttggcatggctgtatgctgctgttatcaatggtgataggtggtttcttaatagattcaccactactttgaatgactttaaccttgtggcaatgaagtacaactatgaacctttgacacaagatcatgttgacatattgggacctctttctgctcaaacaggaattgccgtcttagatatgtgtgctgctttgaaagagctgctgcagaatggtatgaatggtcgtactatccttggtagcactattttagaagatgagtttacaccatttgatgttgttagacaatgctctggtgttaccttccaaggtaagttcaagaaaattgttaagggcactcatcattggatgcttttaactttcttgacatcactattgattcttgttcaaagtacacagtggtcactgtttttctttgtttacgagaatgctttcttgccatttactcttggtattatggcaattgctgcatgtgctatgctgcttgttaagcataagcacgcattcttgtgcttgtttctgttaccttctcttgcaacagttgcttactttaatatggtctacatgcctgctagctgggtgatgcgtatcatgacatggcttgaattggctgacactagcttgtctggttataggcttaaggattgtgttatgtatgcttcagctttagttttgcttattctcatgacagctcgcactgtttatgatgatgctgctagacgtgtttggacactgatgaatgtcattacacttgtttacaaagtctactatggtaatgctttagatcaagctatttccatgtgggccttagttatttctgtaacctctaactattctggtgtcgttacgactatcatgtttttagctagagctatagtgtttgtgtgtgttgagtattacccattgttatttattactggcaacaccttacagtgtatcatgcttgtttattgtttcttaggctattgttgctgctgctactttggccttttctgtttactcaaccgttacttcaggcttactcttggtgtttatgactacttggtctctacacaagaatttaggtatatgaactcccaggggcttttgcctcctaagagtagtattgatgctttcaagcttaacattaagttgttgggtattggaggtaaaccatgtatcaaggttgctactgtacagtctaaaatgtctgacgtaaagtgcacatctgtggtactgctctcggttcttcaacaacttagagtagagtcatcttctaaattgtgggcacaatgtgtacaactccacaatgatattcttcttgcaaaagacacaactgaagctttcgagaagatggtttctcttttgtctgttttgctatccatgcagggtgctgtagacattaataggttgtgcgaggaaatgctcgataaccgtgctactcttcaggctattgcttcagaatttagttctttaccatcatatgccgcttatgccactgcccaggaggcctatgagcaggctgtagctaatggtgattctgaagtcgttctcaaaaagttaaagaaatctttgaatgtggctaaatctgagtttgaccgtgatgctgccatgcaacgcaagttggaaaagatggcagatcaggctatgacccaaatgtacaaacaggcaagatctgaggacaagagggcaaaagtaactagtgctatgcaaacaatgctcttcactatgcttaggaagcttgataatgatgcacttaacaacattatcaacaatgcgcgtgatggttgtgttccactcaacatcataccattgactacagcagccaaactcatggttgttgtccctgattatggtacctacaagaacacttgtgatggtaacacctttacatatgcatctgcactctgggaaatccagcaagttgttgatgcggatagcaagattgttcaacttagtgaaattaacatggacaattcaccaaatttggcttggcctcttattgttacagctctaagagccaactcagctgttaaactacagaataatgaactgagtccagtagcactacgacagatgtcctgtgcggctggtaccacacaaacagcttgtactgatgacaatgcacttgcctactataacaattcgaagggaggtaggtttgtgctggcattactatcagaccaccaagatctcaaatgggctagattccctaagagtgatggtacaggtacaatttacacagaactggaaccaccttgtaggtttgttacagacacaccaaaagggcctaaagtgaaatacttgtacttcatcaaaggcttaaacaacctaaatagaggtatggtgctgggcagtttagctgctacagtacgtcttcaggctggaaatgctacagaagtacctgccaattcaactgtgctttccttctgtgcttttgcagtagaccctgctaaagcatataaggattacctagcaagtggaggacaaccaatcaccaactgtgtgaagatgttgtgtacacacactggtacaggacaggcaattactgtaacaccagaagctaacatggaccaagagtcctttggtggtgcttcatgttgtctgtattgtagatgccacattgaccatccaaatcctaaaggattctgtgacttgaaaggtaagtacgtccaaatacctaccacttgtgctaatgacccagtgggttttacacttagaaacacagtctgtaccgtctgcggaatgtggaaaggttatggctgtagttgtgaccaactccgcgaacccttgatgcagtctgcggatgcatcaacgtttttaaacgggtttgcggtgtaagtgcagcccgtcttacaccgtgcggcacaggcactagtactgatgtcgtctacagggcttttgatatttacaacgaaaaagttgctggttttgcaaagttcctaaaaactaattgctgtcgcttccaggagaaggatgaggaaggcaatttattagactcttactttgtagttaagaggcatactatgtctaactaccaacatgaagagactatttataacttggttaaagattgtccagcggttgctgtccatgactttttcaagtttagagtagatggtgacatggtaccacatatatcacgtcagcgtctaactaaatacacaatggctgatttagtctatgctctacgtcattttgatgagggtaattgtgatacattaaaagaaatactcgtcacatacaattgctgtgatgatgattatttcaataagaaggattggtatgacttcgtagagaatcctgacatcttacgcgtatatgctaacttaggtgagcgtgtacgccaatcattattaaagactgtacaattctgcgatgctatgcgtgatgcaggcattgtaggcgtactgacattagataatcaggatcttaatgggaactggtacgatttcggtgatttcgtacaagtagcaccaggctgcggagttcctattgtggattcatattactcattgctgatgcccatcctcactttgactagggcattggctgctgagtcccatatggatgctgatctcgcaaaaccacttattaagtgggatttgctgaaatatgattttacggaagagagactttgtctcttcgaccgttattttaaatattgggaccagacataccatcccaattgtattaactgtttggatgataggtgtatccttcattgtgcaaactttaatgtgttattttctactgtgtttccacctacaagttttggaccactagtaagaaaaatatttgtagatggtgttccttttgttgtttcaactggataccattttcgtgagttaggagtcgtacataatcaggatgtaaacttacatagctcgcgtctcagtttcaaggaacttttagtgtatgctgctgatccagctatgcatgcagcttctggcaatttattgctagataaacgcactacatgcttttcagtagctgcactaacaaacaatgttgcttttcaaactgtcaaacccggtaattttaataaagacttttatgactttgctgtgtctaaaggtttctttaaggaaggaagttctgttgaactaaaacacttcttctttgctcaggatggcaacgctgctatcagtgattatgactattatcgttataatctgccaacaatgtgtgatatcagacaactcctattcgtagttgaagttgttgataaatactttgattgttacgatggtggctgtattaatgccaaccaagtaatcgttaacaatctggataaatcagctggtttcccatttaataaatggggtaaggctagactttattatgactcaatgagttatgaggatcaagatgcacttttcgcgtatactaagcgtaatgtcatccctactataactcaaatgaatcttaagtatgccattagtgcaaagaatagagctcgcaccgtagctggtgtctctatctgtagtactatgacaaatagacagtttcatcagaaattattgaagtcaatagccgccactagaggagctactgtggtaattggaacaagcaagttttacggtggctggcataatatgttaaaaactgtttacagtgatgtagaaactccacaccttatgggttgggattatccaaaatgtgacagagccatgcctaacatgcttaggataatggcctctcttgttcttgctcgcaaacataacacttgctgtaacttatcacaccgtttctacaggttagctaacgagtgtgcgcaagtattaagtgagatggtcatgtgtggcggctcactatatgttaaaccaggtggaacatcatccggtgatgctacaactgcttatgctaatagtgtctttaacatttgtcaagctgttacagccaatgtaaatgcacttctttcaactgatggtaataagatagctgacaagtatgtccgcaatctacaacacaggctctatgagtgtctctatagaaatagggatgttgatcatgaattcgtggatgagttttacgcttacctgcgtaaacatttctccatgatgattctttctgatgatgccgttgtgtgctataacagtaactatgcggctcaaggtttagtagctagcattaagaactttaaggcagttctttattatcaaaataatgtgttcatgtctgaggcaaaatgttggactgagactgaccttactaaaggacctcacgaattttgctcacagcatacaatgctagttaaacaaggagatgattacgtgtacctgccttacccagatccatcaagaatattaggcgcaggctgttttgtcgatgatattgtcaaaacagatggtacacttatgattgaaaggttcgtgtcactggctattgatgcttacccacttacaaaacatcctaatcaggagtatgctgatgtctttcacttgtatttacaatacattagaaagttacatgatgagcttactggccacatgttggacatgtattccgtaatgctaactaatgataacacctcacggtactgggaacctgagttttatgaggctatgtacacaccacatacagtcttgcaggctgtaggtgcttgtgtattgtgcaattcacagacttcacttcgttgcggtgcctgtattaggagaccattcctatgttgcaagtgctgctatgaccatgtcatttcaacatcacacaaattagtgttgtctgttaatccctatgtttgcaatgccccaggttgtgatgtcactgatgtgacacaactgtatctaggaggtatgagctattattgcaagtcacataagcctcccattagttttccattatgtgctaatggtcaggtttttggtttatacaaaaacacatgtgtaggcagtgacaatgtcactgacttcaatgcgatagcaacatgtgattggactaatgctggcgattacatacttgccaacacttgtactgagagactcaagcttttcgcagcagaaacgctcaaagccactgaggaaacatttaagctgtcatatggtattgccactgtacgcgaagtactctctgacagagaattgcatctttcatgggaggttggaaaacctagaccaccattgaacagaaactatgtctttactggttaccgtgtaactaaaaatagtaaagtacagattggagagtacacctttgaaaaaggtgactatggtgatgctgttgtgtacagaggtactacgacatacaagttgaatgttggtgattactttgtgttgacatctcacactgtaatgccacttagtgcacctactctagtgccacaagagcactatgtgagaattactggcttgtacccaacactcaacatctcagatgagttttctagcaatgttgcaaattatcaaaaggtcggcatgcaaaagtactctacactccaaggaccacctggtactggtaagagtcattttgccatcggacttgctctctattacccatctgctcgcatagtgtatacggcatgctctcatgcagctgttgatgccctatgtgaaaaggcattaaaatatttgcccatagataaatgtagtagaatcatacctgcgcgtgcgcgcgtagagtgttttgataaattcaaagtgaattcaacactagaacagtatgttttctgcactgtaaatgcattgccagaaacaactgctgacattgtagtctttgatgaaatctctatggctactaattatgacttgagtgttgtcaatgctagacttcgtgcaaaacactacgtctatattggcgatcctgctcaattaccagccccccgcacattgctgactaaaggcacactagaaccagaatattttaattcagtgtgcagacttatgaaaacaataggtccagacatgttccttggaacttgtcgccgttgtcctgctgaaattgttgacactgtgagtgctttagtttatgacaataagctaaaagcacacaaggataagtcagctcaatgcttcaaaatgttctacaaaggtgttattacacatgatgtttcatctgcaatcaacagacctcaaataggcgttgtaagagaatttcttacacgcaatcctgcttggagaaaagctgtttttatctcaccttataattcacagaacgctgtagcttcaaaaatcttaggattgcctacgcagactgttgattcatcacagggttctgaatatgactatgtcatattcacacaaactactgaaacagcacactcttgtaatgtcaaccgcttcaatgtggctatcacaagggcaaaaattggcattttgtgcataatgtctgatagagatctttatgacaaactgcaatttacaagtctagaaataccacgtcgcaatgtggctacattacaagcagaaaatgtaactggactttttaaggactgtagtaagatcattactggtcttcatcctacacaggcacctacacacctcagcgttgatataaagttcaagactgaaggattatgtgttgacataccaggcataccaaaggacatgacctaccgtagactcatctctatgatgggtttcaaaatgaattaccaagtcaatggttaccctaatatgtttatcacccgcgaagaagctattcgtcacgttcgtgcgtggattggctttgatgtagagggctgtcatgcaactagagatgctgtgggtactaacctacctctccagctaggattttctacaggtgttaacttagtagctgtaccgactggttatgttgacactgaaaataacacagaattcaccagagttaatgcaaaacctccaccaggtgaccagtttaaacatcttataccactcatgtataaaggcttgccctggaatgtagtgcgtattaagatagtacaaatgctcagtgatacactgaaaggattgtcagacagagtcgtgttcgtcctttgggcgcatggctttgagcttacatcaatgaagtactttgtcaagattggacctgaaagaacgtgttgtctgtgtgacaaacgtgcaacttgcttttctacttcatcagatacttatgcctgctggaatcattctgtgggttttgactatgtctataacccatttatgattgatgttcagcagtggggctttacgggtaaccttcagagtaaccatgaccaacattgccaggtacatggaaatgcacatgtggctagttgtgatgctatcatgactagatgtttagcagtccatgagtgctttgttaagcgcgttgattggtctgttgaataccctattataggagatgaactgagggttaattctgcttgcagaaaagtacaacacatggttgtgaagtctgcattgcttgctgataagtttccagttcttcatgacattggaaatccaaaggctatcaagtgtgtgcctcaggctgaagtagaatggaagttctacgatgctcagccatgtagtgacaaagcttacaaaatagaggaactcttctattcttatgctacacatcacgataaattcactgatggtgtttgtttgttttggaattgtaacgttgatcgttacccagccaatgcaattgtgtgtaggtttgacacaagagtcttgtcaaacttgaacttaccaggctgtgatggtggtagtttgtatgtgaataagcatgcattccacactccagctttcgataaaagtgcatttactaatttaaagcaattgcctttcttttactattctgatagtccttgtgagtctcatggcaaacaagtagtgtcggatattgattatgttccactcaaatctgctacgtgtattacacgatgcaatttaggtggtgctgtttgcagacaccatgcaaatgagtaccgacagtacttggatgcatataatatgatgatttctgctggatttagcctatggatttacaaacaatttgatacttataacctgtggaatacatttaccaggttacagagtttagaaaatgtggcttataatgttgttaataaaggacactttgatggacacgccggcgaagcacctgtttccatcattaataatgctgtttacacaaaggtagatggtattgatgtggagatctttgaaaataagacaacacttcctgttaatgttgcatttgagctttgggctaagcgtaacattaaaccagtgccagagattaagatactcaataatttgggtgttgatatcgctgctaatactgtaatctgggactacaaaagagaagccccagcacatgtatctacaataggtgtctgcacaatgactgacattgccaagaaacctactgagagtgcttgttcttcacttactgtcttgtttgatggtagagtggaaggacaggtagacctttttagaaacgcccgtaatggtgttttaataacagaaggttcagtcaaaggtctaacaccttcaaagggaccagcacaagctagcgtcaatggagtcacattaattggagaatcagtaaaaacacagtttaactactttaagaaagtagacggcattattcaacagttgcctgaaacctactttactcagagcagagacttagaggattttaagcccagatcacaaatggaaactgactttctcgagctcgctatggatgaattcatacagcgatataagctcgagggctatgccttcgaacacatcgtttatggagatttcagtcatggacaacttggcggtcttcatttaatgataggcttagccaagcgctcacaagattcaccacttaaattagaggattttatccctatggacagcacagtgaaaaattacttcataacagatgcgcaaacaggttcatcaaaatgtgtgtgttctgtgattgatcttttacttgatgactttgtcgagataataaagtcacaagatttgtcagtgatttcaaaagtggtcaaggttacaattgactatgctgaaatttcattcatgctttggtgtaaggatggacatgttgaaaccttctacccaaaactacaagcaagtcaagcgtggcaaccaggtgttgcgatgcctaacttgtacaagatgcaaagaatgcttcttgaaaagtgtgaccttcagaattatggtgaaaatgctgttataccaaaaggaataatgatgaatgtcgcaaagtatactcaactgtgtcaatacttaaatacacttactttagctgtaccctacaacatgagagttattcactttggtgctggctctgataaaggagttgcaccaggtacagctgtgctcagacaatggttgccaactggcacactacttgtcgattcagatcttaatgacttcgtctccgacgcagattctactttaattggagactgtgcaacagtacatacggctaataaatgggaccttattattagcgatatgtatgaccctaggaccaaacatgtgacaaaagagaatgactctaaagaagggtttttcacttatctgtgtggatttataaagcaaaaactagccctgggtggttctatagctgtaaagataacagagcattcttggaatgctgacctttacaagcttatgggccatttctcatggtggacagcttttgttacaaatgtaaatgcatcatcatcggaagcatttttaattggggctaactatcttggcaagccgaaggaacaaattgatggctataccatgcatgctaactacattttctggaggaacacaaatcctatccagttgtcttcctattcactctttgacatgagcaaatttcctcttaaattaagaggaactgctgtaatgtctcttaaggagaatcaaatcaatgatatgatttattctcttctggaaaaaggtaggcttatcattagagaaaacaacagagttgtggtttcaagtgatattcttgttaacaactaaacgaacatgtttattttcttattatttcttactctcactagtggtagtgaccttgaccggtgcaccacttttgatgatgttcaagctcctaattacactcaacatacttcatctatgaggggggtttactatcctgatgaaatttttagatcagacactctttatttaactcaggatttatttcttccattttattctaatgttacagggtttcatactattaatcatacgtttggcaaccctgtcataccttttaaggatggtatttattttgctgccacagagaaatcaaatgttgtccgtggttgggtttttggttctaccatgaacaacaagtcacagtcggtgattattattaacaattctactaatgttgttatacgagcatgtaactttgaattgtgtgacaaccctttctttgctgtttctaaacccatgggtacacagacacatactatgatattcgataatgcatttaattgcactttcgagtacatatctgatgccttttcgcttgatgtttcagaaaagtcaggtaattttaaacacttacgagagtttgtgtttaaaaataaagatgggtttctctatgtttataagggctatcaacctatagatgtagttcgtgatctaccttctggttttaacactttgaaacctatttttaagttgcctcttggtattaacattacaaattttagagccattcttacagccttttcacctgctcaagacatttggggcacgtcagctgcagcctattttgttggctatttaaagccaactacatttatgctcaagtatgatgaaaatggtacaatcacagatgctgttgattgttctcaaaatccacttgctgaactcaaatgctctgttaagagctttgagattgacaaaggaatttaccagacctctaatttcagggttgttccctcaggagatgttgtgagattccctaatattacaaacttgtgtccttttggagaggtttttaatgctactaaattcccttctgtctatgcatgggagagaaaaaaaatttctaattgtgttgctgattactctgtgctctacaactcaacatttttttcaacctttaagtgctatggcgtttctgccactaagttgaatgatctttgcttctccaatgtctatgcagattcttttgtagtcaagggagatgatgtaagacaaatagcgccaggacaaactggtgttattgctgattataattataaattgccagatgatttcatgggttgtgtccttgcttggaatactaggaacattgatgctacttcaactggtaattataattataaatataggtatcttagacatggcaagcttaggccctttgagagagacatatctaatgtgcctttctcccctgatggcaaaccttgcaccccacctgctcttaattgttattggccattaaatgattatggtttttacaccactactggcattggctaccaaccttacagagttgtagtactttcttttgaacttttaaatgcaccggccacggtttgtggaccaaaattatccactgaccttattaagaaccagtgtgtcaattttaattttaatggactcactggtactggtgtgttaactccttcttcaaagagatttcaaccatttcaacaatttggccgtgatgtttctgatttcactgattccgttcgagatcctaaaacatctgaaatattagacatttcaccttgcgcttttgggggtgtaagtgtaattacacctggaacaaatgcttcatctgaagttgctgttctatatcaagatgttaactgcactgatgtttctacagcaattcatgcagatcaactcacaccagcttggcgcatatattctactggaaacaatgtattccagactcaagcaggctgtcttataggagctgagcatgtcgacacttcttatgagtgcgacattcctattggagctggcatttgtgctagttaccatacagtttctttattacgtagtactagccaaaaatctattgtggcttatactatgtctttaggtgctgatagttcaattgcttactctaataacaccattgctatacctactaacttttcaattagcattactacagaagtaatgcctgtttctatggctaaaacctccgtagattgtaatatgtacatctgcggagattctactgaatgtgctaatttgcttctccaatatggtagcttttgcacacaactaaatcgtgcactctcaggtattgctgctgaacaggatcgcaacacacgtgaagtgttcgctcaagtcaaacaaatgtacaaaaccccaactttgaaatattttggtggttttaatttttcacaaatattacctgaccctctaaagccaactaagaggtcttttattgaggacttgctctttaataaggtgacactcgctgatgctggcttcatgaagcaatatggcgaatgcctaggtgatattaatgctagagatctcatttgtgcgcagaagttcaatggacttacagtgttgccacctctgctcactgatgatatgattgctgcctacactgctgctctagttagtggtactgccactgctggatggacatttggtgctggcgctgctcttcaaataccttttgctatgcaaatggcatataggttcaatggcattggagttacccaaaatgttctctatgagaaccaaaaacaaatcgccaaccaatttaacaaggcgattagtcaaattcaagaatcacttacaacaacatcaactgcattgggcaagctgcaagacgttgttaaccagaatgctcaagcattaaacacacttgttaaacaacttagctctaattttggtgcaatttcaagtgtgctaaatgatatcctttcgcgacttgataaagtcgaggcggaggtacaaattgacaggttaattacaggcagacttcaaagccttcaaacctatgtaacacaacaactaatcagggctgctgaaatcagggcttctgctaatcttgctgctactaaaatgtctgagtgtgttcttggacaatcaaaaagagttgacttttgtggaaagggctaccaccttatgtccttcccacaagcagccccgcatggtgttgtcttcctacatgtcacgtatgtgccatcccaggagaggaacttcaccacagcgccagcaatttgtcatgaaggcaaagcatacttccctcgtgaaggtgtttttgtgtttaatggcacttcttggtttattacacagaggaacttcttttctccacaaataattactacagacaatacatttgtctcaggaaattgtgatgtcgttattggcatcattaacaacacagtttatgatcctctgcaacctgagcttgactcattcaaagaagagctggacaagtacttcaaaaatcatacatcaccagatgttgatcttggcgacatttcaggcattaacgcttctgtcgtcaacattcaaaaagaaattgaccgcctcaatgaggtcgctaaaaatttaaatgaatcactcattgaccttcaagaattgggaaaatatgagcaatatattaaatggccttggtatgtttggctcggcttcattgctggactaattgccatcgtcatggttacaatcttgctttgttgcatgactagttgttgcagttgcctcaagggtgcatgctcttgtggttcttgctgcaagtttgatgaggatgactctgagccagttctcaagggtgtcaaattacattacacataaacgaacttatggatttgtttatgagattttttactcttagatcaattactgcacagccagtaaaaattgacaatgcttctcctgcaagtactgttcatgctacagcaacgataccgctacaagcctcactccctttcggatggcttgttattggcgttgcatttcttgctgtttttcagagcgctaccaaaataattgcgctcaataaaagatggcagctagccctttataagggcttccagttcatttgcaatttactgctgctatttgttaccatctattcacatcttttgcttgtcgctgcaggtatggaggcgcaatttttgtacctctatgccttgatatattttctacaatgcatcaacgcatgtagaattattatgagatgttggctttgttggaagtgcaaatccaagaacccattactttatgatgccaactactttgtttgctggcacacacataactatgactactgtataccatataacagtgtcacagatacaattgtcgttactgaaggtgacggcatttcaacaccaaaactcaaagaagactaccaaattggtggttattctgaggataggcactcaggtgttaaagactatgtcgttgtacatggctatttcaccgaagtttactaccagcttgagtctacacaaattactacagacactggtattgaaaatgctacattcttcatctttaacaagcttgttaaagacccaccgaatgtgcaaatacacacaatcgacggctcttcaggagttgctaatccagcaatggatccaatttatgatgagccgacgacgactactagcgtgcctttgtaagcacaagaaagtgagtacgaacttatgtactcattcgtttcggaagaaacaggtacgttaatagttaatagcgtacttctttttcttgctttcgtggtattcttgctagtcacactagccatccttactgcgcttcgattgtgtgcgtactgctgcaatattgttaacgtgagtttagtaaaaccaacggtttacgtctactcgcgtgttaaaaatctgaactcttctgaaggagttcctgatcttctggtctaaacgaactaactattattattattctgtttggaactttaacattgcttatcatggcagacaacggtactattaccgttgaggagcttaaacaactcctggaacaatggaacctagtaataggtttcctattcctagcctggattatgttactacaatttgcctattctaatcggaacaggtttttgtacataataaagcttgttttcctctggctcttgtggccagtaacacttgcttgttttgtgcttgctgctgtctacagaattaattgggtgactggcgggattgcgattgcaatggcttgtattgtaggcttgatgtggcttagctacttcgttgcttccttcaggctgtttgctcgtacccgctcaatgtggtcattcaacccagaaacaaacattcttctcaatgtgcctctccgggggacaattgtgaccagaccgctcatggaaagtgaacttgtcattggtgctgtgatcattcgtggtcacttgcgaatggccggacactccctagggcgctgtgacattaaggacctgccaaaagagatcactgtggctacatcacgaacgctttcttattacaaattaggagcgtcgcagcgtgtaggcactgattcaggttttgctgcatacaaccgctaccgtattggaaactataaattaaatacagaccacgccggtagcaacgacaatattgctttgctagtacagtaagtgacaacagatgtttcatcttgttgacttccaggttacaatagcagagatattgattatcattatgaggactttcaggattgctatttggaatcttgacgttataataagttcaatagtgagacaattatttaagcctctaactaagaagaattattcggagttagatgatgaagaacctatggagttagattatccataaaacgaacatgaaaattattctcttcctgacattgattgtatttacatcttgcgagctatatcactatcaggagtgtgttagaggtacgactgtactactaaaagaaccttgcccatcaggaacatacgagggcaattcaccatttcaccctcttgctgacaataaatttgcactaacttgcactagcacacactttgcttttgcttgtgctgacggtactcgacatacctatcagctgcgtgcaagatcagtttcaccaaaacttttcatcagacaagaggaggttcaacaagagctctactcgccactttttctcattgttgctgctctagtatttttaatactttgcttcaccattaagagaaagacagaatgaatgagctcactttaattgacttctatttgtgctttttagcctttctgctattccttgttttaataatgcttattatattttggttttcactcgaaatccaggatctagaagaaccttgtaccaaagtctaaacgaacatgaaacttctcattgttttgacttgtatttctctatgcagttgcatatgcactgtagtacagcgctgtgcatctaataaacctcatgtgcttgaagatccttgtaaggtacaacactaggggtaatacttatagcactgcttggctttgtgctctaggaaaggttttaccttttcatagatggcacactatggttcaaacatgcacacctaatgttactatcaactgtcaagatccagctggtggtgcgcttatagctaggtgttggtaccttcatgaaggtcaccaaactgctgcatttagagacgtacttgttgttttaaataaacgaacaaattaaaatgtctgataatggaccccaatcaaaccaacgtagtgccccccgcattacatttggtggacccacagattcaactgacaataaccagaatggaggacgcaatggggcaaggccaaaacagcgccgaccccaaggtttacccaataatactgcgtcttggttcacagctctcactcagcatggcaaggaggaacttagattccctcgaggccagggcgttccaatcaacaccaatagtggtccagatgaccaaattggctactaccgaagagctacccgacgagttcgtggtggtgacggcaaaatgaaagagctcagccccagatggtacttctattacctaggaactggcccagaagcttcacttccctacggcgctaacaaagaaggcatcgtatgggttgcaactgagggagccttgaatacacccaaagaccacattggcacccgcaatcctaataacaatgctgccaccgtgctacaacttcctcaaggaacaacattgccaaaaggcttctacgcagagggaagcagaggcggcagtcaagcctcttctcgctcctcatcacgtagtcgcggtaattcaagaaattcaactcctggcagcagtaggggaaattctcctgctcgaatggctagcggaggtggtgaaactgccctcgcgctattgctgctagacagattgaaccagcttgagagcaaagtttctggtaaaggccaacaacaacaaggccaaactgtcactaagaaatctgctgctgaggcatctaaaaagcctcgccaaaaacgtactgccacaaaacagtacaacgtcactcaagcatttgggagacgtggtccagaacaaacccaaggaaatttcggggaccaagacctaatcagacaaggaactgattacaaacattggccgcaaattgcacaatttgctccaagtgcctctgcattctttggaatgtcacgcattggcatggaagtcacaccttcgggaacatggctgacttatcatggagccattaaattggatgacaaagatccacaattcaaagacaacgtcatactgctgaacaagcacattgacgcatacaaaacattcccaccaacagagcctaaaaaggacaaaaagaaaaagactgatgaagctcagcctttgccgcagagacaaaagaagcagcccactgtgactcttcttcctgcggctgacatggatgatttctccagacaacttcaaaattccatgagtggagcttctgctgattcaactcaggcataaacactcatgatgaccacacaaggcagatgggctatgtaaacgttttcgcaattccgtttacgatacatagtctactcttgtgcagaatgaattctcgtaactaaacagcacaagtaggtttagttaactttaatctcacatagcaatctttaatcaatgtgtaacattagggaggacttgaaagagccaccacattttcatcgaggccacgcggagtacgatcgagggtacagtgaataatgctagggagagctgcctatatggaagagccctaatgtgtaaaattaattttagtagtgctatccccatgtgattttaatagcttcttaggagaatgacaaaaaaaaaaaaaaaaaaaaaaaa'"
      ]
     },
     "execution_count": 20,
     "metadata": {},
     "output_type": "execute_result"
    }
   ],
   "source": [
    "cc_v1"
   ]
  },
  {
   "cell_type": "code",
   "execution_count": 21,
   "metadata": {
    "scrolled": true
   },
   "outputs": [
    {
     "data": {
      "text/plain": [
       "(29903, 29751)"
      ]
     },
     "execution_count": 21,
     "metadata": {},
     "output_type": "execute_result"
    }
   ],
   "source": [
    "len(cc), len(cc_v1)"
   ]
  },
  {
   "cell_type": "code",
   "execution_count": 22,
   "metadata": {},
   "outputs": [
    {
     "data": {
      "text/plain": [
       "5992"
      ]
     },
     "execution_count": 22,
     "metadata": {},
     "output_type": "execute_result"
    }
   ],
   "source": [
    "import editdistance as ed\n",
    "ed.eval(cc, cc_v1)"
   ]
  },
  {
   "cell_type": "code",
   "execution_count": 23,
   "metadata": {},
   "outputs": [],
   "source": [
    "# The complete guide to PCR\n",
    "# https://www.youtube.com/watch?v=7kJ2o7P8D00"
   ]
  },
  {
   "cell_type": "markdown",
   "metadata": {},
   "source": [
    "How does SARS-cov replicate?\n",
    "\n",
    "https://en.wikipedia.org/wiki/Coronavirus"
   ]
  },
  {
   "cell_type": "markdown",
   "metadata": {},
   "source": [
    "<img src=\"https://upload.wikimedia.org/wikipedia/commons/f/f4/Coronavirus_replication.png\" width=\"800\" height=\"400\" title=\"SARS-CoV-2\">"
   ]
  },
  {
   "cell_type": "markdown",
   "metadata": {},
   "source": [
    "Study the spike glycoprotein\n",
    "\n",
    "closed state:\n",
    "https://www.ncbi.nlm.nih.gov/Structure/pdb/6VXX\n",
    "\n",
    "open state (after delivering payload):\n",
    "https://www.ncbi.nlm.nih.gov/Structure/pdb/6VYB"
   ]
  },
  {
   "cell_type": "code",
   "execution_count": 24,
   "metadata": {
    "scrolled": true
   },
   "outputs": [
    {
     "data": {
      "application/vnd.jupyter.widget-view+json": {
       "model_id": "ad2c8be0ce1e46f98dbf3759557ffba8",
       "version_major": 2,
       "version_minor": 0
      },
      "text/plain": [
       "_ColormakerRegistry()"
      ]
     },
     "metadata": {},
     "output_type": "display_data"
    },
    {
     "data": {
      "application/vnd.jupyter.widget-view+json": {
       "model_id": "0267bcf361ec40789097150a4678b4ae",
       "version_major": 2,
       "version_minor": 0
      },
      "text/plain": [
       "NGLWidget()"
      ]
     },
     "metadata": {},
     "output_type": "display_data"
    }
   ],
   "source": [
    "import nglview\n",
    "view = nglview.show_pdbid(\"6VYB\")  # load \"3pqr\" from RCSB PDB and display viewer widget\n",
    "view"
   ]
  },
  {
   "cell_type": "code",
   "execution_count": 25,
   "metadata": {},
   "outputs": [],
   "source": [
    "# https://www.ncbi.nlm.nih.gov/structure/?term=sars-cov-2"
   ]
  },
  {
   "cell_type": "markdown",
   "metadata": {},
   "source": [
    "Let's check all proteins, and what they are for.\n",
    "\n",
    "<img src=\"https://upload.wikimedia.org/wikipedia/commons/e/e5/Coronavirus_virion_structure.svg\" width=\"400\" height=\"400\" title=\"Coronavirus virion structure\">"
   ]
  },
  {
   "cell_type": "code",
   "execution_count": 26,
   "metadata": {},
   "outputs": [],
   "source": [
    "# Protein alignments: http://virological.org/t/alignment-of-58-sarbecovirus-genomes-for-conservation-analysis-of-sars-cov-2/430\n",
    "\n",
    "# whole thing has a \"lipid bilayer envelope\", with S E M sticking out\n",
    "# the ORF proteins are non structural and form a \"replicase-transcriptase complex\"\n",
    "\n",
    "# copy machine == https://www.uniprot.org/uniprot/Q0ZJN1\n",
    "# https://zhanglab.ccmb.med.umich.edu/C-I-TASSER/2019-nCov/\n",
    "# zhanglab breaks this down into many more proteins, orf1b seems like a myth\n",
    "\n",
    "# begin: 266 base pair \"untranslated\"\n",
    "# https://en.wikipedia.org/wiki/Five_prime_untranslated_region\n",
    "\n",
    "# 1-15 are in orf1ab\n",
    "#    1 = Host translation inhibitor nsp1\n",
    "#    2 = ???\n",
    "#    3 = Papin-like proteinase\n",
    "#        see diff https://www.ncbi.nlm.nih.gov/projects/msaviewer/?rid=7FXGTZFN016&coloring=cons\n",
    "#    4 = nsp4B_TM; contains transmenbrane domain 2 (TM2); produced by both pp1a and pp1b\n",
    "#    5 = Proteinase 3CL-PRO\n",
    "#    6 = ???\n",
    "#    7 = ???\n",
    "#    8 = ???\n",
    "#    9 = ssRNA-binding protein; produced by both pp1a and pp1ab\n",
    "#   10 = nsp10_CysHis; formerly known as growth-factor-like protein (GFL)\n",
    "#   11 = https://en.wikipedia.org/wiki/RNA-dependent_RNA_polymerase\n",
    "#   12 = Helicase (Hel).\n",
    "#   13 = Guanine-N7 methyltransferase (ExoN) or maybe 3'-to-5' exonuclease\n",
    "#   14 = Uridylate-specific endoribonuclease (NendoU), endoRNAse\n",
    "#   15 = 2'-O-methyltransferase (2'-O-MT), https://en.wikipedia.org/wiki/MRNA_(nucleoside-2%27-O-)-methyltransferase\n",
    "orf1a = translate(cc[266-1:13483], True)\n",
    "## orf1b = translate(cc[13468-1:21555], False)\n",
    "## try to fix orf1b with this piece backwards by 18 base pairs\n",
    "orf1b = translate(cc[13442-1:13468], False) + translate(cc[13468-1:21555], False)\n",
    "orf1ab = orf1a + orf1b\n",
    "\n",
    "# exploit vector, attaches to ACE2, also called \"surface glycoprotein\"\n",
    "# closed state -- https://www.ncbi.nlm.nih.gov/Structure/pdb/6VXX\n",
    "# open state (after delivering payload?) -- https://www.ncbi.nlm.nih.gov/Structure/pdb/6VYB\n",
    "# sort of 3 proteins, S1, S2 and S2'\n",
    "spike_glycoprotein = translate(cc[21563-1:25384], True)\n",
    "\n",
    "orf3a = translate(cc[25393-1:26220], True)\n",
    "\n",
    "# these 2 things stick out\n",
    "envelope_protein = translate(cc[26245-1:26472], True)\n",
    "membrane_protein = translate(cc[26523-1:27191], True)  # orf5\n",
    "\n",
    "orf6 = translate(cc[27202-1:27387], True)\n",
    "\n",
    "# Non-structural protein which is dispensable for virus replication in cell culture.\n",
    "# Suppression of host tetherin activity.\n",
    "orf7a = translate(cc[27394-1:27759], True)\n",
    "orf7b = translate(cc[27756-1:27887], True)\n",
    "\n",
    "orf8 = translate(cc[27894-1:28259], True)\n",
    "\n",
    "# capsid is the protein shell of a virus; the capsid encloses the genetic material of the virus\n",
    "# Packages the positive strand viral genome RNA into a helical ribonucleocapsid (RNP)\n",
    "nucleocapsid_phosphoprotein = translate(cc[28274-1:29533], True)  # orf9\n",
    "\n",
    "# ORF10: Coronavirus 3' UTR pseudoknot stem-loop 1\n",
    "orf10 = translate(cc[29558-1:29674], True)\n"
   ]
  },
  {
   "cell_type": "code",
   "execution_count": 27,
   "metadata": {
    "scrolled": true
   },
   "outputs": [
    {
     "name": "stdout",
     "output_type": "stream",
     "text": [
      "orf1a: MESLVPGFNEKTHVQLSLPVLQVRDVLVRGFGDSVEEVLSEARQHLKDGTCGLVEVEKGVLPQLEQPYVFIKRSDARTAPHGHVMVELVAELEGIQYGRSGETLGVLVPHVGEIPVAYRKVLLRKNGNKGAGGHSYGADLKSFDLGDELGTDPYEDFQENWNTKHSSGVTRELMRELNGGAYTRYVDNNFCGPDGYPLECIKDLLARAGKASCTLSEQLDFIDTKRGVYCCREHEHEIAWYTERSEKSYELQTPFEIKLAKKFDTFNGECPNFVFPLNSIIKTIQPRVEKKKLDGFMGRIRSVYPVASPNECNQMCLSTLMKCDHCGETSWQTGDFVKATCEFCGTENLTKEGATTCGYLPQNAVVKIYCPACHNSEVGPEHSLAEYHNESGLKTILRKGGRTIAFGGCVFSYVGCHNKCAYWVPRASANIGCNHTGVVGEGSEGLNDNLLEILQKEKVNINIVGDFKLNEEIAIILASFSASTSAFVETVKGLDYKAFKQIVESCGNFKVTKGKAKKGAWNIGEQKSILSPLYAFASEAARVVRSIFSRTLETAQNSVRVLQKAAITILDGISQYSLRLIDAMMFTSDLATNNLVVMAYITGGVVQLTSQWLTNIFGTVYEKLKPVLDWLEEKFKEGVEFLRDGWEIVKFISTCACEIVGGQIVTCAKEIKESVQTFFKLVNKFLALCADSIIIGGAKLKALNLGETFVTHSKGLYRKCVKSREETGLLMPLKAPKEIIFLEGETLPTEVLTEEVVLKTGDLQPLEQPTSEAVEAPLVGTPVCINGLMLLEIKDTEKYCALAPNMMVTNNTFTLKGGAPTKVTFGDDTVIEVQGYKSVNITFELDERIDKVLNEKCSAYTVELGTEVNEFACVVADAVIKTLQPVSELLTPLGIDLDEWSMATYYLFDESGEFKLASHMYCSFYPPDEDEEEGDCEEEEFEPSTQYEYGTEDDYQGKPLEFGATSAALQPEEEQEEDWLDDDSQQTVGQQDGSEDNQTTTIQTIVEVQPQLEMELTPVVQTIEVNSFSGYLKLTDNVYIKNADIVEEAKKVKPTVVVNAANVYLKHGGGVAGALNKATNNAMQVESDDYIATNGPLKVGGSCVLSGHNLAKHCLHVVGPNVNKGEDIQLLKSAYENFNQHEVLLAPLLSAGIFGADPIHSLRVCVDTVRTNVYLAVFDKNLYDKLVSSFLEMKSEKQVEQKIAEIPKEEVKPFITESKPSVEQRKQDDKKIKACVEEVTTTLEETKFLTENLLLYIDINGNLHPDSATLVSDIDITFLKKDAPYIVGDVVQEGVLTAVVIPTKKAGGTTEMLAKALRKVPTDNYITTYPGQGLNGYTVEEAKTVLKKCKSAFYILPSIISNEKQEILGTVSWNLREMLAHAEETRKLMPVCVETKAIVSTIQRKYKGIKIQEGVVDYGARFYFYTSKTTVASLINTLNDLNETLVTMPLGYVTHGLNLEEAARYMRSLKVPATVSVSSPDAVTAYNGYLTSSSKTPEEHFIETISLAGSYKDWSYSGQSTQLGIEFLKRGDKSVYYTSNPTTFHLDGEVITFDNLKTLLSLREVRTIKVFTTVDNINLHTQVVDMSMTYGQQFGPTYLDGADVTKIKPHNSHEGKTFYVLPNDDTLRVEAFEYYHTTDPSFLGRYMSALNHTKKWKYPQVNGLTSIKWADNNCYLATALLTLQQIELKFNPPALQDAYYRARAGEAANFCALILAYCNKTVGELGDVRETMSYLFQHANLDSCKRVLNVVCKTCGQQQTTLKGVEAVMYMGTLSYEQFKKGVQIPCTCGKQATKYLVQQESPFVMMSAPPAQYELKHGTFTCASEYTGNYQCGHYKHITSKETLYCIDGALLTKSSEYKGPITDVFYKENSYTTTIKPVTYKLDGVVCTEIDPKLDNYYKKDNSYFTEQPIDLVPNQPYPNASFDNFKFVCDNIKFADDLNQLTGYKKPASRELKVTFFPDLNGDVVAIDYKHYTPSFKKGAKLLHKPIVWHVNNATNKATYKPNTWCIRCLWSTKPVETSNSFDVLKSEDAQGMDNLACEDLKPVSEEVVENPTIQKDVLECNVKTTEVVGDIILKPANNSLKITEEVGHTDLMAAYVDNSSLTIKKPNELSRVLGLKTLATHGLAAVNSVPWDTIANYAKPFLNKVVSTTTNIVTRCLNRVCTNYMPYFFTLLLQLCTFTRSTNSRIKASMPTTIAKNTVKSVGKFCLEASFNYLKSPNFSKLINIIIWFLLLSVCLGSLIYSTAALGVLMSNLGMPSYCTGYREGYLNSTNVTIATYCTGSIPCSVCLSGLDSLDTYPSLETIQITISSFKWDLTAFGLVAEWFLAYILFTRFFYVLGLAAIMQLFFSYFAVHFISNSWLMWLIINLVQMAPISAMVRMYIFFASFYYVWKSYVHVVDGCNSSTCMMCYKRNRATRVECTTIVNGVRRSFYVYANGGKGFCKLHNWNCVNCDTFCAGSTFISDEVARDLSLQFKRPINPTDQSSYIVDSVTVKNGSIHLYFDKAGQKTYERHSLSHFVNLDNLRANNTKGSLPINVIVFDGKSKCEESSAKSASVYYSQLMCQPILLLDQALVSDVGDSAEVAVKMFDAYVNTFSSTFNVPMEKLKTLVATAEAELAKNVSLDNVLSTFISAARQGFVDSDVETKDVVECLKLSHQSDIEVTGDSCNNYMLTYNKVENMTPRDLGACIDCSARHINAQVAKSHNIALIWNVKDFMSLSEQLRKQIRSAAKKNNLPFKLTCATTRQVVNVVTTKIALKGGKIVNNWLKQLIKVTLVFLFVAAIFYLITPVHVMSKHTDFSSEIIGYKAIDGGVTRDIASTDTCFANKHADFDTWFSQRGGSYTNDKACPLIAAVITREVGFVVPGLPGTILRTTNGDFLHFLPRVFSAVGNICYTPSKLIEYTDFATSACVLAAECTIFKDASGKPVPYCYDTNVLEGSVAYESLRPDTRYVLMDGSIIQFPNTYLEGSVRVVTTFDSEYCRHGTCERSEAGVCVSTSGRWVLNNDYYRSLPGVFCGVDAVNLLTNMFTPLIQPIGALDISASIVAGGIVAIVVTCLAYYFMRFRRAFGEYSHVVAFNTLLFLMSFTVLCLTPVYSFLPGVYSVIYLYLTFYLTNDVSFLAHIQWMVMFTPLVPFWITIAYIICISTKHFYWFFSNYLKRRVVFNGVSFSTFEEAALCTFLLNKEMYLKLRSDVLLPLTQYNRYLALYNKYKYFSGAMDTTSYREAACCHLAKALNDFSNSGSDVLYQPPQTSITSAVLQSGFRKMAFPSGKVEGCMVQVTCGTTTLNGLWLDDVVYCPRHVICTSEDMLNPNYEDLLIRKSNHNFLVQAGNVQLRVIGHSMQNCVLKLKVDTANPKTPKYKFVRIQPGQTFSVLACYNGSPSGVYQCAMRPNFTIKGSFLNGSCGSVGFNIDYDCVSFCYMHHMELPTGVHAGTDLEGNFYGPFVDRQTAQAAGTDTTITVNVLAWLYAAVINGDRWFLNRFTTTLNDFNLVAMKYNYEPLTQDHVDILGPLSAQTGIAVLDMCASLKELLQNGMNGRTILGSALLEDEFTPFDVVRQCSGVTFQSAVKRTIKGTHHWLLLTILTSLLVLVQSTQWSLFFFLYENAFLPFAMGIIAMSAFAMMFVKHKHAFLCLFLLPSLATVAYFNMVYMPASWVMRIMTWLDMVDTSLSGFKLKDCVMYASAVVLLILMTARTVYDDGARRVWTLMNVLTLVYKVYYGNALDQAISMWALIISVTSNYSGVVTTVMFLARGIVFMCVEYCPIFFITGNTLQCIMLVYCFLGYFCTCYFGLFCLLNRYFRLTLGVYDYLVSTQEFRYMNSQGLLPPKNSIDAFKLNIKLLGVGGKPCIKVATVQSKMSDVKCTSVVLLSVLQQLRVESSSKLWAQCVQLHNDILLAKDTTEAFEKMVSLLSVLLSMQGAVDINKLCEEMLDNRATLQAIASEFSSLPSYAAFATAQEAYEQAVANGDSEVVLKKLKKSLNVAKSEFDRDAAMQRKLEKMADQAMTQMYKQARSEDKRAKVTSAMQTMLFTMLRKLDNDALNNIINNARDGCVPLNIIPLTTAAKLMVVIPDYNTYKNTCDGTTFTYASALWEIQQVVDADSKIVQLSEISMDNSPNLAWPLIVTALRANSAVKLQNNELSPVALRQMSCAAGTTQTACTDDNALAYYNTTKGGRFVLALLSDLQDLKWARFPKSDGTGTIYTELEPPCRFVTDTPKGPKVKYLYFIKGLNNLNRGMVLGSLAATVRLQAGNATEVPANSTVLSFCAFAVDAAKAYKDYLASGGQPITNCVKMLCTHTGTGQAITVTPEANMDQESFGGASCCLYCRCHIDHPNPKGFCDLKGKYVQIPTTCANDPVGFTLKNTVCTVCGMWKGYGCSCDQLREPMLQSADAQSFLNGFAV\n",
      "orf1b: SADAQSFLNRVCGVSAARLTPCGTGTSTDVVYRAFDIYNDKVAGFAKFLKTNCCRFQEKDEDDNLIDSYFVVKRHTFSNYQHEETIYNLLKDCPAVAKHDFFKFRIDGDMVPHISRQRLTKYTMADLVYALRHFDEGNCDTLKEILVTYNCCDDDYFNKKDWYDFVENPDILRVYANLGERVRQALLKTVQFCDAMRNAGIVGVLTLDNQDLNGNWYDFGDFIQTTPGSGVPVVDSYYSLLMPILTLTRALTAESHVDTDLTKPYIKWDLLKYDFTEERLKLFDRYFKYWDQTYHPNCVNCLDDRCILHCANFNVLFSTVFPPTSFGPLVRKIFVDGVPFVVSTGYHFRELGVVHNQDVNLHSSRLSFKELLVYAADPAMHAASGNLLLDKRTTCFSVAALTNNVAFQTVKPGNFNKDFYDFAVSKGFFKEGSSVELKHFFFAQDGNAAISDYDYYRYNLPTMCDIRQLLFVVEVVDKYFDCYDGGCINANQVIVNNLDKSAGFPFNKWGKARLYYDSMSYEDQDALFAYTKRNVIPTITQMNLKYAISAKNRARTVAGVSICSTMTNRQFHQKLLKSIAATRGATVVIGTSKFYGGWHNMLKTVYSDVENPHLMGWDYPKCDRAMPNMLRIMASLVLARKHTTCCSLSHRFYRLANECAQVLSEMVMCGGSLYVKPGGTSSGDATTAYANSVFNICQAVTANVNALLSTDGNKIADKYVRNLQHRLYECLYRNRDVDTDFVNEFYAYLRKHFSMMILSDDAVVCFNSTYASQGLVASIKNFKSVLYYQNNVFMSEAKCWTETDLTKGPHEFCSQHTMLVKQGDDYVYLPYPDPSRILGAGCFVDDIVKTDGTLMIERFVSLAIDAYPLTKHPNQEYADVFHLYLQYIRKLHDELTGHMLDMYSVMLTNDNTSRYWEPEFYEAMYTPHTVLQAVGACVLCNSQTSLRCGACIRRPFLCCKCCYDHVISTSHKLVLSVNPYVCNAPGCDVTDVTQLYLGGMSYYCKSHKPPISFPLCANGQVFGLYKNTCVGSDNVTDFNAIATCDWTNAGDYILANTCTERLKLFAAETLKATEETFKLSYGIATVREVLSDRELHLSWEVGKPRPPLNRNYVFTGYRVTKNSKVQIGEYTFEKGDYGDAVVYRGTTTYKLNVGDYFVLTSHTVMPLSAPTLVPQEHYVRITGLYPTLNISDEFSSNVANYQKVGMQKYSTLQGPPGTGKSHFAIGLALYYPSARIVYTACSHAAVDALCEKALKYLPIDKCSRIIPARARVECFDKFKVNSTLEQYVFCTVNALPETTADIVVFDEISMATNYDLSVVNARLRAKHYVYIGDPAQLPAPRTLLTKGTLEPEYFNSVCRLMKTIGPDMFLGTCRRCPAEIVDTVSALVYDNKLKAHKDKSAQCFKMFYKGVITHDVSSAINRPQIGVVREFLTRNPAWRKAVFISPYNSQNAVASKILGLPTQTVDSSQGSEYDYVIFTQTTETAHSCNVNRFNVAITRAKVGILCIMSDRDLYDKLQFTSLEIPRRNVATLQAENVTGLFKDCSKVITGLHPTQAPTHLSVDTKFKTEGLCVDIPGIPKDMTYRRLISMMGFKMNYQVNGYPNMFITREEAIRHVRAWIGFDVEGCHATREAVGTNLPLQLGFSTGVNLVAVPTGYVDTPNNTDFSRVSAKPPPGDQFKHLIPLMYKGLPWNVVRIKIVQMLSDTLKNLSDRVVFVLWAHGFELTSMKYFVKIGPERTCCLCDRRATCFSTASDTYACWHHSIGFDYVYNPFMIDVQQWGFTGNLQSNHDLYCQVHGNAHVASCDAIMTRCLAVHECFVKRVDWTIEYPIIGDELKINAACRKVQHMVVKAALLADKFPVLHDIGNPKAIKCVPQADVEWKFYDAQPCSDKAYKIEELFYSYATHSDKFTDGVCLFWNCNVDRYPANSIVCRFDTRVLSNLNLPGCDGGSLYVNKHAFHTPAFDKSAFVNLKQLPFFYYSDSPCESHGKQVVSDIDYVPLKSATCITRCNLGGAVCRHHANEYRLYLDAYNMMISAGFSLWVYKQFDTYNLWNTFTRLQSLENVAFNVVNKGHFDGQQGEVPVSIINNTVYTKVDGVDVELFENKTTLPVNVAFELWAKRNIKPVPEVKILNNLGVDIAANTVIWDYKRDAPAHISTIGVCSMTDIAKKPTETICAPLTVFFDGRVDGQVDLFRNARNGVLITEGSVKGLQPSVGPKQASLNGVTLIGEAVKTQFNYYKKVDGVVQQLPETYFTQSRNLQEFKPRSQMEIDFLELAMDEFIERYKLEGYAFEHIVYGDFSHSQLGGLHLLIGLAKRFKESPFELEDFIPMDSTVKNYFITDAQTGSSKCVCSVIDLLLDDFVEIIKSQDLSVVSKVVKVTIDYTEISFMLWCKDGHVETFYPKLQSSQAWQPGVAMPNLYKMQRMLLEKCDLQNYGDSATLPKGIMMNVAKYTQLCQYLNTLTLAVPYNMRVIHFGAGSDKGVAPGTAVLRQWLPTGTLLVDSDLNDFVSDADSTLIGDCATVHTANKWDLIISDMYDPKTKNVTKENDSKEGFFTYICGFIQQKLALGGSVAIKITEHSWNADLYKLMGHFAWWTAFVTNVNASSSEAFLIGCNYLGKPREQIDGYVMHANYIFWRNTNPIQLSSYSLFDMSKFPLKLRGTAVMSLKEGQINDMILSLLSKGRLIIRENNRVVISSDVLVNN*\n",
      "orf1ab: MESLVPGFNEKTHVQLSLPVLQVRDVLVRGFGDSVEEVLSEARQHLKDGTCGLVEVEKGVLPQLEQPYVFIKRSDARTAPHGHVMVELVAELEGIQYGRSGETLGVLVPHVGEIPVAYRKVLLRKNGNKGAGGHSYGADLKSFDLGDELGTDPYEDFQENWNTKHSSGVTRELMRELNGGAYTRYVDNNFCGPDGYPLECIKDLLARAGKASCTLSEQLDFIDTKRGVYCCREHEHEIAWYTERSEKSYELQTPFEIKLAKKFDTFNGECPNFVFPLNSIIKTIQPRVEKKKLDGFMGRIRSVYPVASPNECNQMCLSTLMKCDHCGETSWQTGDFVKATCEFCGTENLTKEGATTCGYLPQNAVVKIYCPACHNSEVGPEHSLAEYHNESGLKTILRKGGRTIAFGGCVFSYVGCHNKCAYWVPRASANIGCNHTGVVGEGSEGLNDNLLEILQKEKVNINIVGDFKLNEEIAIILASFSASTSAFVETVKGLDYKAFKQIVESCGNFKVTKGKAKKGAWNIGEQKSILSPLYAFASEAARVVRSIFSRTLETAQNSVRVLQKAAITILDGISQYSLRLIDAMMFTSDLATNNLVVMAYITGGVVQLTSQWLTNIFGTVYEKLKPVLDWLEEKFKEGVEFLRDGWEIVKFISTCACEIVGGQIVTCAKEIKESVQTFFKLVNKFLALCADSIIIGGAKLKALNLGETFVTHSKGLYRKCVKSREETGLLMPLKAPKEIIFLEGETLPTEVLTEEVVLKTGDLQPLEQPTSEAVEAPLVGTPVCINGLMLLEIKDTEKYCALAPNMMVTNNTFTLKGGAPTKVTFGDDTVIEVQGYKSVNITFELDERIDKVLNEKCSAYTVELGTEVNEFACVVADAVIKTLQPVSELLTPLGIDLDEWSMATYYLFDESGEFKLASHMYCSFYPPDEDEEEGDCEEEEFEPSTQYEYGTEDDYQGKPLEFGATSAALQPEEEQEEDWLDDDSQQTVGQQDGSEDNQTTTIQTIVEVQPQLEMELTPVVQTIEVNSFSGYLKLTDNVYIKNADIVEEAKKVKPTVVVNAANVYLKHGGGVAGALNKATNNAMQVESDDYIATNGPLKVGGSCVLSGHNLAKHCLHVVGPNVNKGEDIQLLKSAYENFNQHEVLLAPLLSAGIFGADPIHSLRVCVDTVRTNVYLAVFDKNLYDKLVSSFLEMKSEKQVEQKIAEIPKEEVKPFITESKPSVEQRKQDDKKIKACVEEVTTTLEETKFLTENLLLYIDINGNLHPDSATLVSDIDITFLKKDAPYIVGDVVQEGVLTAVVIPTKKAGGTTEMLAKALRKVPTDNYITTYPGQGLNGYTVEEAKTVLKKCKSAFYILPSIISNEKQEILGTVSWNLREMLAHAEETRKLMPVCVETKAIVSTIQRKYKGIKIQEGVVDYGARFYFYTSKTTVASLINTLNDLNETLVTMPLGYVTHGLNLEEAARYMRSLKVPATVSVSSPDAVTAYNGYLTSSSKTPEEHFIETISLAGSYKDWSYSGQSTQLGIEFLKRGDKSVYYTSNPTTFHLDGEVITFDNLKTLLSLREVRTIKVFTTVDNINLHTQVVDMSMTYGQQFGPTYLDGADVTKIKPHNSHEGKTFYVLPNDDTLRVEAFEYYHTTDPSFLGRYMSALNHTKKWKYPQVNGLTSIKWADNNCYLATALLTLQQIELKFNPPALQDAYYRARAGEAANFCALILAYCNKTVGELGDVRETMSYLFQHANLDSCKRVLNVVCKTCGQQQTTLKGVEAVMYMGTLSYEQFKKGVQIPCTCGKQATKYLVQQESPFVMMSAPPAQYELKHGTFTCASEYTGNYQCGHYKHITSKETLYCIDGALLTKSSEYKGPITDVFYKENSYTTTIKPVTYKLDGVVCTEIDPKLDNYYKKDNSYFTEQPIDLVPNQPYPNASFDNFKFVCDNIKFADDLNQLTGYKKPASRELKVTFFPDLNGDVVAIDYKHYTPSFKKGAKLLHKPIVWHVNNATNKATYKPNTWCIRCLWSTKPVETSNSFDVLKSEDAQGMDNLACEDLKPVSEEVVENPTIQKDVLECNVKTTEVVGDIILKPANNSLKITEEVGHTDLMAAYVDNSSLTIKKPNELSRVLGLKTLATHGLAAVNSVPWDTIANYAKPFLNKVVSTTTNIVTRCLNRVCTNYMPYFFTLLLQLCTFTRSTNSRIKASMPTTIAKNTVKSVGKFCLEASFNYLKSPNFSKLINIIIWFLLLSVCLGSLIYSTAALGVLMSNLGMPSYCTGYREGYLNSTNVTIATYCTGSIPCSVCLSGLDSLDTYPSLETIQITISSFKWDLTAFGLVAEWFLAYILFTRFFYVLGLAAIMQLFFSYFAVHFISNSWLMWLIINLVQMAPISAMVRMYIFFASFYYVWKSYVHVVDGCNSSTCMMCYKRNRATRVECTTIVNGVRRSFYVYANGGKGFCKLHNWNCVNCDTFCAGSTFISDEVARDLSLQFKRPINPTDQSSYIVDSVTVKNGSIHLYFDKAGQKTYERHSLSHFVNLDNLRANNTKGSLPINVIVFDGKSKCEESSAKSASVYYSQLMCQPILLLDQALVSDVGDSAEVAVKMFDAYVNTFSSTFNVPMEKLKTLVATAEAELAKNVSLDNVLSTFISAARQGFVDSDVETKDVVECLKLSHQSDIEVTGDSCNNYMLTYNKVENMTPRDLGACIDCSARHINAQVAKSHNIALIWNVKDFMSLSEQLRKQIRSAAKKNNLPFKLTCATTRQVVNVVTTKIALKGGKIVNNWLKQLIKVTLVFLFVAAIFYLITPVHVMSKHTDFSSEIIGYKAIDGGVTRDIASTDTCFANKHADFDTWFSQRGGSYTNDKACPLIAAVITREVGFVVPGLPGTILRTTNGDFLHFLPRVFSAVGNICYTPSKLIEYTDFATSACVLAAECTIFKDASGKPVPYCYDTNVLEGSVAYESLRPDTRYVLMDGSIIQFPNTYLEGSVRVVTTFDSEYCRHGTCERSEAGVCVSTSGRWVLNNDYYRSLPGVFCGVDAVNLLTNMFTPLIQPIGALDISASIVAGGIVAIVVTCLAYYFMRFRRAFGEYSHVVAFNTLLFLMSFTVLCLTPVYSFLPGVYSVIYLYLTFYLTNDVSFLAHIQWMVMFTPLVPFWITIAYIICISTKHFYWFFSNYLKRRVVFNGVSFSTFEEAALCTFLLNKEMYLKLRSDVLLPLTQYNRYLALYNKYKYFSGAMDTTSYREAACCHLAKALNDFSNSGSDVLYQPPQTSITSAVLQSGFRKMAFPSGKVEGCMVQVTCGTTTLNGLWLDDVVYCPRHVICTSEDMLNPNYEDLLIRKSNHNFLVQAGNVQLRVIGHSMQNCVLKLKVDTANPKTPKYKFVRIQPGQTFSVLACYNGSPSGVYQCAMRPNFTIKGSFLNGSCGSVGFNIDYDCVSFCYMHHMELPTGVHAGTDLEGNFYGPFVDRQTAQAAGTDTTITVNVLAWLYAAVINGDRWFLNRFTTTLNDFNLVAMKYNYEPLTQDHVDILGPLSAQTGIAVLDMCASLKELLQNGMNGRTILGSALLEDEFTPFDVVRQCSGVTFQSAVKRTIKGTHHWLLLTILTSLLVLVQSTQWSLFFFLYENAFLPFAMGIIAMSAFAMMFVKHKHAFLCLFLLPSLATVAYFNMVYMPASWVMRIMTWLDMVDTSLSGFKLKDCVMYASAVVLLILMTARTVYDDGARRVWTLMNVLTLVYKVYYGNALDQAISMWALIISVTSNYSGVVTTVMFLARGIVFMCVEYCPIFFITGNTLQCIMLVYCFLGYFCTCYFGLFCLLNRYFRLTLGVYDYLVSTQEFRYMNSQGLLPPKNSIDAFKLNIKLLGVGGKPCIKVATVQSKMSDVKCTSVVLLSVLQQLRVESSSKLWAQCVQLHNDILLAKDTTEAFEKMVSLLSVLLSMQGAVDINKLCEEMLDNRATLQAIASEFSSLPSYAAFATAQEAYEQAVANGDSEVVLKKLKKSLNVAKSEFDRDAAMQRKLEKMADQAMTQMYKQARSEDKRAKVTSAMQTMLFTMLRKLDNDALNNIINNARDGCVPLNIIPLTTAAKLMVVIPDYNTYKNTCDGTTFTYASALWEIQQVVDADSKIVQLSEISMDNSPNLAWPLIVTALRANSAVKLQNNELSPVALRQMSCAAGTTQTACTDDNALAYYNTTKGGRFVLALLSDLQDLKWARFPKSDGTGTIYTELEPPCRFVTDTPKGPKVKYLYFIKGLNNLNRGMVLGSLAATVRLQAGNATEVPANSTVLSFCAFAVDAAKAYKDYLASGGQPITNCVKMLCTHTGTGQAITVTPEANMDQESFGGASCCLYCRCHIDHPNPKGFCDLKGKYVQIPTTCANDPVGFTLKNTVCTVCGMWKGYGCSCDQLREPMLQSADAQSFLNGFAVSADAQSFLNRVCGVSAARLTPCGTGTSTDVVYRAFDIYNDKVAGFAKFLKTNCCRFQEKDEDDNLIDSYFVVKRHTFSNYQHEETIYNLLKDCPAVAKHDFFKFRIDGDMVPHISRQRLTKYTMADLVYALRHFDEGNCDTLKEILVTYNCCDDDYFNKKDWYDFVENPDILRVYANLGERVRQALLKTVQFCDAMRNAGIVGVLTLDNQDLNGNWYDFGDFIQTTPGSGVPVVDSYYSLLMPILTLTRALTAESHVDTDLTKPYIKWDLLKYDFTEERLKLFDRYFKYWDQTYHPNCVNCLDDRCILHCANFNVLFSTVFPPTSFGPLVRKIFVDGVPFVVSTGYHFRELGVVHNQDVNLHSSRLSFKELLVYAADPAMHAASGNLLLDKRTTCFSVAALTNNVAFQTVKPGNFNKDFYDFAVSKGFFKEGSSVELKHFFFAQDGNAAISDYDYYRYNLPTMCDIRQLLFVVEVVDKYFDCYDGGCINANQVIVNNLDKSAGFPFNKWGKARLYYDSMSYEDQDALFAYTKRNVIPTITQMNLKYAISAKNRARTVAGVSICSTMTNRQFHQKLLKSIAATRGATVVIGTSKFYGGWHNMLKTVYSDVENPHLMGWDYPKCDRAMPNMLRIMASLVLARKHTTCCSLSHRFYRLANECAQVLSEMVMCGGSLYVKPGGTSSGDATTAYANSVFNICQAVTANVNALLSTDGNKIADKYVRNLQHRLYECLYRNRDVDTDFVNEFYAYLRKHFSMMILSDDAVVCFNSTYASQGLVASIKNFKSVLYYQNNVFMSEAKCWTETDLTKGPHEFCSQHTMLVKQGDDYVYLPYPDPSRILGAGCFVDDIVKTDGTLMIERFVSLAIDAYPLTKHPNQEYADVFHLYLQYIRKLHDELTGHMLDMYSVMLTNDNTSRYWEPEFYEAMYTPHTVLQAVGACVLCNSQTSLRCGACIRRPFLCCKCCYDHVISTSHKLVLSVNPYVCNAPGCDVTDVTQLYLGGMSYYCKSHKPPISFPLCANGQVFGLYKNTCVGSDNVTDFNAIATCDWTNAGDYILANTCTERLKLFAAETLKATEETFKLSYGIATVREVLSDRELHLSWEVGKPRPPLNRNYVFTGYRVTKNSKVQIGEYTFEKGDYGDAVVYRGTTTYKLNVGDYFVLTSHTVMPLSAPTLVPQEHYVRITGLYPTLNISDEFSSNVANYQKVGMQKYSTLQGPPGTGKSHFAIGLALYYPSARIVYTACSHAAVDALCEKALKYLPIDKCSRIIPARARVECFDKFKVNSTLEQYVFCTVNALPETTADIVVFDEISMATNYDLSVVNARLRAKHYVYIGDPAQLPAPRTLLTKGTLEPEYFNSVCRLMKTIGPDMFLGTCRRCPAEIVDTVSALVYDNKLKAHKDKSAQCFKMFYKGVITHDVSSAINRPQIGVVREFLTRNPAWRKAVFISPYNSQNAVASKILGLPTQTVDSSQGSEYDYVIFTQTTETAHSCNVNRFNVAITRAKVGILCIMSDRDLYDKLQFTSLEIPRRNVATLQAENVTGLFKDCSKVITGLHPTQAPTHLSVDTKFKTEGLCVDIPGIPKDMTYRRLISMMGFKMNYQVNGYPNMFITREEAIRHVRAWIGFDVEGCHATREAVGTNLPLQLGFSTGVNLVAVPTGYVDTPNNTDFSRVSAKPPPGDQFKHLIPLMYKGLPWNVVRIKIVQMLSDTLKNLSDRVVFVLWAHGFELTSMKYFVKIGPERTCCLCDRRATCFSTASDTYACWHHSIGFDYVYNPFMIDVQQWGFTGNLQSNHDLYCQVHGNAHVASCDAIMTRCLAVHECFVKRVDWTIEYPIIGDELKINAACRKVQHMVVKAALLADKFPVLHDIGNPKAIKCVPQADVEWKFYDAQPCSDKAYKIEELFYSYATHSDKFTDGVCLFWNCNVDRYPANSIVCRFDTRVLSNLNLPGCDGGSLYVNKHAFHTPAFDKSAFVNLKQLPFFYYSDSPCESHGKQVVSDIDYVPLKSATCITRCNLGGAVCRHHANEYRLYLDAYNMMISAGFSLWVYKQFDTYNLWNTFTRLQSLENVAFNVVNKGHFDGQQGEVPVSIINNTVYTKVDGVDVELFENKTTLPVNVAFELWAKRNIKPVPEVKILNNLGVDIAANTVIWDYKRDAPAHISTIGVCSMTDIAKKPTETICAPLTVFFDGRVDGQVDLFRNARNGVLITEGSVKGLQPSVGPKQASLNGVTLIGEAVKTQFNYYKKVDGVVQQLPETYFTQSRNLQEFKPRSQMEIDFLELAMDEFIERYKLEGYAFEHIVYGDFSHSQLGGLHLLIGLAKRFKESPFELEDFIPMDSTVKNYFITDAQTGSSKCVCSVIDLLLDDFVEIIKSQDLSVVSKVVKVTIDYTEISFMLWCKDGHVETFYPKLQSSQAWQPGVAMPNLYKMQRMLLEKCDLQNYGDSATLPKGIMMNVAKYTQLCQYLNTLTLAVPYNMRVIHFGAGSDKGVAPGTAVLRQWLPTGTLLVDSDLNDFVSDADSTLIGDCATVHTANKWDLIISDMYDPKTKNVTKENDSKEGFFTYICGFIQQKLALGGSVAIKITEHSWNADLYKLMGHFAWWTAFVTNVNASSSEAFLIGCNYLGKPREQIDGYVMHANYIFWRNTNPIQLSSYSLFDMSKFPLKLRGTAVMSLKEGQINDMILSLLSKGRLIIRENNRVVISSDVLVNN*\n",
      "spike_glycoprotein: MFVFLVLLPLVSSQCVNLTTRTQLPPAYTNSFTRGVYYPDKVFRSSVLHSTQDLFLPFFSNVTWFHAIHVSGTNGTKRFDNPVLPFNDGVYFASTEKSNIIRGWIFGTTLDSKTQSLLIVNNATNVVIKVCEFQFCNDPFLGVYYHKNNKSWMESEFRVYSSANNCTFEYVSQPFLMDLEGKQGNFKNLREFVFKNIDGYFKIYSKHTPINLVRDLPQGFSALEPLVDLPIGINITRFQTLLALHRSYLTPGDSSSGWTAGAAAYYVGYLQPRTFLLKYNENGTITDAVDCALDPLSETKCTLKSFTVEKGIYQTSNFRVQPTESIVRFPNITNLCPFGEVFNATRFASVYAWNRKRISNCVADYSVLYNSASFSTFKCYGVSPTKLNDLCFTNVYADSFVIRGDEVRQIAPGQTGKIADYNYKLPDDFTGCVIAWNSNNLDSKVGGNYNYLYRLFRKSNLKPFERDISTEIYQAGSTPCNGVEGFNCYFPLQSYGFQPTNGVGYQPYRVVVLSFELLHAPATVCGPKKSTNLVKNKCVNFNFNGLTGTGVLTESNKKFLPFQQFGRDIADTTDAVRDPQTLEILDITPCSFGGVSVITPGTNTSNQVAVLYQDVNCTEVPVAIHADQLTPTWRVYSTGSNVFQTRAGCLIGAEHVNNSYECDIPIGAGICASYQTQTNSPRRARSVASQSIIAYTMSLGAENSVAYSNNSIAIPTNFTISVTTEILPVSMTKTSVDCTMYICGDSTECSNLLLQYGSFCTQLNRALTGIAVEQDKNTQEVFAQVKQIYKTPPIKDFGGFNFSQILPDPSKPSKRSFIEDLLFNKVTLADAGFIKQYGDCLGDIAARDLICAQKFNGLTVLPPLLTDEMIAQYTSALLAGTITSGWTFGAGAALQIPFAMQMAYRFNGIGVTQNVLYENQKLIANQFNSAIGKIQDSLSSTASALGKLQDVVNQNAQALNTLVKQLSSNFGAISSVLNDILSRLDKVEAEVQIDRLITGRLQSLQTYVTQQLIRAAEIRASANLAATKMSECVLGQSKRVDFCGKGYHLMSFPQSAPHGVVFLHVTYVPAQEKNFTTAPAICHDGKAHFPREGVFVSNGTHWFVTQRNFYEPQIITTDNTFVSGNCDVVIGIVNNTVYDPLQPELDSFKEELDKYFKNHTSPDVDLGDISGINASVVNIQKEIDRLNEVAKNLNESLIDLQELGKYEQYIKWPWYIWLGFIAGLIAIVMVTIMLCCMTSCCSCLKGCCSCGSCCKFDEDDSEPVLKGVKLHYT\n",
      "orf3a: MDLFMRIFTIGTVTLKQGEIKDATPSDFVRATATIPIQASLPFGWLIVGVALLAVFQSASKIITLKKRWQLALSKGVHFVCNLLLLFVTVYSHLLLVAAGLEAPFLYLYALVYFLQSINFVRIIMRLWLCWKCRSKNPLLYDANYFLCWHTNCYDYCIPYNSVTSSIVITSGDGTTSPISEHDYQIGGYTEKWESGVKDCVVLHSYFTSDYYQLYSTQLSTDTGVEHVTFFIYNKIVDEPEEHVQIHTIDGSSGVVNPVMEPIYDEPTTTTSVPL\n",
      "envelope_protein: MYSFVSEETGTLIVNSVLLFLAFVVFLLVTLAILTALRLCAYCCNIVNVSLVKPSFYVYSRVKNLNSSRVPDLLV\n",
      "membrane_protein: MADSNGTITVEELKKLLEQWNLVIGFLFLTWICLLQFAYANRNRFLYIIKLIFLWLLWPVTLACFVLAAVYRINWITGGIAIAMACLVGLMWLSYFIASFRLFARTRSMWSFNPETNILLNVPLHGTILTRPLLESELVIGAVILRGHLRIAGHHLGRCDIKDLPKEITVATSRTLSYYKLGASQRVAGDSGFAAYSRYRIGNYKLNTDHSSSSDNIALLVQ\n",
      "orf6: MFHLVDFQVTIAEILLIIMRTFKVSIWNLDYIINLIIKNLSKSLTENKYSQLDEEQPMEID\n",
      "orf7a: MKIILFLALITLATCELYHYQECVRGTTVLLKEPCSSGTYEGNSPFHPLADNKFALTCFSTQFAFACPDGVKHVYQLRARSVSPKLFIRQEEVQELYSPIFLIVAAIVFITLCFTLKRKTE\n",
      "orf7b: MIELSLIDFYLCFLAFLLFLVLIMLIIFWFSLELQDHNETCHA\n",
      "orf8: MKFLVFLGIITTVAAFHQECSLQSCTQHQPYVVDDPCPIHFYSKWYIRVGARKSAPLIELCVDEAGSKSPIQYIDIGNYTVSCLPFTINCQEPKLGSLVVRCSFYEDFLEYHDVRVVLDFI\n",
      "nucleocapsid_phosphoprotein: MSDNGPQNQRNAPRITFGGPSDSTGSNQNGERSGARSKQRRPQGLPNNTASWFTALTQHGKEDLKFPRGQGVPINTNSSPDDQIGYYRRATRRIRGGDGKMKDLSPRWYFYYLGTGPEAGLPYGANKDGIIWVATEGALNTPKDHIGTRNPANNAAIVLQLPQGTTLPKGFYAEGSRGGSQASSRSSSRSRNSSRNSTPGSSRGTSPARMAGNGGDAALALLLLDRLNQLESKMSGKGQQQQGQTVTKKSAAEASKKPRQKRTATKAYNVTQAFGRRGPEQTQGNFGDQELIRQGTDYKHWPQIAQFAPSASAFFGMSRIGMEVTPSGTWLTYTGAIKLDDKDPNFKDQVILLNKHIDAYKTFPPTEPKKDKKKKADETQALPQRQKKQQTVTLLPAADLDDFSKQLQQSMSSADSTQA\n",
      "orf10: MGYINVFAFPFTIYSLLLCRMNSRNYIAQVDVVNFNLT\n"
     ]
    }
   ],
   "source": [
    "print('orf1a:', orf1a)\n",
    "print('orf1b:', orf1b)\n",
    "print('orf1ab:', orf1ab)  ## corrected?\n",
    "print('spike_glycoprotein:', spike_glycoprotein)\n",
    "print('orf3a:', orf3a)\n",
    "print('envelope_protein:', envelope_protein)\n",
    "print('membrane_protein:', membrane_protein)\n",
    "print('orf6:', orf6)\n",
    "print('orf7a:', orf7a)\n",
    "print('orf7b:', orf7b)  ## what's this???\n",
    "print('orf8:', orf8)\n",
    "print('nucleocapsid_phosphoprotein:', nucleocapsid_phosphoprotein)\n",
    "print('orf10:', orf10)\n"
   ]
  },
  {
   "cell_type": "markdown",
   "metadata": {},
   "source": [
    "Structure models of all mature peptides in 2019-nCoV genome by C-I-TASSER\n",
    "\n",
    "https://zhanglab.ccmb.med.umich.edu/C-I-TASSER/2019-nCov/"
   ]
  },
  {
   "cell_type": "markdown",
   "metadata": {},
   "source": [
    "Let's see what's in orf1ab, and confirm we find all the segments listed by zhanglab."
   ]
  },
  {
   "cell_type": "code",
   "execution_count": 28,
   "metadata": {},
   "outputs": [
    {
     "name": "stdout",
     "output_type": "stream",
     "text": [
      "180\n"
     ]
    },
    {
     "data": {
      "text/plain": [
       "0"
      ]
     },
     "execution_count": 28,
     "metadata": {},
     "output_type": "execute_result"
    }
   ],
   "source": [
    "# >QHD43415_1 (L=180)\n",
    "QHD43415_1 = \"\"\"\n",
    "MESLVPGFNEKTHVQLSLPVLQVRDVLVRGFGDSVEEVLSEARQHLKDGT\n",
    "CGLVEVEKGVLPQLEQPYVFIKRSDARTAPHGHVMVELVAELEGIQYGRS\n",
    "GETLGVLVPHVGEIPVAYRKVLLRKNGNKGAGGHSYGADLKSFDLGDELG\n",
    "TDPYEDFQENWNTKHSSGVTRELMRELNGG\n",
    "\"\"\".replace('\\n', '')\n",
    "print(len(QHD43415_1))\n",
    "orf1ab.index(QHD43415_1)"
   ]
  },
  {
   "cell_type": "code",
   "execution_count": 29,
   "metadata": {},
   "outputs": [
    {
     "name": "stdout",
     "output_type": "stream",
     "text": [
      "638\n"
     ]
    },
    {
     "data": {
      "text/plain": [
       "180"
      ]
     },
     "execution_count": 29,
     "metadata": {},
     "output_type": "execute_result"
    }
   ],
   "source": [
    "# >QHD43415_2 (L=638)\n",
    "QHD43415_2 = \"\"\"\n",
    "AYTRYVDNNFCGPDGYPLECIKDLLARAGKASCTLSEQLDFIDTKRGVYC\n",
    "CREHEHEIAWYTERSEKSYELQTPFEIKLAKKFDTFNGECPNFVFPLNSI\n",
    "IKTIQPRVEKKKLDGFMGRIRSVYPVASPNECNQMCLSTLMKCDHCGETS\n",
    "WQTGDFVKATCEFCGTENLTKEGATTCGYLPQNAVVKIYCPACHNSEVGP\n",
    "EHSLAEYHNESGLKTILRKGGRTIAFGGCVFSYVGCHNKCAYWVPRASAN\n",
    "IGCNHTGVVGEGSEGLNDNLLEILQKEKVNINIVGDFKLNEEIAIILASF\n",
    "SASTSAFVETVKGLDYKAFKQIVESCGNFKVTKGKAKKGAWNIGEQKSIL\n",
    "SPLYAFASEAARVVRSIFSRTLETAQNSVRVLQKAAITILDGISQYSLRL\n",
    "IDAMMFTSDLATNNLVVMAYITGGVVQLTSQWLTNIFGTVYEKLKPVLDW\n",
    "LEEKFKEGVEFLRDGWEIVKFISTCACEIVGGQIVTCAKEIKESVQTFFK\n",
    "LVNKFLALCADSIIIGGAKLKALNLGETFVTHSKGLYRKCVKSREETGLL\n",
    "MPLKAPKEIIFLEGETLPTEVLTEEVVLKTGDLQPLEQPTSEAVEAPLVG\n",
    "TPVCINGLMLLEIKDTEKYCALAPNMMVTNNTFTLKGG\n",
    "\"\"\".replace('\\n', '')\n",
    "print(len(QHD43415_2))\n",
    "orf1ab.index(QHD43415_2)"
   ]
  },
  {
   "cell_type": "code",
   "execution_count": 30,
   "metadata": {},
   "outputs": [
    {
     "name": "stdout",
     "output_type": "stream",
     "text": [
      "1945\n"
     ]
    },
    {
     "data": {
      "text/plain": [
       "818"
      ]
     },
     "execution_count": 30,
     "metadata": {},
     "output_type": "execute_result"
    }
   ],
   "source": [
    "# >QHD43415_3 (L=1945)\n",
    "QHD43415_3 = \"\"\"\n",
    "APTKVTFGDDTVIEVQGYKSVNITFELDERIDKVLNEKCSAYTVELGTEV\n",
    "NEFACVVADAVIKTLQPVSELLTPLGIDLDEWSMATYYLFDESGEFKLAS\n",
    "HMYCSFYPPDEDEEEGDCEEEEFEPSTQYEYGTEDDYQGKPLEFGATSAA\n",
    "LQPEEEQEEDWLDDDSQQTVGQQDGSEDNQTTTIQTIVEVQPQLEMELTP\n",
    "VVQTIEVNSFSGYLKLTDNVYIKNADIVEEAKKVKPTVVVNAANVYLKHG\n",
    "GGVAGALNKATNNAMQVESDDYIATNGPLKVGGSCVLSGHNLAKHCLHVV\n",
    "GPNVNKGEDIQLLKSAYENFNQHEVLLAPLLSAGIFGADPIHSLRVCVDT\n",
    "VRTNVYLAVFDKNLYDKLVSSFLEMKSEKQVEQKIAEIPKEEVKPFITES\n",
    "KPSVEQRKQDDKKIKACVEEVTTTLEETKFLTENLLLYIDINGNLHPDSA\n",
    "TLVSDIDITFLKKDAPYIVGDVVQEGVLTAVVIPTKKAGGTTEMLAKALR\n",
    "KVPTDNYITTYPGQGLNGYTVEEAKTVLKKCKSAFYILPSIISNEKQEIL\n",
    "GTVSWNLREMLAHAEETRKLMPVCVETKAIVSTIQRKYKGIKIQEGVVDY\n",
    "GARFYFYTSKTTVASLINTLNDLNETLVTMPLGYVTHGLNLEEAARYMRS\n",
    "LKVPATVSVSSPDAVTAYNGYLTSSSKTPEEHFIETISLAGSYKDWSYSG\n",
    "QSTQLGIEFLKRGDKSVYYTSNPTTFHLDGEVITFDNLKTLLSLREVRTI\n",
    "KVFTTVDNINLHTQVVDMSMTYGQQFGPTYLDGADVTKIKPHNSHEGKTF\n",
    "YVLPNDDTLRVEAFEYYHTTDPSFLGRYMSALNHTKKWKYPQVNGLTSIK\n",
    "WADNNCYLATALLTLQQIELKFNPPALQDAYYRARAGEAANFCALILAYC\n",
    "NKTVGELGDVRETMSYLFQHANLDSCKRVLNVVCKTCGQQQTTLKGVEAV\n",
    "MYMGTLSYEQFKKGVQIPCTCGKQATKYLVQQESPFVMMSAPPAQYELKH\n",
    "GTFTCASEYTGNYQCGHYKHITSKETLYCIDGALLTKSSEYKGPITDVFY\n",
    "KENSYTTTIKPVTYKLDGVVCTEIDPKLDNYYKKDNSYFTEQPIDLVPNQ\n",
    "PYPNASFDNFKFVCDNIKFADDLNQLTGYKKPASRELKVTFFPDLNGDVV\n",
    "AIDYKHYTPSFKKGAKLLHKPIVWHVNNATNKATYKPNTWCIRCLWSTKP\n",
    "VETSNSFDVLKSEDAQGMDNLACEDLKPVSEEVVENPTIQKDVLECNVKT\n",
    "TEVVGDIILKPANNSLKITEEVGHTDLMAAYVDNSSLTIKKPNELSRVLG\n",
    "LKTLATHGLAAVNSVPWDTIANYAKPFLNKVVSTTTNIVTRCLNRVCTNY\n",
    "MPYFFTLLLQLCTFTRSTNSRIKASMPTTIAKNTVKSVGKFCLEASFNYL\n",
    "KSPNFSKLINIIIWFLLLSVCLGSLIYSTAALGVLMSNLGMPSYCTGYRE\n",
    "GYLNSTNVTIATYCTGSIPCSVCLSGLDSLDTYPSLETIQITISSFKWDL\n",
    "TAFGLVAEWFLAYILFTRFFYVLGLAAIMQLFFSYFAVHFISNSWLMWLI\n",
    "INLVQMAPISAMVRMYIFFASFYYVWKSYVHVVDGCNSSTCMMCYKRNRA\n",
    "TRVECTTIVNGVRRSFYVYANGGKGFCKLHNWNCVNCDTFCAGSTFISDE\n",
    "VARDLSLQFKRPINPTDQSSYIVDSVTVKNGSIHLYFDKAGQKTYERHSL\n",
    "SHFVNLDNLRANNTKGSLPINVIVFDGKSKCEESSAKSASVYYSQLMCQP\n",
    "ILLLDQALVSDVGDSAEVAVKMFDAYVNTFSSTFNVPMEKLKTLVATAEA\n",
    "ELAKNVSLDNVLSTFISAARQGFVDSDVETKDVVECLKLSHQSDIEVTGD\n",
    "SCNNYMLTYNKVENMTPRDLGACIDCSARHINAQVAKSHNIALIWNVKDF\n",
    "MSLSEQLRKQIRSAAKKNNLPFKLTCATTRQVVNVVTTKIALKGG\n",
    "\"\"\".replace('\\n', '')\n",
    "print(len(QHD43415_3))\n",
    "orf1ab.index(QHD43415_3)"
   ]
  },
  {
   "cell_type": "code",
   "execution_count": 31,
   "metadata": {},
   "outputs": [
    {
     "name": "stdout",
     "output_type": "stream",
     "text": [
      "500\n"
     ]
    },
    {
     "data": {
      "text/plain": [
       "2763"
      ]
     },
     "execution_count": 31,
     "metadata": {},
     "output_type": "execute_result"
    }
   ],
   "source": [
    "# >QHD43415_4 (L=500)\n",
    "QHD43415_4 = \"\"\"\n",
    "KIVNNWLKQLIKVTLVFLFVAAIFYLITPVHVMSKHTDFSSEIIGYKAID\n",
    "GGVTRDIASTDTCFANKHADFDTWFSQRGGSYTNDKACPLIAAVITREVG\n",
    "FVVPGLPGTILRTTNGDFLHFLPRVFSAVGNICYTPSKLIEYTDFATSAC\n",
    "VLAAECTIFKDASGKPVPYCYDTNVLEGSVAYESLRPDTRYVLMDGSIIQ\n",
    "FPNTYLEGSVRVVTTFDSEYCRHGTCERSEAGVCVSTSGRWVLNNDYYRS\n",
    "LPGVFCGVDAVNLLTNMFTPLIQPIGALDISASIVAGGIVAIVVTCLAYY\n",
    "FMRFRRAFGEYSHVVAFNTLLFLMSFTVLCLTPVYSFLPGVYSVIYLYLT\n",
    "FYLTNDVSFLAHIQWMVMFTPLVPFWITIAYIICISTKHFYWFFSNYLKR\n",
    "RVVFNGVSFSTFEEAALCTFLLNKEMYLKLRSDVLLPLTQYNRYLALYNK\n",
    "YKYFSGAMDTTSYREAACCHLAKALNDFSNSGSDVLYQPPQTSITSAVLQ\n",
    "\"\"\".replace('\\n', '')\n",
    "print(len(QHD43415_4))\n",
    "orf1ab.index(QHD43415_4)"
   ]
  },
  {
   "cell_type": "code",
   "execution_count": 32,
   "metadata": {},
   "outputs": [
    {
     "name": "stdout",
     "output_type": "stream",
     "text": [
      "306\n"
     ]
    },
    {
     "data": {
      "text/plain": [
       "3263"
      ]
     },
     "execution_count": 32,
     "metadata": {},
     "output_type": "execute_result"
    }
   ],
   "source": [
    "# >QHD43415_5 (L=306)\n",
    "QHD43415_5 = \"\"\"\n",
    "SGFRKMAFPSGKVEGCMVQVTCGTTTLNGLWLDDVVYCPRHVICTSEDML\n",
    "NPNYEDLLIRKSNHNFLVQAGNVQLRVIGHSMQNCVLKLKVDTANPKTPK\n",
    "YKFVRIQPGQTFSVLACYNGSPSGVYQCAMRPNFTIKGSFLNGSCGSVGF\n",
    "NIDYDCVSFCYMHHMELPTGVHAGTDLEGNFYGPFVDRQTAQAAGTDTTI\n",
    "TVNVLAWLYAAVINGDRWFLNRFTTTLNDFNLVAMKYNYEPLTQDHVDIL\n",
    "GPLSAQTGIAVLDMCASLKELLQNGMNGRTILGSALLEDEFTPFDVVRQC\n",
    "SGVTFQ\n",
    "\"\"\".replace('\\n', '')\n",
    "print(len(QHD43415_5))\n",
    "orf1ab.index(QHD43415_5)"
   ]
  },
  {
   "cell_type": "code",
   "execution_count": 33,
   "metadata": {},
   "outputs": [
    {
     "name": "stdout",
     "output_type": "stream",
     "text": [
      "290\n"
     ]
    },
    {
     "data": {
      "text/plain": [
       "3569"
      ]
     },
     "execution_count": 33,
     "metadata": {},
     "output_type": "execute_result"
    }
   ],
   "source": [
    "# >QHD43415_6 (L=290)\n",
    "QHD43415_6 = \"\"\"\n",
    "SAVKRTIKGTHHWLLLTILTSLLVLVQSTQWSLFFFLYENAFLPFAMGII\n",
    "AMSAFAMMFVKHKHAFLCLFLLPSLATVAYFNMVYMPASWVMRIMTWLDM\n",
    "VDTSLSGFKLKDCVMYASAVVLLILMTARTVYDDGARRVWTLMNVLTLVY\n",
    "KVYYGNALDQAISMWALIISVTSNYSGVVTTVMFLARGIVFMCVEYCPIF\n",
    "FITGNTLQCIMLVYCFLGYFCTCYFGLFCLLNRYFRLTLGVYDYLVSTQE\n",
    "FRYMNSQGLLPPKNSIDAFKLNIKLLGVGGKPCIKVATVQ\n",
    "\"\"\".replace('\\n', '')\n",
    "print(len(QHD43415_6))\n",
    "orf1ab.index(QHD43415_6)"
   ]
  },
  {
   "cell_type": "code",
   "execution_count": 34,
   "metadata": {},
   "outputs": [
    {
     "name": "stdout",
     "output_type": "stream",
     "text": [
      "83\n"
     ]
    },
    {
     "data": {
      "text/plain": [
       "3859"
      ]
     },
     "execution_count": 34,
     "metadata": {},
     "output_type": "execute_result"
    }
   ],
   "source": [
    "# >QHD43415_7 (L=83)\n",
    "QHD43415_7 = \"\"\"\n",
    "SKMSDVKCTSVVLLSVLQQLRVESSSKLWAQCVQLHNDILLAKDTTEAFE\n",
    "KMVSLLSVLLSMQGAVDINKLCEEMLDNRATLQ\n",
    "\"\"\".replace('\\n', '')\n",
    "print(len(QHD43415_7))\n",
    "orf1ab.index(QHD43415_7)"
   ]
  },
  {
   "cell_type": "code",
   "execution_count": 35,
   "metadata": {},
   "outputs": [
    {
     "name": "stdout",
     "output_type": "stream",
     "text": [
      "198\n"
     ]
    },
    {
     "data": {
      "text/plain": [
       "3942"
      ]
     },
     "execution_count": 35,
     "metadata": {},
     "output_type": "execute_result"
    }
   ],
   "source": [
    "# >QHD43415_8 (L=198)\n",
    "QHD43415_8 = \"\"\"\n",
    "AIASEFSSLPSYAAFATAQEAYEQAVANGDSEVVLKKLKKSLNVAKSEFD\n",
    "RDAAMQRKLEKMADQAMTQMYKQARSEDKRAKVTSAMQTMLFTMLRKLDN\n",
    "DALNNIINNARDGCVPLNIIPLTTAAKLMVVIPDYNTYKNTCDGTTFTYA\n",
    "SALWEIQQVVDADSKIVQLSEISMDNSPNLAWPLIVTALRANSAVKLQ\n",
    "\"\"\".replace('\\n', '')\n",
    "print(len(QHD43415_8))\n",
    "orf1ab.index(QHD43415_8)"
   ]
  },
  {
   "cell_type": "code",
   "execution_count": 36,
   "metadata": {},
   "outputs": [
    {
     "name": "stdout",
     "output_type": "stream",
     "text": [
      "113\n"
     ]
    },
    {
     "data": {
      "text/plain": [
       "4140"
      ]
     },
     "execution_count": 36,
     "metadata": {},
     "output_type": "execute_result"
    }
   ],
   "source": [
    "# >QHD43415_9 (L=113)\n",
    "QHD43415_9 = \"\"\"\n",
    "NNELSPVALRQMSCAAGTTQTACTDDNALAYYNTTKGGRFVLALLSDLQD\n",
    "LKWARFPKSDGTGTIYTELEPPCRFVTDTPKGPKVKYLYFIKGLNNLNRG\n",
    "MVLGSLAATVRLQ\n",
    "\"\"\".replace('\\n', '')\n",
    "print(len(QHD43415_9))\n",
    "orf1ab.index(QHD43415_9)"
   ]
  },
  {
   "cell_type": "code",
   "execution_count": 37,
   "metadata": {},
   "outputs": [
    {
     "name": "stdout",
     "output_type": "stream",
     "text": [
      "139\n"
     ]
    },
    {
     "data": {
      "text/plain": [
       "4253"
      ]
     },
     "execution_count": 37,
     "metadata": {},
     "output_type": "execute_result"
    }
   ],
   "source": [
    "# >QHD43415_10 (L=139)\n",
    "QHD43415_10 = \"\"\"\n",
    "AGNATEVPANSTVLSFCAFAVDAAKAYKDYLASGGQPITNCVKMLCTHTG\n",
    "TGQAITVTPEANMDQESFGGASCCLYCRCHIDHPNPKGFCDLKGKYVQIP\n",
    "TTCANDPVGFTLKNTVCTVCGMWKGYGCSCDQLREPMLQ\n",
    "\"\"\".replace('\\n', '')\n",
    "print(len(QHD43415_10))\n",
    "orf1ab.index(QHD43415_10)"
   ]
  },
  {
   "cell_type": "code",
   "execution_count": 38,
   "metadata": {},
   "outputs": [
    {
     "name": "stdout",
     "output_type": "stream",
     "text": [
      "932\n"
     ]
    },
    {
     "data": {
      "text/plain": [
       "4405"
      ]
     },
     "execution_count": 38,
     "metadata": {},
     "output_type": "execute_result"
    }
   ],
   "source": [
    "# >QHD43415_11 (L=932)\n",
    "QHD43415_11 = \"\"\"\n",
    "SADAQSFLNRVCGVSAARLTPCGTGTSTDVVYRAFDIYNDKVAGFAKFLK\n",
    "TNCCRFQEKDEDDNLIDSYFVVKRHTFSNYQHEETIYNLLKDCPAVAKHD\n",
    "FFKFRIDGDMVPHISRQRLTKYTMADLVYALRHFDEGNCDTLKEILVTYN\n",
    "CCDDDYFNKKDWYDFVENPDILRVYANLGERVRQALLKTVQFCDAMRNAG\n",
    "IVGVLTLDNQDLNGNWYDFGDFIQTTPGSGVPVVDSYYSLLMPILTLTRA\n",
    "LTAESHVDTDLTKPYIKWDLLKYDFTEERLKLFDRYFKYWDQTYHPNCVN\n",
    "CLDDRCILHCANFNVLFSTVFPPTSFGPLVRKIFVDGVPFVVSTGYHFRE\n",
    "LGVVHNQDVNLHSSRLSFKELLVYAADPAMHAASGNLLLDKRTTCFSVAA\n",
    "LTNNVAFQTVKPGNFNKDFYDFAVSKGFFKEGSSVELKHFFFAQDGNAAI\n",
    "SDYDYYRYNLPTMCDIRQLLFVVEVVDKYFDCYDGGCINANQVIVNNLDK\n",
    "SAGFPFNKWGKARLYYDSMSYEDQDALFAYTKRNVIPTITQMNLKYAISA\n",
    "KNRARTVAGVSICSTMTNRQFHQKLLKSIAATRGATVVIGTSKFYGGWHN\n",
    "MLKTVYSDVENPHLMGWDYPKCDRAMPNMLRIMASLVLARKHTTCCSLSH\n",
    "RFYRLANECAQVLSEMVMCGGSLYVKPGGTSSGDATTAYANSVFNICQAV\n",
    "TANVNALLSTDGNKIADKYVRNLQHRLYECLYRNRDVDTDFVNEFYAYLR\n",
    "KHFSMMILSDDAVVCFNSTYASQGLVASIKNFKSVLYYQNNVFMSEAKCW\n",
    "TETDLTKGPHEFCSQHTMLVKQGDDYVYLPYPDPSRILGAGCFVDDIVKT\n",
    "DGTLMIERFVSLAIDAYPLTKHPNQEYADVFHLYLQYIRKLHDELTGHML\n",
    "DMYSVMLTNDNTSRYWEPEFYEAMYTPHTVLQ\n",
    "\"\"\".replace('\\n', '')\n",
    "print(len(QHD43415_11))\n",
    "orf1ab.index(QHD43415_11)"
   ]
  },
  {
   "cell_type": "code",
   "execution_count": 39,
   "metadata": {},
   "outputs": [
    {
     "name": "stdout",
     "output_type": "stream",
     "text": [
      "601\n"
     ]
    },
    {
     "data": {
      "text/plain": [
       "5337"
      ]
     },
     "execution_count": 39,
     "metadata": {},
     "output_type": "execute_result"
    }
   ],
   "source": [
    "# >QHD43415_12 (L=601)\n",
    "QHD43415_12 = \"\"\"\n",
    "AVGACVLCNSQTSLRCGACIRRPFLCCKCCYDHVISTSHKLVLSVNPYVC\n",
    "NAPGCDVTDVTQLYLGGMSYYCKSHKPPISFPLCANGQVFGLYKNTCVGS\n",
    "DNVTDFNAIATCDWTNAGDYILANTCTERLKLFAAETLKATEETFKLSYG\n",
    "IATVREVLSDRELHLSWEVGKPRPPLNRNYVFTGYRVTKNSKVQIGEYTF\n",
    "EKGDYGDAVVYRGTTTYKLNVGDYFVLTSHTVMPLSAPTLVPQEHYVRIT\n",
    "GLYPTLNISDEFSSNVANYQKVGMQKYSTLQGPPGTGKSHFAIGLALYYP\n",
    "SARIVYTACSHAAVDALCEKALKYLPIDKCSRIIPARARVECFDKFKVNS\n",
    "TLEQYVFCTVNALPETTADIVVFDEISMATNYDLSVVNARLRAKHYVYIG\n",
    "DPAQLPAPRTLLTKGTLEPEYFNSVCRLMKTIGPDMFLGTCRRCPAEIVD\n",
    "TVSALVYDNKLKAHKDKSAQCFKMFYKGVITHDVSSAINRPQIGVVREFL\n",
    "TRNPAWRKAVFISPYNSQNAVASKILGLPTQTVDSSQGSEYDYVIFTQTT\n",
    "ETAHSCNVNRFNVAITRAKVGILCIMSDRDLYDKLQFTSLEIPRRNVATL\n",
    "Q\n",
    "\"\"\".replace('\\n', '')\n",
    "print(len(QHD43415_12))\n",
    "orf1ab.index(QHD43415_12)"
   ]
  },
  {
   "cell_type": "code",
   "execution_count": 40,
   "metadata": {},
   "outputs": [
    {
     "name": "stdout",
     "output_type": "stream",
     "text": [
      "527\n"
     ]
    },
    {
     "data": {
      "text/plain": [
       "5938"
      ]
     },
     "execution_count": 40,
     "metadata": {},
     "output_type": "execute_result"
    }
   ],
   "source": [
    "# >QHD43415_13 (L=527)\n",
    "QHD43415_13 = \"\"\"\n",
    "AENVTGLFKDCSKVITGLHPTQAPTHLSVDTKFKTEGLCVDIPGIPKDMT\n",
    "YRRLISMMGFKMNYQVNGYPNMFITREEAIRHVRAWIGFDVEGCHATREA\n",
    "VGTNLPLQLGFSTGVNLVAVPTGYVDTPNNTDFSRVSAKPPPGDQFKHLI\n",
    "PLMYKGLPWNVVRIKIVQMLSDTLKNLSDRVVFVLWAHGFELTSMKYFVK\n",
    "IGPERTCCLCDRRATCFSTASDTYACWHHSIGFDYVYNPFMIDVQQWGFT\n",
    "GNLQSNHDLYCQVHGNAHVASCDAIMTRCLAVHECFVKRVDWTIEYPIIG\n",
    "DELKINAACRKVQHMVVKAALLADKFPVLHDIGNPKAIKCVPQADVEWKF\n",
    "YDAQPCSDKAYKIEELFYSYATHSDKFTDGVCLFWNCNVDRYPANSIVCR\n",
    "FDTRVLSNLNLPGCDGGSLYVNKHAFHTPAFDKSAFVNLKQLPFFYYSDS\n",
    "PCESHGKQVVSDIDYVPLKSATCITRCNLGGAVCRHHANEYRLYLDAYNM\n",
    "MISAGFSLWVYKQFDTYNLWNTFTRLQ\n",
    "\"\"\".replace('\\n', '')\n",
    "print(len(QHD43415_13))\n",
    "orf1ab.index(QHD43415_13)"
   ]
  },
  {
   "cell_type": "code",
   "execution_count": 41,
   "metadata": {},
   "outputs": [
    {
     "name": "stdout",
     "output_type": "stream",
     "text": [
      "346\n"
     ]
    },
    {
     "data": {
      "text/plain": [
       "6465"
      ]
     },
     "execution_count": 41,
     "metadata": {},
     "output_type": "execute_result"
    }
   ],
   "source": [
    "# >QHD43415_14 (L=346)\n",
    "QHD43415_14 = \"\"\"\n",
    "SLENVAFNVVNKGHFDGQQGEVPVSIINNTVYTKVDGVDVELFENKTTLP\n",
    "VNVAFELWAKRNIKPVPEVKILNNLGVDIAANTVIWDYKRDAPAHISTIG\n",
    "VCSMTDIAKKPTETICAPLTVFFDGRVDGQVDLFRNARNGVLITEGSVKG\n",
    "LQPSVGPKQASLNGVTLIGEAVKTQFNYYKKVDGVVQQLPETYFTQSRNL\n",
    "QEFKPRSQMEIDFLELAMDEFIERYKLEGYAFEHIVYGDFSHSQLGGLHL\n",
    "LIGLAKRFKESPFELEDFIPMDSTVKNYFITDAQTGSSKCVCSVIDLLLD\n",
    "DFVEIIKSQDLSVVSKVVKVTIDYTEISFMLWCKDGHVETFYPKLQ\n",
    "\"\"\".replace('\\n', '')\n",
    "print(len(QHD43415_14))\n",
    "orf1ab.index(QHD43415_14)"
   ]
  },
  {
   "cell_type": "code",
   "execution_count": 42,
   "metadata": {},
   "outputs": [
    {
     "name": "stdout",
     "output_type": "stream",
     "text": [
      "298\n"
     ]
    },
    {
     "data": {
      "text/plain": [
       "6811"
      ]
     },
     "execution_count": 42,
     "metadata": {},
     "output_type": "execute_result"
    }
   ],
   "source": [
    "# >QHD43415_15 (L=298)\n",
    "QHD43415_15 = \"\"\"\n",
    "SSQAWQPGVAMPNLYKMQRMLLEKCDLQNYGDSATLPKGIMMNVAKYTQL\n",
    "CQYLNTLTLAVPYNMRVIHFGAGSDKGVAPGTAVLRQWLPTGTLLVDSDL\n",
    "NDFVSDADSTLIGDCATVHTANKWDLIISDMYDPKTKNVTKENDSKEGFF\n",
    "TYICGFIQQKLALGGSVAIKITEHSWNADLYKLMGHFAWWTAFVTNVNAS\n",
    "SSEAFLIGCNYLGKPREQIDGYVMHANYIFWRNTNPIQLSSYSLFDMSKF\n",
    "PLKLRGTAVMSLKEGQINDMILSLLSKGRLIIRENNRVVISSDVLVNN\n",
    "\"\"\".replace('\\n', '')\n",
    "print(len(QHD43415_15))\n",
    "orf1ab.index(QHD43415_15)"
   ]
  },
  {
   "cell_type": "code",
   "execution_count": 43,
   "metadata": {},
   "outputs": [
    {
     "name": "stdout",
     "output_type": "stream",
     "text": [
      "1273\n"
     ]
    },
    {
     "data": {
      "text/plain": [
       "0"
      ]
     },
     "execution_count": 43,
     "metadata": {},
     "output_type": "execute_result"
    }
   ],
   "source": [
    "# >QHD43416 (L=1273)\n",
    "QHD43416 = \"\"\"\n",
    "MFVFLVLLPLVSSQCVNLTTRTQLPPAYTNSFTRGVYYPDKVFRSSVLHS\n",
    "TQDLFLPFFSNVTWFHAIHVSGTNGTKRFDNPVLPFNDGVYFASTEKSNI\n",
    "IRGWIFGTTLDSKTQSLLIVNNATNVVIKVCEFQFCNDPFLGVYYHKNNK\n",
    "SWMESEFRVYSSANNCTFEYVSQPFLMDLEGKQGNFKNLREFVFKNIDGY\n",
    "FKIYSKHTPINLVRDLPQGFSALEPLVDLPIGINITRFQTLLALHRSYLT\n",
    "PGDSSSGWTAGAAAYYVGYLQPRTFLLKYNENGTITDAVDCALDPLSETK\n",
    "CTLKSFTVEKGIYQTSNFRVQPTESIVRFPNITNLCPFGEVFNATRFASV\n",
    "YAWNRKRISNCVADYSVLYNSASFSTFKCYGVSPTKLNDLCFTNVYADSF\n",
    "VIRGDEVRQIAPGQTGKIADYNYKLPDDFTGCVIAWNSNNLDSKVGGNYN\n",
    "YLYRLFRKSNLKPFERDISTEIYQAGSTPCNGVEGFNCYFPLQSYGFQPT\n",
    "NGVGYQPYRVVVLSFELLHAPATVCGPKKSTNLVKNKCVNFNFNGLTGTG\n",
    "VLTESNKKFLPFQQFGRDIADTTDAVRDPQTLEILDITPCSFGGVSVITP\n",
    "GTNTSNQVAVLYQDVNCTEVPVAIHADQLTPTWRVYSTGSNVFQTRAGCL\n",
    "IGAEHVNNSYECDIPIGAGICASYQTQTNSPRRARSVASQSIIAYTMSLG\n",
    "AENSVAYSNNSIAIPTNFTISVTTEILPVSMTKTSVDCTMYICGDSTECS\n",
    "NLLLQYGSFCTQLNRALTGIAVEQDKNTQEVFAQVKQIYKTPPIKDFGGF\n",
    "NFSQILPDPSKPSKRSFIEDLLFNKVTLADAGFIKQYGDCLGDIAARDLI\n",
    "CAQKFNGLTVLPPLLTDEMIAQYTSALLAGTITSGWTFGAGAALQIPFAM\n",
    "QMAYRFNGIGVTQNVLYENQKLIANQFNSAIGKIQDSLSSTASALGKLQD\n",
    "VVNQNAQALNTLVKQLSSNFGAISSVLNDILSRLDKVEAEVQIDRLITGR\n",
    "LQSLQTYVTQQLIRAAEIRASANLAATKMSECVLGQSKRVDFCGKGYHLM\n",
    "SFPQSAPHGVVFLHVTYVPAQEKNFTTAPAICHDGKAHFPREGVFVSNGT\n",
    "HWFVTQRNFYEPQIITTDNTFVSGNCDVVIGIVNNTVYDPLQPELDSFKE\n",
    "ELDKYFKNHTSPDVDLGDISGINASVVNIQKEIDRLNEVAKNLNESLIDL\n",
    "QELGKYEQYIKWPWYIWLGFIAGLIAIVMVTIMLCCMTSCCSCLKGCCSC\n",
    "GSCCKFDEDDSEPVLKGVKLHYT\n",
    "\"\"\".replace('\\n', '')\n",
    "print(len(QHD43416))\n",
    "spike_glycoprotein.index(QHD43416)"
   ]
  },
  {
   "cell_type": "code",
   "execution_count": 44,
   "metadata": {},
   "outputs": [
    {
     "name": "stdout",
     "output_type": "stream",
     "text": [
      "275\n"
     ]
    },
    {
     "data": {
      "text/plain": [
       "0"
      ]
     },
     "execution_count": 44,
     "metadata": {},
     "output_type": "execute_result"
    }
   ],
   "source": [
    "# >QHD43417 (L=275)\n",
    "QHD43417 = \"\"\"\n",
    "MDLFMRIFTIGTVTLKQGEIKDATPSDFVRATATIPIQASLPFGWLIVGV\n",
    "ALLAVFQSASKIITLKKRWQLALSKGVHFVCNLLLLFVTVYSHLLLVAAG\n",
    "LEAPFLYLYALVYFLQSINFVRIIMRLWLCWKCRSKNPLLYDANYFLCWH\n",
    "TNCYDYCIPYNSVTSSIVITSGDGTTSPISEHDYQIGGYTEKWESGVKDC\n",
    "VVLHSYFTSDYYQLYSTQLSTDTGVEHVTFFIYNKIVDEPEEHVQIHTID\n",
    "GSSGVVNPVMEPIYDEPTTTTSVPL\n",
    "\"\"\".replace('\\n', '')\n",
    "print(len(QHD43417))\n",
    "orf3a.index(QHD43417)"
   ]
  },
  {
   "cell_type": "code",
   "execution_count": 45,
   "metadata": {},
   "outputs": [
    {
     "name": "stdout",
     "output_type": "stream",
     "text": [
      "75\n"
     ]
    },
    {
     "data": {
      "text/plain": [
       "0"
      ]
     },
     "execution_count": 45,
     "metadata": {},
     "output_type": "execute_result"
    }
   ],
   "source": [
    "# >QHD43418 (L=75)\n",
    "QHD43418 = \"\"\"\n",
    "MYSFVSEETGTLIVNSVLLFLAFVVFLLVTLAILTALRLCAYCCNIVNVS\n",
    "LVKPSFYVYSRVKNLNSSRVPDLLV\n",
    "\"\"\".replace('\\n', '')\n",
    "print(len(QHD43418))\n",
    "envelope_protein.index(QHD43418)"
   ]
  },
  {
   "cell_type": "code",
   "execution_count": 46,
   "metadata": {},
   "outputs": [
    {
     "name": "stdout",
     "output_type": "stream",
     "text": [
      "222\n"
     ]
    },
    {
     "data": {
      "text/plain": [
       "0"
      ]
     },
     "execution_count": 46,
     "metadata": {},
     "output_type": "execute_result"
    }
   ],
   "source": [
    "# >QHD43419 (L=222)\n",
    "QHD43419 = \"\"\"\n",
    "MADSNGTITVEELKKLLEQWNLVIGFLFLTWICLLQFAYANRNRFLYIIK\n",
    "LIFLWLLWPVTLACFVLAAVYRINWITGGIAIAMACLVGLMWLSYFIASF\n",
    "RLFARTRSMWSFNPETNILLNVPLHGTILTRPLLESELVIGAVILRGHLR\n",
    "IAGHHLGRCDIKDLPKEITVATSRTLSYYKLGASQRVAGDSGFAAYSRYR\n",
    "IGNYKLNTDHSSSSDNIALLVQ\n",
    "\"\"\".replace('\\n', '')\n",
    "print(len(QHD43419))\n",
    "membrane_protein.index(QHD43419)"
   ]
  },
  {
   "cell_type": "code",
   "execution_count": 47,
   "metadata": {},
   "outputs": [
    {
     "name": "stdout",
     "output_type": "stream",
     "text": [
      "61\n"
     ]
    },
    {
     "data": {
      "text/plain": [
       "0"
      ]
     },
     "execution_count": 47,
     "metadata": {},
     "output_type": "execute_result"
    }
   ],
   "source": [
    "# >QHD43420 (L=61)\n",
    "QHD43420 = \"\"\"\n",
    "MFHLVDFQVTIAEILLIIMRTFKVSIWNLDYIINLIIKNLSKSLTENKYS\n",
    "QLDEEQPMEID\n",
    "\"\"\".replace('\\n', '')\n",
    "print(len(QHD43420))\n",
    "orf6.index(QHD43420)"
   ]
  },
  {
   "cell_type": "code",
   "execution_count": 48,
   "metadata": {},
   "outputs": [
    {
     "name": "stdout",
     "output_type": "stream",
     "text": [
      "121\n"
     ]
    },
    {
     "data": {
      "text/plain": [
       "0"
      ]
     },
     "execution_count": 48,
     "metadata": {},
     "output_type": "execute_result"
    }
   ],
   "source": [
    "# >QHD43421 (L=121)\n",
    "QHD43421 = \"\"\"\n",
    "MKIILFLALITLATCELYHYQECVRGTTVLLKEPCSSGTYEGNSPFHPLA\n",
    "DNKFALTCFSTQFAFACPDGVKHVYQLRARSVSPKLFIRQEEVQELYSPI\n",
    "FLIVAAIVFITLCFTLKRKTE\n",
    "\"\"\".replace('\\n', '')\n",
    "print(len(QHD43421))\n",
    "orf7a.index(QHD43421)"
   ]
  },
  {
   "cell_type": "code",
   "execution_count": 49,
   "metadata": {},
   "outputs": [
    {
     "name": "stdout",
     "output_type": "stream",
     "text": [
      "121\n"
     ]
    },
    {
     "data": {
      "text/plain": [
       "0"
      ]
     },
     "execution_count": 49,
     "metadata": {},
     "output_type": "execute_result"
    }
   ],
   "source": [
    "# >QHD43422 (L=121)\n",
    "QHD43422 = \"\"\"\n",
    "MKFLVFLGIITTVAAFHQECSLQSCTQHQPYVVDDPCPIHFYSKWYIRVG\n",
    "ARKSAPLIELCVDEAGSKSPIQYIDIGNYTVSCLPFTINCQEPKLGSLVV\n",
    "RCSFYEDFLEYHDVRVVLDFI\n",
    "\"\"\".replace('\\n', '')\n",
    "print(len(QHD43422))\n",
    "orf8.index(QHD43422)"
   ]
  },
  {
   "cell_type": "code",
   "execution_count": 50,
   "metadata": {},
   "outputs": [
    {
     "name": "stdout",
     "output_type": "stream",
     "text": [
      "419\n"
     ]
    },
    {
     "data": {
      "text/plain": [
       "0"
      ]
     },
     "execution_count": 50,
     "metadata": {},
     "output_type": "execute_result"
    }
   ],
   "source": [
    "# >QHD43423 (L=419)\n",
    "QHD43423 = \"\"\"\n",
    "MSDNGPQNQRNAPRITFGGPSDSTGSNQNGERSGARSKQRRPQGLPNNTA\n",
    "SWFTALTQHGKEDLKFPRGQGVPINTNSSPDDQIGYYRRATRRIRGGDGK\n",
    "MKDLSPRWYFYYLGTGPEAGLPYGANKDGIIWVATEGALNTPKDHIGTRN\n",
    "PANNAAIVLQLPQGTTLPKGFYAEGSRGGSQASSRSSSRSRNSSRNSTPG\n",
    "SSRGTSPARMAGNGGDAALALLLLDRLNQLESKMSGKGQQQQGQTVTKKS\n",
    "AAEASKKPRQKRTATKAYNVTQAFGRRGPEQTQGNFGDQELIRQGTDYKH\n",
    "WPQIAQFAPSASAFFGMSRIGMEVTPSGTWLTYTGAIKLDDKDPNFKDQV\n",
    "ILLNKHIDAYKTFPPTEPKKDKKKKADETQALPQRQKKQQTVTLLPAADL\n",
    "DDFSKQLQQSMSSADSTQA\n",
    "\"\"\".replace('\\n', '')\n",
    "print(len(QHD43423))\n",
    "nucleocapsid_phosphoprotein.index(QHD43423)"
   ]
  },
  {
   "cell_type": "code",
   "execution_count": 51,
   "metadata": {
    "scrolled": true
   },
   "outputs": [
    {
     "name": "stdout",
     "output_type": "stream",
     "text": [
      "38\n"
     ]
    },
    {
     "data": {
      "text/plain": [
       "0"
      ]
     },
     "execution_count": 51,
     "metadata": {},
     "output_type": "execute_result"
    }
   ],
   "source": [
    "# >QHI42199 (L=38)\n",
    "QHI42199 = \"\"\"\n",
    "MGYINVFAFPFTIYSLLLCRMNSRNYIAQVDVVNFNLT\n",
    "\"\"\".replace('\\n', '')\n",
    "print(len(QHI42199))\n",
    "orf10.index(QHI42199)"
   ]
  },
  {
   "cell_type": "markdown",
   "metadata": {},
   "source": [
    "Cool, we found all proteins mentioned on the zhanglab page!!!"
   ]
  },
  {
   "cell_type": "markdown",
   "metadata": {},
   "source": [
    "There's a great website that shows the mutations of sars-cov-2 over time.\n",
    "\n",
    "https://nextstrain.org/ncov"
   ]
  },
  {
   "cell_type": "code",
   "execution_count": 52,
   "metadata": {},
   "outputs": [],
   "source": [
    "import requests\n",
    "import yaml\n",
    "from Bio import Entrez\n",
    "import sys\n",
    "import json"
   ]
  },
  {
   "cell_type": "code",
   "execution_count": 53,
   "metadata": {
    "scrolled": true
   },
   "outputs": [
    {
     "name": "stderr",
     "output_type": "stream",
     "text": [
      "<ipython-input-53-b4f2becb97b6>:1: YAMLLoadWarning: calling yaml.load() without Loader=... is deprecated, as the default Loader is unsafe. Please read https://msg.pyyaml.org/load for full details.\n",
      "  seqs = yaml.load(requests.get(\"https://www.ncbi.nlm.nih.gov/core/assets/genbank/files/ncov-sequences.yaml\").text)\n"
     ]
    },
    {
     "name": "stdout",
     "output_type": "stream",
     "text": [
      "MN908947\n"
     ]
    },
    {
     "name": "stderr",
     "output_type": "stream",
     "text": [
      "/Users/antoinechoppin/.pyenv/versions/3.8.2/envs/pynb/lib/python3.8/site-packages/Bio/Entrez/__init__.py:619: UserWarning: \n",
      "Email address is not specified.\n",
      "\n",
      "To make use of NCBI's E-utilities, NCBI requires you to specify your\n",
      "email address with each request.  As an example, if your email address\n",
      "is A.N.Other@example.com, you can specify it as follows:\n",
      "   from Bio import Entrez\n",
      "   Entrez.email = 'A.N.Other@example.com'\n",
      "In case of excessive usage of the E-utilities, NCBI will attempt to contact\n",
      "a user at the email address provided before blocking access to the\n",
      "E-utilities.\n",
      "  warnings.warn(\n"
     ]
    },
    {
     "name": "stdout",
     "output_type": "stream",
     "text": [
      "MN938384\n",
      "MN975262\n",
      "MN985325\n",
      "MN988713\n",
      "MN994467\n",
      "MN994468\n",
      "MN997409\n",
      "MN988668\n",
      "MN988669\n",
      "MN996527\n",
      "MN996528\n",
      "MN996529\n",
      "MN996530\n",
      "MN996531\n",
      "MT007544\n",
      "LR757995\n",
      "LR757996\n",
      "LR757998\n",
      "MT019529\n",
      "MT019530\n",
      "MT019531\n",
      "MT019532\n",
      "MT019533\n",
      "MT020880\n",
      "MT020881\n",
      "MT027062\n",
      "MT027063\n",
      "MT027064\n",
      "MT039873\n",
      "MT039887\n",
      "MT039888\n",
      "MT039890\n",
      "MT044257\n",
      "MT044258\n",
      "MT049951\n",
      "MT066175\n",
      "MT066176\n",
      "MT072688\n",
      "MT093571\n",
      "MT093631\n",
      "MT106052\n",
      "MT106053\n",
      "MT106054\n",
      "MT118835\n",
      "MT123290\n",
      "MT123291\n",
      "MT123292\n",
      "MT123293\n",
      "LC528232\n",
      "LC528233\n",
      "MT126808\n",
      "MT135041\n",
      "MT135042\n",
      "MT135043\n",
      "MT135044\n",
      "MT152824\n",
      "MT012098\n",
      "MT050493\n",
      "MT121215\n",
      "MT159705\n",
      "MT159706\n",
      "MT159707\n",
      "MT159708\n",
      "MT159709\n",
      "MT159710\n",
      "MT159711\n",
      "MT159712\n",
      "MT159713\n",
      "MT159714\n",
      "MT159715\n",
      "MT159716\n",
      "MT159717\n",
      "MT159718\n",
      "MT159719\n",
      "MT159720\n",
      "MT159721\n",
      "MT159722\n",
      "MT066156\n",
      "MT163716\n",
      "MT163717\n",
      "MT163718\n",
      "MT163719\n",
      "LC529905\n",
      "MT184907\n",
      "MT184908\n",
      "MT184909\n",
      "MT184910\n",
      "MT184911\n",
      "MT184912\n",
      "MT184913\n",
      "MT188339\n",
      "MT188340\n",
      "MT188341\n",
      "MT192759\n",
      "MT192765\n",
      "MT192772\n",
      "MT192773\n",
      "MT226610\n",
      "MT233519\n",
      "MT233522\n",
      "MT233523\n",
      "MT240479\n",
      "MT246449\n",
      "MT246450\n",
      "MT246451\n",
      "MT246452\n",
      "MT246453\n",
      "MT246454\n",
      "MT246455\n",
      "MT246456\n",
      "MT246457\n",
      "MT246458\n",
      "MT246459\n",
      "MT246460\n",
      "MT246461\n",
      "MT246462\n",
      "MT246464\n",
      "MT246466\n",
      "MT246467\n",
      "MT246468\n",
      "MT246469\n",
      "MT246470\n",
      "MT246471\n",
      "MT246472\n",
      "MT246473\n",
      "MT246474\n",
      "MT246475\n",
      "MT246476\n",
      "MT246477\n",
      "MT246478\n",
      "MT246479\n",
      "MT246480\n",
      "MT246481\n",
      "MT246482\n",
      "MT246484\n",
      "MT246485\n",
      "MT246486\n",
      "MT246487\n",
      "MT246488\n",
      "MT246489\n",
      "MT246490\n",
      "MT251972\n",
      "MT251973\n",
      "MT251974\n",
      "MT251975\n",
      "MT251976\n",
      "MT251977\n",
      "MT251978\n",
      "MT251979\n",
      "MT251980\n",
      "MT253696\n",
      "MT253697\n",
      "MT253698\n",
      "MT253699\n",
      "MT253700\n",
      "MT253701\n",
      "MT253702\n",
      "MT253703\n",
      "MT253704\n",
      "MT253705\n",
      "MT253706\n",
      "MT253707\n",
      "MT253708\n",
      "MT253709\n",
      "MT253710\n"
     ]
    }
   ],
   "source": [
    "seqs = yaml.load(requests.get(\"https://www.ncbi.nlm.nih.gov/core/assets/genbank/files/ncov-sequences.yaml\").text)\n",
    "allseq = {}\n",
    "for x in seqs['genbank-sequences']:\n",
    "    if 'gene-region' in x and x['gene-region'] == 'complete':\n",
    "        nm = x['accession']\n",
    "        print(nm)\n",
    "        sys.stdout.flush()\n",
    "        dna = Entrez.efetch(db='nucleotide',id=nm, rettype = 'fasta', retmode= 'text').read().split('\\n')[1:]\n",
    "        allseq[nm] = ''.join(dna)"
   ]
  },
  {
   "cell_type": "code",
   "execution_count": 54,
   "metadata": {},
   "outputs": [],
   "source": [
    "with open('/Users/antoinechoppin/dev/github/covid19/allseq.json', 'w') as f:\n",
    "    json.dump(allseq, f)"
   ]
  },
  {
   "cell_type": "code",
   "execution_count": 55,
   "metadata": {},
   "outputs": [
    {
     "data": {
      "text/plain": [
       "166"
      ]
     },
     "execution_count": 55,
     "metadata": {},
     "output_type": "execute_result"
    }
   ],
   "source": [
    "ll = [len(x) for x in allseq.values()]\n",
    "len(ll)"
   ]
  },
  {
   "cell_type": "code",
   "execution_count": 56,
   "metadata": {
    "scrolled": true
   },
   "outputs": [
    {
     "name": "stdout",
     "output_type": "stream",
     "text": [
      "MESLVPGFNEKTHVQLSLPVLQVRDVLVRGFGDSVEEVLSEARQHLKDGTCGLVEVEKGVLPQLEQPYVFIKRSDARTAPHGHVMVELVAELEGIQYGRS\n",
      "MESLVPGFNEKTHVQLSLPVLQVRDVLVRGFGDSVEEVLSEARQHLKDGTCGLVEVEKGVLPQLEQPYVFIKRSDARTAPHGHVMVELVAELEGIQYGRS\n",
      "MESLVPGFNEKTHVQLSLPVLQVRDVLVRGFGDSVEEVLSEARQHLKDGTCGLVEVEKGVLPQLEQPYVFIKRSDARTAPHGHVMVELVAELEGIQYGRS\n",
      "MESLVPGFNEKTHVQLSLPVLQVRDVLVRGFGDSVEEVLSEARQHLKDGTCGLVEVEKGVLPQLEQPYVFIKRSDARTAPHGHVMVELVAELEGIQYGRS\n",
      "MESLVPGFNEKTHVQLSLPVLQVRDVLVRGFGDSVEEVLSEARQHLKDGTCGLVEVEKGVLPQLEQPYVFIKRSDARTAPHGHVMVELVAELEGIQYGRS\n",
      "MESLVPGFNEKTHVQLSLPVLQVRDVLVRGFGDSVEEVLSEARQHLKDGTCGLVEVEKGVLPQLEQPYVFIKRSDARTAPHGHVMVELVAELEGIQYGRS\n",
      "MESLVPGFNEKTHVQLSLPVLQVRDVLVRGFGDSVEEVLSEARQHLKDGTCGLVEVEKGVLPQLEQPYVFIKRSDARTAPHGHVMVELVAELEGIQYGRS\n",
      "MESLVPGFNEKTHVQLSLPVLQVRDVLVRGFGDSVEEVLSEARQHLKDGTCGLVEVEKGVLPQLEQPYVFIKRSDARTAPHGHVMVELVAELEGIQYGRS\n",
      "MESLVPGFNEKTHVQLSLPVLQVRDVLVRGFGDSVEEVLSEARQHLKDGTCGLVEVEKGVLPQLEQPYVFIKRSDARTAPHGHVMVELVAELEGIQYGRS\n",
      "MESLVPGFNEKTHVQLSLPVLQVRDVLVRGFGDSVEEVLSEARQHLKDGTCGLVEVEKGVLPQLEQPYVFIKRSDARTAPHGHVMVELVAELEGIQYGRS\n",
      "MESLVPGFNEKTHVQLSLPVLQVRDVLVRGFGDSVEEVLSEARQHLKDGTCGLVEVEKGVLPQLEQPYVFIKRSDARTAPHGHVMVELVAELEGIQYGRS\n",
      "MESLVPGFNEKTHVQLSLPVLQVRDVLVRGFGDSVEEVLSEARQHLKDGTCGLVEVEKGVLPQLEQPYVFIKRSDARTAPHGHVMVELVAELEGIQYGRS\n",
      "MESLVPGFNEKTHVQLSLPVLQVRDVLVRGFGDSVEEVLSEARQHLKDGTCGLVEVEKGVLPQLEQPYVFIKRSDARTAPHGHVMVELVAELEGIQYGRS\n",
      "MESLVPGFNEKTHVQLSLPVLQVRDVLVRGFGDSVEEVLSEARQHLKDGTCGLVEVEKGVLPQLEQPYVFIKRSDARTAPHGHVMVELVAELEGIQYGRS\n",
      "MESLVPGFNEKTHVQLSLPVLQVRDVLVRGFGDSVEEVLSEARQHLKDGTCGLVEVEKGVLPQLEQPYVFIKRSDARTAPHGHVMVELVAELEGIQYGRS\n",
      "MESLVPGFNEKTHVQLSLPVLQVRDVLVRGFGDSVEEVLSEARQHLKDGTCGLVEVEKGVLPQLEQPYVFIKRSDARTAPHGHVMVELVAELEGIQYGRS\n",
      "MESLVPGFNEKTHVQLSLPVLQVRDVLVRGFGDSVEEVLSEARQHLKDGTCGLVEVEKGVLPQLEQPYVFIKRSDARTAPHGHVMVELVAELEGIQYGRS\n",
      "MESLVPGFNEKTHVQLSLPVLQVRDVLVRGFGDSVEEVLSEARQHLKDGTCGLVEVEKGVLPQLEQPYVFIKRSDARTAPHGHVMVELVAELEGIQYGRS\n",
      "MESLVPGFNEKTHVQLSLPVLQVRDVLVRGFGDSVEEVLSEARQHLKDGTCGLVEVEKGVLPQLEQPYVFIKRSDARTAPHGHVMVELVAELEGIQYGRS\n",
      "MESLVPGFNEKTHVQLSLPVLQVRDVLVRGFGDSVEEVLSEARQHLKDGTCGLVEVEKGVLPQLEQPYVFIKRSDARTAPHGHVMVELVAELEGIQYGRS\n",
      "MESLVPGFNEKTHVQLSLPVLQVRDVLVRGFGDSVEEVLSEARQHLKDGTCGLVEVEKGVLPQLEQPYVFIKRSDARTAPHGHVMVELVAELEGIQYGRS\n",
      "MESLVPGFNEKTHVQLSLPVLQVRDVLVRGFGDSVEEVLSEARQHLKDGTCGLVEVEKGVLPQLEQPYVFIKRSDARTAPHGHVMVELVAELEGIQYGRS\n",
      "MESLVPGFNEKTHVQLSLPVLQVRDVLVRGFGDSVEEVLSEARQHLKDGTCGLVEVEKGVLPQLEQPYVFIKRSDARTAPHGHVMVELVAELEGIQYGRS\n",
      "MESLVPGFNEKTHVQLSLPVLQVRDVLVRGFGDSVEEVLSEARQHLKDGTCGLVEVEKGVLPQLEQPYVFIKRSDARTAPHGHVMVELVAELEGIQYGRS\n",
      "MESLVPGFNEKTHVQLSLPVLQVRDVLVRGFGDSVEEVLSEARQHLKDGTCGLVEVEKGVLPQLEQPYVFIKRSDARTAPHGHVMVELVAELEGIQYGRS\n",
      "MESLVPGFNEKTHVQLSLPVLQVRDVLVRGFGDSVEEVLSEARQHLKDGTCGLVEVEKGVLPQLEQPYVFIKRSDARTAPHGHVMVELVAELEGIQYGRS\n",
      "MESLVPGFNEKTHVQLSLPVLQVRDVLVRGFGDSVEEVLSEARQHLKDGTCGLVEVEKGVLPQLEQPYVFIKRSDARTAPHGHVMVELVAELEGIQYGRS\n",
      "MESLVPGFNEKTHVQLSLPVLQVRDVLVRGFGDSVEEVLSEARQHLKDGTCGLVEVEKGVLPQLEQPYVFIKRSDARTAPHGHVMVELVAELEGIQYGRS\n",
      "MESLVPGFNEKTHVQLSLPVLQVRDVLVRGFGDSVEEVLSEARQHLKDGTCGLVEVEKGVLPQLEQPYVFIKRSDARTAPHGHVMVELVAELEGIQYGRS\n",
      "MESLVPGFNEKTHVQLSLPVLQVRDVLVRGFGDSVEEVLSEARQHLKDGTCGLVEVEKGVLPQLEQPYVFIKRSDARTAPHGHVMVELVAELEGIQYGRS\n",
      "MESLVPGFNEKTHVQLSLPVLQVRDVLVRGFGDSVEEVLSEARQHLKDGTCGLVEVEKGVLPQLEQPYVFIKRSDARTAPHGHVMVELVAELEGIQYGRS\n",
      "MESLVPGFNEKTHVQLSLPVLQVRDVLVRGFGDSVEEVLSEARQHLKDGTCGLVEVEKGVLPQLEQPYVFIKRSEARTAPHGHVMVELVAELEGIQYGRS\n",
      "MESLVPGFNEKTHVQLSLPVLQVRDVLVRGFGDSVEEVLSEARQHLKDGTCGLVEVEKGVLPQLEQPYVFIKRSDARTAPHELVAELEGIQYGRSGETLG\n",
      "MESLVPGFNEKTHVQLSLPVLQVRDVLVRGFGDSVEEVLSEARQHLKDGTCGLVEVEKGVLPQLEQPYVFIKRSDARTAPHGHVMVELVAELEGIQYGRS\n",
      "MESLVPGFNEKTHVQLSLPVLQVRDVLVRGFGDSVEEVLSEARQHLKDGTCGLVEVEKGVLPQLEQPYVFIKRSDARTAPHGHVMVELVAELEGIQYGRS\n",
      "MESLVPGFNEKTHVQLSLPVLQVRDVLVRGFGDSVEEVLSEARQHLKDGTCGLVEVEKGVLPQLEQPYVFIKRSDARTAPHGHVMVELVAELEGIQYGRS\n",
      "MESLVPGFNEKTHVQLSLPVLQVRDVLVRGFGDSVEEVLSEARQHLKDGTCGLVEVEKGVLPQLEQPYVFIKRSDARTAPHGHVMVELVAELEGIQYGRS\n",
      "MESLVPGFNEKTHVQLSLPVLQVRDVLVRGFGDSVEEVLSEARQHLKDGTCGLVEVEKGVLPQLEQPYVFIKRSDARTAPHGHVMVELVAELEGIQYGRS\n",
      "MESLVPGFNEKTHVQLSLPVLQVRDVLVRGFGDSVEEVLSEARQHLKDGTCGLVEVEKGVLPQLEQPYVFIKRSDARTAPHGHVMVELVAELEGIQYGRS\n",
      "MESLVPGFNEKTHVQLSLPVLQVRDVLVRGFGDSVEEVLSEARQHLKDGTCGLVEVEKGVLPQLEQPYVFIKRSDARTAPHGHVMVELVAELEGIQYGRS\n",
      "MESLVPGFNEKTHVQLSLPVLQVRDVLVRGFGDSVEEVLSEARQHLKDGTCGLVEVEKGVLPQLEQPYVFIKRSDARTAPHGHVMVELVAELEGIQYGRS\n",
      "MESLVPGFNEKTHVQLSLPVLQVRDVLVRGFGDSVEEVLSEARQHLKDGTCGLVEVEKGVLPQLEQPYVFIKRSDARTAPHGHVMVELVAELEGIQYGRS\n",
      "MESLVPGFNEKTHVQLSLPVLQVRDVLVRGFGDSVEEVLSEARQHLKDGTCGLVEVEKGVLPQLEQPYVFIKRSDARTAPHGHVMVELVAELEGIQYGRS\n",
      "MESLVPGFNEKTHVQLSLPVLQVRDVLVRGFGDSVEEVLSEARQHLKDGTCGLVEVEKGVLPQLEQPYVFIKRSDARTAPHGHVMVELVAELEGIQYGRS\n",
      "MESLVPGFNEKTHVQLSLPVLQVRDVLVRGFGDSVEEVLSEARQHLKDGTCGLVEVEKGVLPQLEQPYVFIKRSDARTAPHGHVMVELVAELEGIQYGRS\n",
      "MESLVPGFNEKTHVQLSLPVLQVRDVLVRGFGDSVEEVLSEARQHLKDGTCGLVEVEKGVLPQLEQPYVFIKRSDARTAPHGHVMVELVAELEGIQYGRS\n",
      "MESLVPGFNEKTHVQLSLPVLQVRDVLVRGFGDSVEEVLSEARQHLKDGTCGLVEVEKGVLPQLEQPYVFIKRSDARTAPHGHVMVELVAELEGIQYGRS\n",
      "MESLVPGFNEKTHVQLSLPVLQVRDVLVRGFGDSVEEVLSEARQHLKDGTCGLVEVEKGVLPQLEQPYVFIKRSDARTAPHGHVMVELVAELEGIQYGRS\n",
      "MESLVPGFNEKTHVQLSLPVLQVRDVLVRGFGDSVEEVLSEARQHLKDGTCGLVEVEKGVLPQLEQPYVFIKRSDARTAPHGHVMVELVAELEGIQYGRS\n",
      "MESLVPGFNEKTHVQLSLPVLQVRDVLVRGFGDSVEEVLSEARQHLKDGTCGLVEVEKGVLPQLEQPYVFIKRSDARTAPHGHVMVELVAELEGIQYGRS\n",
      "MESLVPGFNEKTHVQLSLPVLQVRDVLVRGFGDSVEEVLSEARQHLKDGTCGLVEVEKGVLPQLEQPYVFIKRSDARTAPHGHVMVELVAELEGIQYGRS\n",
      "MESLVPGFNEKTHVQLSLPVLQVRDVLVRGFGDSVEEVLSEARQHLKDGTCGLVEVEKGVLPQLEQPYVFIKRSDARTAPHGHVMVELVAELEGIQYGRS\n",
      "MESLVPGFNEKTHVQLSLPVLQVRDVLVRGFGDSVEEVLSEARQHLKDGTCGLVEVEKGVLPQLEQPYVFIKRSDARTAPHGHVMVELVAELEGIQYGRS\n",
      "MESLVPGFNEKTHVQLSLPVLQVRDVLVRGFGDSVEEVLSEARQHLKDGTCGLVEVEKGVLPQLEQPYVFIKRSDARTAPHGHVMVELVAELEGIQYGRS\n",
      "MESLVPGFNEKTHVQLSLPVLQVRDVLVRGFGDSVEEVLSEARQHLKDGTCGLVEVEKGVLPQLEQPYVFIKRSDARTAPHGHVMVELVAELEGIQYGRS\n",
      "MESLVPGFNEKTHVQLSLPVLQVRDVLVRGFGDSVEEVLSEARQHLKDGTCGLVEVEKGVLPQLEQPYVFIKRSDARTAPHGHVMVELVAELEGIQYGRS\n",
      "MESLVPGFNEKTHVQLSLPVLQVRDVLVRGFGDSVEEVLSEARQHLKDGTCGLVEVEKGVLPQLEQPYVFIKRSDARTAPHGHVMVELVAELEGIQYGRS\n",
      "MESLVPGFNEKTHVQLSLPVLQVRDVLVRGFGDSVEEVLSEARQHLKDGTCGLVEVEKGVLPQLEQPYVFIKRSDARTAPHGHVMVELVAELEGIQYGRS\n",
      "MESLVPGFNEKTHVQLSLPVLQVRDVLVRGFGDSVEEVLSEARQHLKDGTCGLVEVEKGVLPQLEQPYVFIKRSDARTAPHGHVMVELVAELEGIQYGRS\n",
      "MESLVPGFNEKTHVQLSLPVLQVRDVLVRGFGDSVEEVLSEARQHLKDGTCGLVEVEKGVLPQLEQPYVFIKRSDARTAPHGHVMVELVAELEGIQYGRS\n",
      "MESLVPGFNEKTHVQLSLPVLQVRDVLVRGFGDSVEEVLSEARQHLKDGTCGLVEVEKGVLPQLEQPYVFIKRSDARTAPHGHVMVELVAELEGIQYGRS\n",
      "MESLVPGFNEKTHVQLSLPVLQVRDVLVRGFGDSVEEVLSEARQHLKDGTCGLVEVEKGVLPQLEQPYVFIKRSDARTAPHGHVMVELVAELEGIQYGRS\n",
      "MESLVPGFNEKTHVQLSLPVLQVRDVLVRGFGDSVEEVLSEARQHLKDGTCGLVEVEKGVLPQLEQPYVFIKRSDARTAPHGHVMVELVAELEGIQYGRS\n",
      "MESLVPGFNEKTHVQLSLPVLQVRDVLVRGFGDSVEEVLSEARQHLKDGTCGLVEVEKGVLPQLEQPYVFIKRSDARTAPHGHVMVELVAELEGIQYGRS\n",
      "MESLVPGFNEKTHVQLSLPVLQVRDVLVRGFGDSVEEVLSEARQHLKDGTCGLVEVEKGVLPQLEQPYVFIKRSDARTAPHGHVMVELVAELEGIQYGRS\n",
      "MESLVPGFNEKTHVQLSLPVLQVRDVLVRGFGDSVEEVLSEARQHLKDGTCGLVEVEKGVLPQLEQPYVFIKRSDARTAPHGHVMVELVAELEGIQYGRS\n",
      "MESLVPGFNEKTHVQLSLPVLQVRDVLVRGFGDSVEEVLSEARQHLKDGTCGLVEVEKGVLPQLEQPYVFIKRSDARTAPHGHVMVELVAELEGIQYGRS\n",
      "MESLVPGFNEKTHVQLSLPVLQVRDVLVRGFGDSVEEVLSEARQHLKDGTCGLVEVEKGVLPQLEQPYVFIKRSDARTAPHGHVMVELVAELEGIQYGRS\n",
      "MESLVPGFNEKTHVQLSLPVLQVRDVLVRGFGDSVEEVLSEARQHLKDGTCGLVEVEKGVLPQLEQPYVFIKRSDARTAPHGHVMVELVAELEGIQYGRS\n",
      "MESLVPGFNEKTHVQLSLPVLQVRDVLVRGFGDSVEEVLSEARQHLKDGTCGLVEVEKGVLPQLEQPYVFIKRSDARTAPHELVAELEGIQYGRSGETLG\n",
      "MESLVPGFNEKTHVQLSLPVLQVRDVLVRGFGDSVEEVLSEARQHLKDGTCGLVEVEKGVLPQLEQPYVFIKRSDARTAPHGHVMVELVAELEGIQYGRS\n",
      "MESLVPGFNEKTHVQLSLPVLQVRDVLVRGFGDSVEEVLSEARQHLKDGTCGLVEVEKGVLPQLEQPYVFIKRSDARTAPHGHVMVELVAELEGIQYGRS\n",
      "MESLVPGFNEKTHVQLSLPVLQVRDVLVRGFGDSVEEVLSEARQHLKDGTCGLVEVEKGVLPQLEQPYVFIKRSDARTAPHGHVMVELVAELEGIQYGRS\n",
      "MESLVPGFNEKTHVQLSLPVLQVRDVLVRGFGDSVEEVLSEARQHLKDGTCGLVEVEKGVLPQLEQPYVFIKRSDARTAPHGHVMVELVAELEGIQYGRS\n",
      "MESLVPGFNEKTHVQLSLPVLQVRDVLVRGFGDSVEEVLSEARQHLKDGTCGLVEVEKGVLPQLEQPYVFIKRSDARTAPHGHVMVELVAELEGIQYGRS\n",
      "MESLVPGFNEKTHVQLSLPVLQVRDVLVRGFGDSVEEVLSEARQHLKDGTCGLVEVEKGVLPQLEQPYVFIKRSDARTAPHGHVMVELVAELEGIQYGRS\n",
      "MESLVPGFNEKTHVQLSLPVLQVRDVLVRGFGDSVEEVLSEARQHLKDGTCGLVEVEKGVLPQLEQPYVFIKRSDARTAPHGHVMVELVAELEGIQYGRS\n",
      "MESLVPGFNEKTHVQLSLPVLQVRDVLVRGFGDSVEEVLSEARQHLKDGTCGLVEVEKGVLPQLEQPYVFIKRSDARTAPHGHVMVELVAELEGIQYGRS\n",
      "MESLVPGFNEKTHVQLSLPVLQVRDVLVRGFGDSVEEVLSEARQHLKDGTCGLVEVEKGVLPQLEQPYVFIKRSDARTAPHGHVMVELVAELEGIQYGRS\n",
      "MESLVPGFNEKTHVQLSLPVLQVRDVLVRGFGDSVEEVLSEARQHLKDGTCGLVEVEKGVLPQLEQPYVFIKRSDARTAPHGHVMVELVAELEGIQYGRS\n",
      "MESLVPGFNEKTHVQLSLPVLQVRDVLVRGFGDSVEEVLSEARQHLKDGTCGLVEVEKGVLPQLEQPYVFIKRSDARTAPHGHVMVELVAELEGIQYGRS\n",
      "MESLVPGFNEKTHVQLSLPVLQVRDVLVRGFGDSVEEVLSEARQHLKDGTCGLVEVEKGVLPQLEQPYVFIKRSDARTAPHGHVMVELVAELEGIQYGRS\n"
     ]
    },
    {
     "name": "stdout",
     "output_type": "stream",
     "text": [
      "MESLVPGFNEKTHVQLSLPVLQVRDVLVRGFGDSVEEVLSEARQHLKDGTCGLVEVEKGVLPQLEQPYVFIKRSDARTAPHGHVMVELVAELEGIQYGRS\n",
      "MESLVPGFNEKTHVQLSLPVLQVRDVLVRGFGDSVEEVLSEARQHLKDGTCGLVEVEKGVLPQLEQPYVFIKRSDARTAPHGHVMVELVAELEGIQYGRS\n",
      "MESLVPGFNEKTHVQLSLPVLQVRDVLVRGFGDSVEEVLSEARQHLKDGTCGLVEVEKGVLPQLEQPYVFIKRSDARTAPHGHVMVELVAELEGIQYGRS\n",
      "MESLVPGFNEKTHVQLSLPVLQVRDVLVRGFGDSVEEVLSEARQHLKDGTCGLVEVEKGVLPQLEQPYVFIKRSDARTAPHGHVMVELVAELEGIQYGRS\n",
      "MESLVPGFNEKTHVQLSLPVLQVRDVLVRGFGDSVEEVLSEARQHLKDGTCGLVEVEKGVLPQLEQPYVFIKRSDARTAPHGHVMVELVAELEGIQYGRS\n",
      "MESLVPGFNEKTHVQLSLPVLQVRDVLVRGFGDSVEEVLSEARQHLKDGTCGLVEVEKGVLPQLEQPYVFIKRSDARTAPHGHVMVELVAELEGIQYGRS\n",
      "MESLVPGFNEKTHVQLSLPVLQVRDVLVRGFGDSVEEVLSEARQHLKDGTCGLVEVEKGVLPQLEQPYVFIKRSDARTAPHGHVMVELVAELEGIQYGRS\n",
      "MESLVPGFNEKTHVQLSLPVLQVRDVLVRGFGDSVEEVLSEARQHLKDGTCGLVEVEKGVLPQLEQPYVFIKRSDARTAPHGHVMVELVAELEGIQYGRS\n",
      "MESLVPGFNEKTHVQLSLPVLQVRDVLVRGFGDSVEEVLSEARQHLKDGTCGLVEVEKGVLPQLEQPYVFIKRSDARTAPHGHVMVELVAELEGIQYGRS\n",
      "MESLVPGFNEKTHVQLSLPVLQVRDVLVRGFGDSVEEVLSEARQHLKDGTCGLVEVEKGVLPQLEQPYVFIKRSDARTAPHGHVMVELVAELEGIQYGRS\n",
      "MESLVPGFNEKTHVQLSLPVLQVRDVLVRGFGDSVEEVLSEARQHLKDGTCGLVEVEKGVLPQLEQPYVFIKRSDARTAPHGHVMVELVAELEGIQYGRS\n",
      "MESLVPGFNEKTHVQLSLPVLQVRDVLVRGFGDSVEEVLSEARQHLKDGTCGLVEVEKGVLPQLEQPYVFIKRSDARTAPHGHVMVELVAELEGIQYGRS\n",
      "MESLVPGFNEKTHVQLSLPVLQVRDVLVRGFGDSVEEVLSEARQHLKDGTCGLVEVEKGVLPQLEQPYVFIKRSDARTAPHGHVMVELVAELEGIQYGRS\n",
      "MESLVPGFNEKTHVQLSLPVLQVRDVLVRGFGDSVEEVLSEARQHLKDGTCGLVEVEKGVLPQLEQPYVFIKRSDARTAPHGHVMVELVAELEGIQYGRS\n",
      "MESLVPGFNEKTHVQLSLPVLQFRDVLVRGFGDSVEEVLSEARQHLKDGTCGLVEVEKGVLPQLEQPYVFIKRSDARTAPHGHVMVELVAELEGIQYGRS\n",
      "MESLVPGFNEKTHVQLSLPVLQVRDVLVRGFGDSVEEVLSEARQHLKDGTCGLVEVEKGVLPQLEQPYVFIKRSDARTAPHGHVMVELVAELEGIQYGRS\n",
      "MESLVPGFNEKTHVQLSLPVLQVRDVLVRGFGDSVEEVLSEARQHLKDGTCGLVEVEKGVLPQLEQPYVFIKRSDARTAPHGHVMVELVAELEGIQYGRS\n",
      "MESLVPGFNEKTHVQLSLPVLQVRDVLVRGFGDSVEEVLSEARQHLKDGTCGLVEVEKGVLPQLEQPYVFIKRSDARTAPHGHVMVELVAELEGIQYGRS\n",
      "MESLVPGFNEKTHVQLSLPVLQVRDVLVRGFGDSVEEVLSEARQHLKDGTCGLVEVEKGVLPQLEQPYVFIKRSDARTAPHGHVMVELVAELEGIQYGRS\n",
      "MESLVPGFNEKTHVQLSLPVLQVRDVLVRGFGDSVEEVLSEARQHLKDGTCGLVEVEKGVLPQLEQPYVFIKRSDARTAPHGHVMVELVAELEGIQYGRS\n",
      "MESLVPGFNEKTHVQLSLPVLQVRDVLVRGFGDSVEEVLSEARQHLKDGTCGLVEVEKGVLPQLEQPYVFIKRSDARTAPHGHVMVELVAELEGIQYGRS\n",
      "MESLVPGFNEKTHVQLSLPVLQVRDVLVRGFGDSVEEVLSEARQHLKDGTCGLVEVEKGVLPQLEQPYVFIKRSDARTAPHGHVMVELVAELEGIQYGRS\n",
      "MESLVPGFNEKTHVQLSLPVLQVRDVLVRGFGDSVEEVLSEARQHLKDGTCGLVEVEKGVLPQLEQPYVFIKRSDARTAPHGHVMVELVAELEGIQYGRS\n",
      "MESLVPGFNEKTHVQLSLPVLQVRDVLVRGFGDSVEEVLSEARQHLKDGTCGLVEVEKGVLPQLEQPYVFIKRSDARTAPHGHVMVELVAELEGIQYGRS\n",
      "MESLVPGFNEKTHVQLSLPVLQVRDVLVRDFGDSVEEVLSEARQHLKDGTCGLVEVEKGVLPQLEQPYVFIKRSDARTAPHGHVMVELVAELEGIQYGRS\n",
      "MESLVPGFNEKTHVQLSLPVLQVRDVLVRGFGDSVEEVLSEARQHLKDGTCGLVEVEKGVLPQLEQPYVFIKRSDARTAPHGHVMVELVAELEGIQYGRS\n",
      "MESLVPGFNEKTHVQLSLPVLQVRDVLVRGFGDSVEEVLSEARQHLKDGTCGLVEVEKGVLPQLEQPYVFIKRSDARTAPHGHVMVELVAELEGIQYGRS\n",
      "MESLVPGFNEKTHVQLSLPVLQVRDVLVRGFGDSVEEVLSEARQHLKDGTCGLVEVEKGVLPQLEQPYVFIKRSDARTAPHGHVMVELVAELEGIQYGRS\n",
      "MESLVPGFNEKTHVQLSLPVLQVRDVLVRGFGDSVEEVLSEARQHLKDGTCGLVEVEKGVLPQLEQPYVFIKRSDARTAPHGHVMVELVAELEGIQYGRS\n",
      "MESLVPGFNEKTHVQLSLPVLQVRDVLVRGFGDSVEEVLSEARQHLKDGTCGLVEVEKGVLPQLEQPYVFIKRSDARTAPHGHVMVELVAELEGIQYGRS\n",
      "MESLVPGFNEKTHVQLSLPVLQVRDVLVRGFGDSVEEVLSEARQHLKDGTCGLVEVEKGVLPQLEQPYVFIKRSDARTAPHGHVMVELVAELEGIQYGRS\n",
      "MESLVPGFNEKTHVQLSLPVLQVRDVLVRGFGDSVEEVLSEARQHLKDGTCGLVEVEKGVLPQLEQPYVFIKRSDARTAPHGHVMVELVAELEGIQYGRS\n",
      "MESLVPGFNEKTHVQLSLPVLQVRDVLVRGFGDSVEEVLSEARQHLKDGTCGLVEVEKGVLPQLEQPYVFIKRSDARTAPHGHVMVELVAELEGIQYGRS\n",
      "MESLVPGFNEKTHVQLSLPVLQVRDVLVRGFGDSVEEVLSEARQHLKDGTCGLVEVEKGVLPQLEQPYVFIKRSDARTAPHGHVMVELVAELEGIQYGRS\n",
      "MESLVPGFNEKTHVQLSLPVLQVRDVLVRGFGDSVEEVLSEARQHLKDGTCGLVEVEKGVLPQLEQPYVFIKRSDARTAPHGHVMVELVAELEGIQYGRS\n",
      "MESLVPGFNEKTHVQLSLPVLQVRDVLVRGFGDSVEEVLSEARQHLKDGTCGLVEVEKGVLPQLEQPYVFIKRSDARTAPHGHVMVELVAELEGIQYGRS\n",
      "MESLVPGFNEKTHVQLSLPVLQVRDVLVRGFGDSVEEVLSEARQHLKDGTCGLVEVEKGVLPQLEQPYVFIKRSDARTAPHGHVMVELVAELEGIQYGRS\n",
      "MESLVPGFNEKTHVQLSLPVLQVRDVLVRGFGDSVEEVLSEARQHLKDGTCGLVEVEKGVLPQLEQPYVFIKRSDARTAPHGHVMVELVAELEGIQYGRS\n",
      "MESLVPGFNEKTHVQLSLPVLQVRDVLVRGFGDSVEEVLSEARQHLKDGTCGLVEVEKGVLPQLEQPYVFIKRSDARTAPHGHVMVELVAELEGIQYGRS\n",
      "MESLVPGFNEKTHVQLSLPVLQVRDVLVRGFGDSVEEVLSEARQHLKDGTCGLVEVEKGVLPQLEQPYVFIKRSDARTAPHGHVMVELVAELEGIQYGRS\n",
      "MESLVPGFNEKTHVQLSLPVLQVRDVLVRGFGDSVEEVLSEARQHLKDGTCGLVEVEKGVLPQLEQPYVFIKRSDARTAPHGHVMVELVAELEGIQYGRS\n",
      "MESLVPGFNEKTHVQLSLPVLQVRDVLVRGFGDSVEEVLSEARQHLKDGTCGLVEVEKGVLPQLEQPYVFIKRSDARTAPHGHVMVELVAELEGIQYGRS\n",
      "MESLVPGFNEKTHVQLSLPVLQVRDVLVRGFGDSVEEVLSEARQHLKDGTCGLVEVEKGVLPQLEQPYVFIKRSDARTAPHGHVMVELVAELEGIQYGRS\n",
      "MESLVPGFNEKTHVQLSLPVLQVRDVLVRGFGDSVEEVLSEARQHLKDGTCGLVEVEKGVLPQLEQPYVFIKRSDARTAPHGHVMVELVAELEGIQYGRS\n",
      "MESLVPGFNEKTHVQLSLPVLQVRDVLVRGFGDSVEEVLSEARQHLKDGTCGLVEVEKGVLPQLEQPYVFIKRSDARTAPHGHVMVELVAELEGIQYGRS\n",
      "MESLVPGFNEKTHVQLSLPVLQVRDVLVRGFGDSVEEVLSEARQHLKDGTCGLVEVEKGVLPQLEQPYVFIKRSDARTAPHGHVMVELVAELEGIQYGRS\n",
      "MESLVPGFNEKTHVQLSLPVLQVRDVLVRGFGDSVEEVLSEARQHLKDGTCGLVEVEKGVLPQLEQPYVFIKRSDARTAPHGHVMVELVAELEGIQYGRS\n"
     ]
    }
   ],
   "source": [
    "for seq in allseq.values():\n",
    "    # print(seq[:100])\n",
    "    start = seq.find(cc[265:275].upper())\n",
    "    nseq = seq[start:].lower()\n",
    "    # print(nseq[:100])\n",
    "    if not all([x in 'atcg' for x in nseq]):\n",
    "        continue\n",
    "    print(translate(nseq[:13483-265])[:100])"
   ]
  },
  {
   "cell_type": "code",
   "execution_count": 57,
   "metadata": {},
   "outputs": [],
   "source": [
    "allseqs = list(allseq.values())"
   ]
  },
  {
   "cell_type": "code",
   "execution_count": 58,
   "metadata": {},
   "outputs": [],
   "source": [
    "# from Bio import pairwise2\n",
    "# allseqs[0][:100], allseqs[2][:100]\n",
    "# alignments = pairwise2.align.globalxx(allseqs[0], allseqs[2])"
   ]
  },
  {
   "cell_type": "code",
   "execution_count": null,
   "metadata": {},
   "outputs": [],
   "source": [
    "# from Bio.pairwise2 import format_alignment\n",
    "# for a in alignments:\n",
    "#     print(format_alignment(a))"
   ]
  },
  {
   "cell_type": "markdown",
   "metadata": {},
   "source": [
    "amino acids >> peptide >> polypeptide >> protein"
   ]
  },
  {
   "cell_type": "code",
   "execution_count": null,
   "metadata": {},
   "outputs": [],
   "source": [
    "Extracting code into "
   ]
  },
  {
   "cell_type": "code",
   "execution_count": 60,
   "metadata": {},
   "outputs": [],
   "source": [
    "%load_ext autoreload\n",
    "%autoreload 2"
   ]
  },
  {
   "cell_type": "code",
   "execution_count": 61,
   "metadata": {},
   "outputs": [],
   "source": [
    "import sys\n",
    "sys.path.append(\"/Users/antoinechoppin/dev/github/covid19\")"
   ]
  },
  {
   "cell_type": "code",
   "execution_count": 2,
   "metadata": {},
   "outputs": [],
   "source": [
    "from lib import translate, allseq, cc\n",
    "from corona import corona\n",
    "\n",
    "allseqs = list(allseq.values())"
   ]
  },
  {
   "cell_type": "code",
   "execution_count": 3,
   "metadata": {},
   "outputs": [
    {
     "data": {
      "text/plain": [
       "[('orf1a', 4405),\n",
       " ('orf1b', 2705),\n",
       " ('orf1ab', 7110),\n",
       " ('spike_glycoprotein', 1273),\n",
       " ('orf3a', 275),\n",
       " ('envelope_protein', 75),\n",
       " ('membrane_protein', 222),\n",
       " ('orf6', 61),\n",
       " ('orf7a', 121),\n",
       " ('orf7b', 43),\n",
       " ('orf8', 121),\n",
       " ('nucleocapsid_phosphoprotein', 419),\n",
       " ('orf10', 38)]"
      ]
     },
     "execution_count": 3,
     "metadata": {},
     "output_type": "execute_result"
    }
   ],
   "source": [
    "[(k, len(v)) for k,v in corona.items()]"
   ]
  }
 ],
 "metadata": {
  "kernelspec": {
   "display_name": "Python 3",
   "language": "python",
   "name": "python3"
  },
  "language_info": {
   "codemirror_mode": {
    "name": "ipython",
    "version": 3
   },
   "file_extension": ".py",
   "mimetype": "text/x-python",
   "name": "python",
   "nbconvert_exporter": "python",
   "pygments_lexer": "ipython3",
   "version": "3.8.2"
  }
 },
 "nbformat": 4,
 "nbformat_minor": 4
}
